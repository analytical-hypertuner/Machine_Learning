{
  "nbformat": 4,
  "nbformat_minor": 0,
  "metadata": {
    "colab": {
      "name": "predict_stock_price_.ipynb",
      "provenance": []
    },
    "kernelspec": {
      "name": "python3",
      "display_name": "Python 3"
    },
    "language_info": {
      "name": "python"
    }
  },
  "cells": [
    {
      "cell_type": "code",
      "execution_count": 54,
      "metadata": {
        "id": "K6r2MGj6bGNs"
      },
      "outputs": [],
      "source": [
        "\n",
        "import numpy as np\n",
        "import matplotlib.pyplot as plt\n",
        "import pandas as pd"
      ]
    },
    {
      "cell_type": "code",
      "source": [
        "df=pd.read_csv(\"/content/HCLTECH.csv\")\n",
        "df = df[['Date','Prev Close']]\n",
        "print(df)"
      ],
      "metadata": {
        "colab": {
          "base_uri": "https://localhost:8080/"
        },
        "id": "J1srsqxQbmIU",
        "outputId": "bcf4fa47-f74d-40e7-9d9c-bb57c4574ad7"
      },
      "execution_count": 55,
      "outputs": [
        {
          "output_type": "stream",
          "name": "stdout",
          "text": [
            "            Date  Prev Close\n",
            "0     2000-01-11      580.00\n",
            "1     2000-01-12     1554.45\n",
            "2     2000-01-13     1678.85\n",
            "3     2000-01-14     1813.20\n",
            "4     2000-01-17     1958.30\n",
            "...          ...         ...\n",
            "5193  2020-11-23      819.25\n",
            "5194  2020-11-24      839.20\n",
            "5195  2020-11-25      840.50\n",
            "5196  2020-11-26      824.70\n",
            "5197  2020-11-27      842.05\n",
            "\n",
            "[5198 rows x 2 columns]\n"
          ]
        }
      ]
    },
    {
      "cell_type": "code",
      "source": [
        "def adfuller_test(df):\n",
        "    result=adfuller(df)\n",
        "    #print(result)\n",
        "    labels = ['ADF Test Statistic','p-value','Lags Used','Number of Observations Used']\n",
        "    for value,label in zip(result,labels):\n",
        "        print(label+' : '+str(value) )\n",
        "    if result[1] <= 0.05:\n",
        "        print(\"strong evidence against the null hypothesis(Ho), reject the null hypothesis. Data is stationary\")\n",
        "    else:\n",
        "        print(\"weak evidence against null hypothesis, indicating it is non-stationary \")"
      ],
      "metadata": {
        "id": "CFEcpUaGX87T"
      },
      "execution_count": 56,
      "outputs": []
    },
    {
      "cell_type": "code",
      "source": [
        "adfuller_test(df['Prev Close'])"
      ],
      "metadata": {
        "colab": {
          "base_uri": "https://localhost:8080/"
        },
        "id": "LN1O72XrYriy",
        "outputId": "cc45bb05-b667-48cb-e07e-c5b98b568789"
      },
      "execution_count": 57,
      "outputs": [
        {
          "output_type": "stream",
          "name": "stdout",
          "text": [
            "ADF Test Statistic : -4.02383795285514\n",
            "p-value : 0.0012907058197707305\n",
            "Lags Used : 33\n",
            "Number of Observations Used : 5164\n",
            "strong evidence against the null hypothesis(Ho), reject the null hypothesis. Data is stationary\n"
          ]
        }
      ]
    },
    {
      "cell_type": "code",
      "source": [
        ""
      ],
      "metadata": {
        "id": "QWZ0LXkaY_AY"
      },
      "execution_count": 57,
      "outputs": []
    },
    {
      "cell_type": "code",
      "source": [
        ""
      ],
      "metadata": {
        "id": "UE-gDFQyZLQY"
      },
      "execution_count": 57,
      "outputs": []
    },
    {
      "cell_type": "code",
      "source": [
        ""
      ],
      "metadata": {
        "id": "kdFh5WnfZLTY"
      },
      "execution_count": 57,
      "outputs": []
    },
    {
      "cell_type": "code",
      "source": [
        "\n",
        "from statsmodels.tsa.stattools import adfuller\n",
        "test_result=adfuller(df['Prev Close'])\n",
        "print(test_result)\n",
        "\n",
        "df['Seasonal_Difference']=df['Prev Close']-df['Prev Close'].shift(1)\n",
        "test_result=adfuller(df['Seasonal_Difference'].dropna())\n",
        "print(test_result)\n",
        "\n",
        "df['Seasonal_Difference']=df['Prev Close']-df['Prev Close'].shift(34)\n",
        "test_result=adfuller(df['Seasonal_Difference'].dropna())\n",
        "print(test_result)\n",
        "\n"
      ],
      "metadata": {
        "colab": {
          "base_uri": "https://localhost:8080/"
        },
        "id": "hKSZfJCCbzX4",
        "outputId": "d5cebb3a-4df3-480d-c89d-60903131f766"
      },
      "execution_count": 58,
      "outputs": [
        {
          "output_type": "stream",
          "name": "stdout",
          "text": [
            "(-4.02383795285514, 0.0012907058197707305, 33, 5164, {'1%': -3.431616954601018, '5%': -2.86209986084596, '10%': -2.56706801393458}, 48833.8741194518)\n",
            "(-15.763872864896127, 1.1828348703238762e-28, 33, 5163, {'1%': -3.4316172001143523, '5%': -2.8620999693139497, '10%': -2.567068071676066}, 48832.71871212932)\n",
            "(-12.703675417086664, 1.0664373512270598e-23, 33, 5130, {'1%': -3.4316253557783787, '5%': -2.862103572487834, '10%': -2.5670699897784313}, 51752.506973694486)\n"
          ]
        }
      ]
    },
    {
      "cell_type": "code",
      "source": [
        "adfuller_test(df['Seasonal_Difference'].dropna())"
      ],
      "metadata": {
        "colab": {
          "base_uri": "https://localhost:8080/"
        },
        "id": "IMoN2Xj3ZNB4",
        "outputId": "808dcd50-21b0-41d2-bfbd-bbb3e0dc2b91"
      },
      "execution_count": 59,
      "outputs": [
        {
          "output_type": "stream",
          "name": "stdout",
          "text": [
            "ADF Test Statistic : -12.703675417086664\n",
            "p-value : 1.0664373512270598e-23\n",
            "Lags Used : 33\n",
            "Number of Observations Used : 5130\n",
            "strong evidence against the null hypothesis(Ho), reject the null hypothesis. Data is stationary\n"
          ]
        }
      ]
    },
    {
      "cell_type": "code",
      "source": [
        "import statsmodels.api as sm\n",
        "#value\n",
        "fig = plt.figure(figsize=(12,8))\n",
        "ax1 = fig.add_subplot(211)\n",
        "fig = sm.graphics.tsa.plot_acf(df['Prev Close'], lags=34, ax=ax1)\n",
        "ax2 = fig.add_subplot(212)\n",
        "fig = sm.graphics.tsa.plot_pacf(df['Prev Close'], lags=34, ax=ax2)\n",
        "plt.show()\n",
        "#seasonal diff\n",
        "fig = plt.figure(figsize=(12,8))\n",
        "ax1 = fig.add_subplot(211)\n",
        "fig = sm.graphics.tsa.plot_acf(df['Seasonal_Difference'].dropna(), lags=12, ax=ax1)\n",
        "ax2 = fig.add_subplot(212)\n",
        "fig = sm.graphics.tsa.plot_pacf(df['Seasonal_Difference'].dropna(), lags=12, ax=ax2)\n",
        "plt.show()\n"
      ],
      "metadata": {
        "colab": {
          "base_uri": "https://localhost:8080/",
          "height": 981
        },
        "id": "ahb7Mj-acIVn",
        "outputId": "2cb36942-0978-451a-fb01-5632a29ca51a"
      },
      "execution_count": 60,
      "outputs": [
        {
          "output_type": "display_data",
          "data": {
            "image/png": "[encoded data removed]",
            "text/plain": [
              "<Figure size 864x576 with 2 Axes>"
            ]
          },
          "metadata": {
            "needs_background": "light"
          }
        },
        {
          "output_type": "display_data",
          "data": {
            "image/png": "[encoded data removed]",
            "text/plain": [
              "<Figure size 864x576 with 2 Axes>"
            ]
          },
          "metadata": {
            "needs_background": "light"
          }
        }
      ]
    },
    {
      "cell_type": "code",
      "source": [
        "from statsmodels.tsa.arima_model import ARMA\n",
        "ARMAmodel=ARMA(df['Prev Close'],order=(1,1))\n",
        "ARmodel_fit=ARMAmodel.fit()\n",
        "actuals=df['Prev Close'][2000:2020]\n",
        "print(\"actuals:\",actuals)\n",
        "ypredicted=ARmodel_fit.predict(2000,2019)\n",
        "print(\"ypredict:\",ypredicted)\n"
      ],
      "metadata": {
        "colab": {
          "base_uri": "https://localhost:8080/"
        },
        "id": "w8m4YfhIcQTR",
        "outputId": "c39c2f21-e8b3-4c8f-fdf5-4c3be4c2fd55"
      },
      "execution_count": 61,
      "outputs": [
        {
          "output_type": "stream",
          "name": "stdout",
          "text": [
            "actuals: 2000    328.70\n",
            "2001    329.65\n",
            "2002    322.05\n",
            "2003    314.35\n",
            "2004    310.00\n",
            "2005    315.05\n",
            "2006    299.30\n",
            "2007    300.85\n",
            "2008    300.10\n",
            "2009    296.20\n",
            "2010    288.90\n",
            "2011    283.90\n",
            "2012    276.90\n",
            "2013    269.05\n",
            "2014    267.70\n",
            "2015    266.35\n",
            "2016    249.15\n",
            "2017    229.85\n",
            "2018    240.35\n",
            "2019    230.25\n",
            "Name: Prev Close, dtype: float64\n",
            "ypredict: 2000    318.088732\n",
            "2001    331.282496\n",
            "2002    330.661490\n",
            "2003    322.198440\n",
            "2004    314.626783\n",
            "2005    310.706488\n",
            "2006    316.884585\n",
            "2007    298.390489\n",
            "2008    302.499993\n",
            "2009    301.130956\n",
            "2010    296.922524\n",
            "2011    289.255876\n",
            "2012    284.617128\n",
            "2013    277.342767\n",
            "2014    269.450353\n",
            "2015    268.943171\n",
            "2016    267.490666\n",
            "2017    248.343474\n",
            "2018    229.100792\n",
            "2019    243.366081\n",
            "dtype: float64\n"
          ]
        }
      ]
    },
    {
      "cell_type": "code",
      "source": [
        "from sklearn.metrics import mean_absolute_error\n",
        "mae=mean_absolute_error(actuals,ypredicted)\n",
        "print('MAE:%f' %mae)\n",
        "print(\"AR MODEL FIT:\",ARmodel_fit.aic)\n"
      ],
      "metadata": {
        "colab": {
          "base_uri": "https://localhost:8080/"
        },
        "id": "ooomtC2bcWZ5",
        "outputId": "2e6bcec3-12e6-4fa4-dc93-94f4daa7896a"
      },
      "execution_count": 62,
      "outputs": [
        {
          "output_type": "stream",
          "name": "stdout",
          "text": [
            "MAE:7.999014\n",
            "AR MODEL FIT: 50823.95002169813\n"
          ]
        }
      ]
    },
    {
      "cell_type": "code",
      "source": [
        "from statsmodels.tsa.arima_model import ARMA\n",
        "from sklearn.metrics import mean_absolute_error\n",
        "import itertools \n",
        "i=j=range(0,4)\n",
        "ij=itertools.product(i,j)\n",
        "for parameters in ij:\n",
        "    try:\n",
        "        mod=ARMA(df['Prev Close'],order=parameters)\n",
        "        results=mod.fit()\n",
        "        ypredicted=results.predict(2000,2003)\n",
        "        mae=mean_absolute_error(actuals,ypredicted)\n",
        "        print('ARMA{} - MAE:{}'.format(parameters,mae))#print('ARMA{} - AIC:{}'.format(parameters, results.aic))\n",
        "    except:\n",
        "        continue\n"
      ],
      "metadata": {
        "id": "_RJMtm2bccu5"
      },
      "execution_count": null,
      "outputs": []
    },
    {
      "cell_type": "code",
      "source": [
        "from statsmodels.tsa.arima_model import ARMA\n",
        "from sklearn.metrics import mean_absolute_error\n",
        "ARMAmodel=ARMA(df['Prev Close'],order=(1,2))\n",
        "ARmodel_fit=ARMAmodel.fit()\n",
        "actuals=df['Prev Close'][2000:2020]\n",
        "print(\"actuals:\",actuals)\n",
        "ypredicted=ARmodel_fit.predict(2000,2019)\n",
        "print(ypredicted)\n",
        "mae=mean_absolute_error(actuals,ypredicted)\n",
        "print('MAE:%f' %mae)\n",
        "print(ARmodel_fit.aic)\n"
      ],
      "metadata": {
        "id": "T-CBC_sRci_p"
      },
      "execution_count": null,
      "outputs": []
    },
    {
      "cell_type": "code",
      "source": [
        "import itertools \n",
        "i=j=range(0,4)\n",
        "ij=itertools.product(i,j)\n",
        "for parameters in ij:\n",
        "    try:\n",
        "        mod=ARMA(df['Seasonal_Difference'].dropna(),order=parameters)\n",
        "        results=mod.fit()\n",
        "        ypredicted=results.predict(2000,2003)# end point included\n",
        "        mae=mean_absolute_error(actuals,ypredicted)\n",
        "        print('ARMA{} - MAE:{}'.format(parameters,mae))#print('ARMA{} - AIC:{}'.format(parameters, results.aic))\n",
        "    except:\n",
        "        continue\n",
        "df['Seasonal_Difference']\n"
      ],
      "metadata": {
        "id": "esSk4B6ocoLH"
      },
      "execution_count": null,
      "outputs": []
    },
    {
      "cell_type": "code",
      "source": [
        "from statsmodels.tsa.arima_model import ARIMA\n",
        "# fit model\n",
        "ARIMAmodel=ARIMA(df['Prev Close'],order=(1,1,1))\n",
        "\n",
        "#notice p,d and q value here\n",
        "ARIMA_model_fit=ARIMAmodel.fit()\n",
        "\n",
        "# make prediction\n",
        "actuals=df['Prev Close'][2000:2020]\n",
        "print(\"actuals for ARIMA:\",actuals)\n",
        "ypredicted=ARIMA_model_fit.predict(2000,2019)\n",
        "print(\"Ypredicted for arima:\",ypredicted)\n"
      ],
      "metadata": {
        "id": "PLuucCTJcvJ0"
      },
      "execution_count": null,
      "outputs": []
    },
    {
      "cell_type": "code",
      "source": [
        "from sklearn.metrics import mean_absolute_error\n",
        "mae=mean_absolute_error(actuals,ypredicted)\n",
        "print('MAE:%f' %mae)\n"
      ],
      "metadata": {
        "id": "J2an23xBc5L9"
      },
      "execution_count": null,
      "outputs": []
    },
    {
      "cell_type": "code",
      "source": [
        "import itertools \n",
        "p=d=q=range(0,4)\n",
        "pdq=itertools.product(p,d,q)\n",
        "for parameters in pdq:\n",
        "    try:\n",
        "        ARIMAmodel=ARIMA(df['Prev Close'],order=parameters)\n",
        "        results=ARIMAmodel.fit()\n",
        "        ypredicted=results.predict(2000,2020)# end point included\n",
        "        mae=mean_absolute_error(actuals,ypredicted)\n",
        "        print('ARiMA{} - MAE:{}'.format(parameters,mae))\n",
        "    except:\n",
        "        continue\n",
        "\n",
        "from statsmodels.tsa.arima_model import ARIMA\n",
        "ARIMAmodel=ARIMA(df['Prev Close'],order=(1,0,2))\n",
        "ARIMA_model_fit=ARIMAmodel.fit()\n",
        "\n",
        "actuals=df['Prev Close'][2000:2020]\n",
        "print(\"actuals for ARIMA:\",actuals)\n",
        "ypredicted=ARIMA_model_fit.predict(2000,2019)\n",
        "print(\"Ypredicted for arima:\",ypredicted)\n"
      ],
      "metadata": {
        "id": "3hqf2HSAc8la"
      },
      "execution_count": null,
      "outputs": []
    },
    {
      "cell_type": "code",
      "source": [
        "from sklearn.metrics import mean_absolute_error\n",
        "mae=mean_absolute_error(actuals,ypredicted)\n",
        "print('Arima MAE:%f'  %mae)\n",
        "print(ARIMA_model_fit.aic)\n",
        "\n",
        "import statsmodels.api as sm\n",
        "from sklearn.metrics import mean_absolute_error\n",
        "\n",
        "Sarima=sm.tsa.statespace.SARIMAX(df['Prev Close'],order=(1,1,1), seasonal_order=(1,0,2,8))\n",
        "Sarima_fit=Sarima.fit()\n",
        "ypredicted=Sarima_fit.predict(2000,2003)\n",
        "print(\"ypredicted for sarima:\",ypredicted)\n",
        "actuals=df['Prev Close'][2000:2004]\n",
        "mae=mean_absolute_error(actuals,ypredicted)\n",
        "print('SARIMA MAE:%f'  %mae)"
      ],
      "metadata": {
        "id": "_YcTV2O7b59w"
      },
      "execution_count": null,
      "outputs": []
    }
  ]
}