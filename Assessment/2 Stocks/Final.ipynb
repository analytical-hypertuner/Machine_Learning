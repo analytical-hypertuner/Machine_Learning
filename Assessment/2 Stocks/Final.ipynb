{
 "cells": [
  {
   "cell_type": "code",
   "execution_count": 251,
   "id": "87472599",
   "metadata": {},
   "outputs": [],
   "source": [
    "import warnings\n",
    "warnings.filterwarnings('ignore')\n",
    "import numpy as np\n",
    "import matplotlib.pyplot as plt\n",
    "import pandas as pd\n",
    "import sklearn"
   ]
  },
  {
   "cell_type": "code",
   "execution_count": 252,
   "id": "5ad94b4d",
   "metadata": {},
   "outputs": [],
   "source": [
    "master_stocks=pd.read_csv(r\"D:\\PG-DAI\\MachineLearning\\Assessment\\2 Stocks\\Stocks.csv\",index_col=0, parse_dates=True)\n"
   ]
  },
  {
   "cell_type": "code",
   "execution_count": 253,
   "id": "b6e8e84f",
   "metadata": {},
   "outputs": [],
   "source": [
    "from sklearn.preprocessing import Normalizer\n",
    "normalizer = Normalizer()\n",
    "normalized = normalizer.fit_transform(master_stocks)\n",
    "normalized = pd.DataFrame(normalized)"
   ]
  },
  {
   "cell_type": "code",
   "execution_count": 254,
   "id": "1e7833d2",
   "metadata": {},
   "outputs": [],
   "source": [
    "index = master_stocks.T.index\n",
    "normalized.index = master_stocks.index\n",
    "normalized = normalized.T\n",
    "normalized.index = master_stocks.T.index\n",
    "normalized = normalized.T"
   ]
  },
  {
   "cell_type": "code",
   "execution_count": 255,
   "id": "138dfcf6",
   "metadata": {},
   "outputs": [],
   "source": [
    "\n",
    "week_num = [x for x in range(0,963,7)]\n",
    "custom_df = pd.DataFrame()\n",
    "list = []\n",
    "for i in week_num:\n",
    "    if(i==7):\n",
    "        Data15 = normalized.T.loc[index[0]:index[7]].mean()\n",
    "        custom_df[i] = Data15\n",
    "    else:\n",
    "        Data15 = normalized.T.loc[index[i-7]:index[i]].mean()\n",
    "#         list.append(Data15)\n",
    "        custom_df[i] = Data15"
   ]
  },
  {
   "cell_type": "code",
   "execution_count": 256,
   "id": "08f6a422",
   "metadata": {},
   "outputs": [],
   "source": [
    "del custom_df[0]"
   ]
  },
  {
   "cell_type": "code",
   "execution_count": 257,
   "id": "cd0f34af",
   "metadata": {},
   "outputs": [],
   "source": [
    "dataset = normalized"
   ]
  },
  {
   "cell_type": "code",
   "execution_count": null,
   "id": "a44641c0",
   "metadata": {},
   "outputs": [],
   "source": []
  },
  {
   "cell_type": "code",
   "execution_count": 258,
   "id": "c8063c2c",
   "metadata": {},
   "outputs": [],
   "source": [
    "from sklearn.cluster import KMeans\n",
    "from sklearn.decomposition import PCA\n",
    "from sklearn.preprocessing import StandardScaler"
   ]
  },
  {
   "cell_type": "code",
   "execution_count": 259,
   "id": "0241618d",
   "metadata": {},
   "outputs": [],
   "source": [
    "pca=PCA()"
   ]
  },
  {
   "cell_type": "code",
   "execution_count": 260,
   "id": "ec5e174f",
   "metadata": {},
   "outputs": [
    {
     "data": {
      "text/plain": [
       "array([8.04404689e-02, 5.19094992e-02, 4.36165478e-02, 3.45087572e-02,\n",
       "       3.27412627e-02, 3.14581729e-02, 3.03444349e-02, 2.58773055e-02,\n",
       "       2.50243147e-02, 2.44208855e-02, 2.38435957e-02, 2.21524499e-02,\n",
       "       2.18475042e-02, 2.12363637e-02, 2.01636425e-02, 1.99710713e-02,\n",
       "       1.94534505e-02, 1.84696307e-02, 1.80950586e-02, 1.75619213e-02,\n",
       "       1.69351391e-02, 1.62717571e-02, 1.61155228e-02, 1.57215124e-02,\n",
       "       1.53369877e-02, 1.51309538e-02, 1.49817207e-02, 1.41739316e-02,\n",
       "       1.37499692e-02, 1.34650706e-02, 1.30974534e-02, 1.29956985e-02,\n",
       "       1.21881813e-02, 1.20508896e-02, 1.19313317e-02, 1.16792927e-02,\n",
       "       1.13531186e-02, 1.11888215e-02, 1.07344111e-02, 1.04579645e-02,\n",
       "       1.03078845e-02, 9.96366611e-03, 9.70631542e-03, 9.52800441e-03,\n",
       "       9.14422560e-03, 8.98942165e-03, 8.55160526e-03, 8.38159223e-03,\n",
       "       8.04082170e-03, 7.88500173e-03, 7.81652350e-03, 7.63905575e-03,\n",
       "       7.16085098e-03, 6.92838481e-03, 6.62759143e-03, 6.06418144e-03,\n",
       "       5.59293281e-03, 5.27082236e-03, 3.70505274e-03, 1.58640853e-32])"
      ]
     },
     "execution_count": 260,
     "metadata": {},
     "output_type": "execute_result"
    }
   ],
   "source": [
    "pca.fit(dataset)\n",
    "pca.explained_variance_ratio_"
   ]
  },
  {
   "cell_type": "code",
   "execution_count": 261,
   "id": "3c5649fe",
   "metadata": {},
   "outputs": [
    {
     "data": {
      "text/plain": [
       "array([0.08044047, 0.13234997, 0.17596652, 0.21047527, 0.24321654,\n",
       "       0.27467471, 0.30501914, 0.33089645, 0.35592076, 0.38034165,\n",
       "       0.40418525, 0.42633769, 0.4481852 , 0.46942156, 0.48958521,\n",
       "       0.50955628, 0.52900973, 0.54747936, 0.56557442, 0.58313634,\n",
       "       0.60007148, 0.61634323, 0.63245876, 0.64818027, 0.66351726,\n",
       "       0.67864821, 0.69362993, 0.70780386, 0.72155383, 0.7350189 ,\n",
       "       0.74811636, 0.76111205, 0.77330024, 0.78535113, 0.79728246,\n",
       "       0.80896175, 0.82031487, 0.83150369, 0.8422381 , 0.85269607,\n",
       "       0.86300395, 0.87296762, 0.88267393, 0.89220194, 0.90134616,\n",
       "       0.91033558, 0.91888719, 0.92726878, 0.9353096 , 0.9431946 ,\n",
       "       0.95101113, 0.95865018, 0.96581103, 0.97273942, 0.97936701,\n",
       "       0.98543119, 0.99102412, 0.99629495, 1.        , 1.        ])"
      ]
     },
     "execution_count": 261,
     "metadata": {},
     "output_type": "execute_result"
    }
   ],
   "source": [
    "pca.explained_variance_ratio_.cumsum()"
   ]
  },
  {
   "cell_type": "code",
   "execution_count": 262,
   "id": "83218c66",
   "metadata": {},
   "outputs": [
    {
     "data": {
      "text/plain": [
       "Text(0, 0.5, 'Cumulative Explained Variance')"
      ]
     },
     "execution_count": 262,
     "metadata": {},
     "output_type": "execute_result"
    },
    {
     "data": {
      "image/png": "[encoded data removed]",
      "text/plain": [
       "<Figure size 720x360 with 1 Axes>"
      ]
     },
     "metadata": {
      "needs_background": "light"
     },
     "output_type": "display_data"
    }
   ],
   "source": [
    "# Plot the cumulative variance explained by total number of components.\n",
    "\n",
    "# On this graph we choose the subset of components we want to keep. \n",
    "# Generally, we want to keep around 80 % - 90% of the explained variance.\n",
    "plt.figure(figsize=(10,5))\n",
    "\n",
    "plt.plot (range (1,61), pca.explained_variance_ratio_.cumsum (), marker = 'o', linestyle = '--')\n",
    "\n",
    "plt.title('Explained Variance by Components')\n",
    "\n",
    "plt.xlabel('Number of Components')\n",
    "\n",
    "plt.ylabel('Cumulative Explained Variance')"
   ]
  },
  {
   "cell_type": "code",
   "execution_count": null,
   "id": "729af959",
   "metadata": {},
   "outputs": [],
   "source": []
  },
  {
   "cell_type": "code",
   "execution_count": 263,
   "id": "b022d33c",
   "metadata": {},
   "outputs": [
    {
     "data": {
      "text/plain": [
       "array([0.08044047, 0.05190947])"
      ]
     },
     "execution_count": 263,
     "metadata": {},
     "output_type": "execute_result"
    }
   ],
   "source": [
    "pca=PCA(n_components= 2)\n",
    "pca.fit(dataset)\n",
    "pca.explained_variance_ratio_\n"
   ]
  },
  {
   "cell_type": "code",
   "execution_count": 264,
   "id": "c767f3ce",
   "metadata": {},
   "outputs": [
    {
     "name": "stdout",
     "output_type": "stream",
     "text": [
      "[[-0.11829404  0.35269177]\n",
      " [-0.15920242  0.10787641]\n",
      " [-0.03866624  0.31559332]\n",
      " [-0.06889956  0.00831471]\n",
      " [-0.00444762  0.09128061]\n",
      " [-0.27560667 -0.11622779]\n",
      " [ 0.15528921 -0.24118151]\n",
      " [-0.14046934 -0.11239481]\n",
      " [-0.2315737  -0.08183792]\n",
      " [ 0.5321846   0.08639734]\n",
      " [-0.12271577 -0.25032841]\n",
      " [-0.17212372  0.17265397]\n",
      " [-0.04493893 -0.2942698 ]\n",
      " [-0.1496847  -0.10761246]\n",
      " [-0.12245428  0.2065357 ]\n",
      " [-0.21692155  0.04973627]\n",
      " [-0.09311137 -0.13317238]\n",
      " [-0.05761917  0.28605755]\n",
      " [-0.24497203 -0.09381822]\n",
      " [ 0.102435   -0.2031019 ]\n",
      " [ 0.13172895  0.13054099]\n",
      " [-0.16708414 -0.09699969]\n",
      " [-0.19322288  0.14260284]\n",
      " [-0.02042021  0.09581976]\n",
      " [-0.12451356  0.19221228]\n",
      " [ 0.37624369 -0.06213967]\n",
      " [-0.23963784 -0.18077509]\n",
      " [ 0.56200376  0.05574762]\n",
      " [ 0.4002012  -0.01585225]\n",
      " [ 0.0993489   0.15521011]\n",
      " [ 0.03530631  0.17197151]\n",
      " [ 0.20452447  0.11365696]\n",
      " [-0.01463154 -0.06056771]\n",
      " [-0.11087199  0.22279297]\n",
      " [-0.11094857 -0.07300327]\n",
      " [-0.24402884  0.08960061]\n",
      " [ 0.01824125  0.14799181]\n",
      " [ 0.11256655 -0.25903879]\n",
      " [ 0.49765202  0.03339964]\n",
      " [ 0.26886501 -0.14659915]\n",
      " [ 0.49742741 -0.03381971]\n",
      " [ 0.3938607  -0.00282798]\n",
      " [-0.05968212 -0.32738491]\n",
      " [-0.08254763 -0.09542491]\n",
      " [-0.2164021  -0.14794015]\n",
      " [-0.197797   -0.06811069]\n",
      " [ 0.07075306 -0.25233068]\n",
      " [-0.11724346  0.1953326 ]\n",
      " [-0.10047304 -0.050481  ]\n",
      " [-0.08686889 -0.31515794]\n",
      " [-0.11301309  0.23416244]\n",
      " [-0.20272628  0.21504707]\n",
      " [ 0.08762492 -0.25329213]\n",
      " [-0.141863   -0.03190548]\n",
      " [ 0.22021807  0.15300994]\n",
      " [-0.20083092 -0.12095284]\n",
      " [ 0.41713013  0.07427241]\n",
      " [ 0.01779003 -0.27486861]\n",
      " [-0.16860926  0.07576708]\n",
      " [-0.02627773  0.32714156]]\n"
     ]
    }
   ],
   "source": [
    "df= pca.transform(dataset)\n",
    "print(df)\n",
    "df1=np.transpose(df)\n",
    "PCA1=df1[0]\n",
    "PCA2=df1[1]"
   ]
  },
  {
   "cell_type": "code",
   "execution_count": 265,
   "id": "5e5d3f1f",
   "metadata": {},
   "outputs": [],
   "source": [
    "from sklearn.cluster import KMeans"
   ]
  },
  {
   "cell_type": "code",
   "execution_count": 266,
   "id": "1ae2cda7",
   "metadata": {},
   "outputs": [
    {
     "name": "stdout",
     "output_type": "stream",
     "text": [
      "[4.720261520162064, 2.5867974057914855, 1.204683796580378, 0.7879329612267905, 0.5664378265170387, 0.4632363546161818, 0.359030608457055, 0.29046384879818976, 0.24272753387222432]\n"
     ]
    }
   ],
   "source": [
    "sse = []\n",
    "kmeans = range(1,10)\n",
    "for k in kmeans:\n",
    "    km = KMeans(n_clusters=k)\n",
    "    km.fit(df)\n",
    "    sse.append(km.inertia_)\n",
    "    \n",
    "print(sse)"
   ]
  },
  {
   "cell_type": "code",
   "execution_count": 267,
   "id": "6b0c4541",
   "metadata": {},
   "outputs": [
    {
     "data": {
      "text/plain": [
       "[<matplotlib.lines.Line2D at 0x1e5ca7b9ee0>]"
      ]
     },
     "execution_count": 267,
     "metadata": {},
     "output_type": "execute_result"
    },
    {
     "data": {
      "image/png": "[encoded data removed]",
      "text/plain": [
       "<Figure size 432x288 with 1 Axes>"
      ]
     },
     "metadata": {
      "needs_background": "light"
     },
     "output_type": "display_data"
    }
   ],
   "source": [
    "plt.xlabel('K')\n",
    "plt.ylabel('Sum of squared error')\n",
    "plt.plot(kmeans,sse)"
   ]
  },
  {
   "cell_type": "code",
   "execution_count": 268,
   "id": "388a9826",
   "metadata": {},
   "outputs": [
    {
     "data": {
      "text/plain": [
       "array([4, 3, 4, 5, 8, 9, 6, 5, 9, 2, 1, 7, 1, 5, 7, 3, 5, 4, 9, 6, 0, 5,\n",
       "       3, 8, 7, 2, 9, 2, 2, 0, 8, 0, 5, 7, 5, 3, 8, 6, 2, 6, 2, 2, 1, 5,\n",
       "       9, 9, 6, 7, 5, 1, 7, 7, 6, 5, 0, 9, 2, 1, 3, 4])"
      ]
     },
     "execution_count": 268,
     "metadata": {},
     "output_type": "execute_result"
    }
   ],
   "source": [
    "km = KMeans(n_clusters=10)\n",
    "y_predicted = km.fit_predict(df)\n",
    "y_predicted"
   ]
  },
  {
   "cell_type": "code",
   "execution_count": 269,
   "id": "f010513a",
   "metadata": {},
   "outputs": [
    {
     "data": {
      "text/plain": [
       "array([[ 0.1639551 ,  0.1381045 ],\n",
       "       [-0.05928314, -0.29240193],\n",
       "       [ 0.45958794,  0.01689717],\n",
       "       [-0.19639699,  0.09311664],\n",
       "       [-0.0602143 ,  0.32037105],\n",
       "       [-0.10697129, -0.0753247 ],\n",
       "       [ 0.13292229, -0.22592403],\n",
       "       [-0.13756377,  0.20553386],\n",
       "       [ 0.00716993,  0.12676592],\n",
       "       [-0.22954575, -0.1156661 ]])"
      ]
     },
     "execution_count": 269,
     "metadata": {},
     "output_type": "execute_result"
    }
   ],
   "source": [
    "km.cluster_centers_"
   ]
  },
  {
   "cell_type": "code",
   "execution_count": 270,
   "id": "ae36e05e",
   "metadata": {},
   "outputs": [
    {
     "data": {
      "text/html": [
       "<div>\n",
       "<style scoped>\n",
       "    .dataframe tbody tr th:only-of-type {\n",
       "        vertical-align: middle;\n",
       "    }\n",
       "\n",
       "    .dataframe tbody tr th {\n",
       "        vertical-align: top;\n",
       "    }\n",
       "\n",
       "    .dataframe thead th {\n",
       "        text-align: right;\n",
       "    }\n",
       "</style>\n",
       "<table border=\"1\" class=\"dataframe\">\n",
       "  <thead>\n",
       "    <tr style=\"text-align: right;\">\n",
       "      <th></th>\n",
       "      <th>pca1</th>\n",
       "      <th>pca2</th>\n",
       "      <th>cluster</th>\n",
       "    </tr>\n",
       "  </thead>\n",
       "  <tbody>\n",
       "    <tr>\n",
       "      <th>0</th>\n",
       "      <td>-0.118294</td>\n",
       "      <td>0.352692</td>\n",
       "      <td>4</td>\n",
       "    </tr>\n",
       "    <tr>\n",
       "      <th>1</th>\n",
       "      <td>-0.159202</td>\n",
       "      <td>0.107876</td>\n",
       "      <td>3</td>\n",
       "    </tr>\n",
       "    <tr>\n",
       "      <th>2</th>\n",
       "      <td>-0.038666</td>\n",
       "      <td>0.315593</td>\n",
       "      <td>4</td>\n",
       "    </tr>\n",
       "    <tr>\n",
       "      <th>3</th>\n",
       "      <td>-0.068900</td>\n",
       "      <td>0.008315</td>\n",
       "      <td>5</td>\n",
       "    </tr>\n",
       "    <tr>\n",
       "      <th>4</th>\n",
       "      <td>-0.004448</td>\n",
       "      <td>0.091281</td>\n",
       "      <td>8</td>\n",
       "    </tr>\n",
       "    <tr>\n",
       "      <th>5</th>\n",
       "      <td>-0.275607</td>\n",
       "      <td>-0.116228</td>\n",
       "      <td>9</td>\n",
       "    </tr>\n",
       "    <tr>\n",
       "      <th>6</th>\n",
       "      <td>0.155289</td>\n",
       "      <td>-0.241182</td>\n",
       "      <td>6</td>\n",
       "    </tr>\n",
       "    <tr>\n",
       "      <th>7</th>\n",
       "      <td>-0.140469</td>\n",
       "      <td>-0.112395</td>\n",
       "      <td>5</td>\n",
       "    </tr>\n",
       "    <tr>\n",
       "      <th>8</th>\n",
       "      <td>-0.231574</td>\n",
       "      <td>-0.081838</td>\n",
       "      <td>9</td>\n",
       "    </tr>\n",
       "    <tr>\n",
       "      <th>9</th>\n",
       "      <td>0.532185</td>\n",
       "      <td>0.086397</td>\n",
       "      <td>2</td>\n",
       "    </tr>\n",
       "    <tr>\n",
       "      <th>10</th>\n",
       "      <td>-0.122716</td>\n",
       "      <td>-0.250328</td>\n",
       "      <td>1</td>\n",
       "    </tr>\n",
       "    <tr>\n",
       "      <th>11</th>\n",
       "      <td>-0.172124</td>\n",
       "      <td>0.172654</td>\n",
       "      <td>7</td>\n",
       "    </tr>\n",
       "    <tr>\n",
       "      <th>12</th>\n",
       "      <td>-0.044939</td>\n",
       "      <td>-0.294270</td>\n",
       "      <td>1</td>\n",
       "    </tr>\n",
       "    <tr>\n",
       "      <th>13</th>\n",
       "      <td>-0.149685</td>\n",
       "      <td>-0.107612</td>\n",
       "      <td>5</td>\n",
       "    </tr>\n",
       "    <tr>\n",
       "      <th>14</th>\n",
       "      <td>-0.122454</td>\n",
       "      <td>0.206536</td>\n",
       "      <td>7</td>\n",
       "    </tr>\n",
       "    <tr>\n",
       "      <th>15</th>\n",
       "      <td>-0.216922</td>\n",
       "      <td>0.049736</td>\n",
       "      <td>3</td>\n",
       "    </tr>\n",
       "    <tr>\n",
       "      <th>16</th>\n",
       "      <td>-0.093111</td>\n",
       "      <td>-0.133172</td>\n",
       "      <td>5</td>\n",
       "    </tr>\n",
       "    <tr>\n",
       "      <th>17</th>\n",
       "      <td>-0.057619</td>\n",
       "      <td>0.286058</td>\n",
       "      <td>4</td>\n",
       "    </tr>\n",
       "    <tr>\n",
       "      <th>18</th>\n",
       "      <td>-0.244972</td>\n",
       "      <td>-0.093818</td>\n",
       "      <td>9</td>\n",
       "    </tr>\n",
       "    <tr>\n",
       "      <th>19</th>\n",
       "      <td>0.102435</td>\n",
       "      <td>-0.203102</td>\n",
       "      <td>6</td>\n",
       "    </tr>\n",
       "    <tr>\n",
       "      <th>20</th>\n",
       "      <td>0.131729</td>\n",
       "      <td>0.130541</td>\n",
       "      <td>0</td>\n",
       "    </tr>\n",
       "    <tr>\n",
       "      <th>21</th>\n",
       "      <td>-0.167084</td>\n",
       "      <td>-0.097000</td>\n",
       "      <td>5</td>\n",
       "    </tr>\n",
       "    <tr>\n",
       "      <th>22</th>\n",
       "      <td>-0.193223</td>\n",
       "      <td>0.142603</td>\n",
       "      <td>3</td>\n",
       "    </tr>\n",
       "    <tr>\n",
       "      <th>23</th>\n",
       "      <td>-0.020420</td>\n",
       "      <td>0.095820</td>\n",
       "      <td>8</td>\n",
       "    </tr>\n",
       "    <tr>\n",
       "      <th>24</th>\n",
       "      <td>-0.124514</td>\n",
       "      <td>0.192212</td>\n",
       "      <td>7</td>\n",
       "    </tr>\n",
       "    <tr>\n",
       "      <th>25</th>\n",
       "      <td>0.376244</td>\n",
       "      <td>-0.062140</td>\n",
       "      <td>2</td>\n",
       "    </tr>\n",
       "    <tr>\n",
       "      <th>26</th>\n",
       "      <td>-0.239638</td>\n",
       "      <td>-0.180775</td>\n",
       "      <td>9</td>\n",
       "    </tr>\n",
       "    <tr>\n",
       "      <th>27</th>\n",
       "      <td>0.562004</td>\n",
       "      <td>0.055748</td>\n",
       "      <td>2</td>\n",
       "    </tr>\n",
       "    <tr>\n",
       "      <th>28</th>\n",
       "      <td>0.400201</td>\n",
       "      <td>-0.015852</td>\n",
       "      <td>2</td>\n",
       "    </tr>\n",
       "    <tr>\n",
       "      <th>29</th>\n",
       "      <td>0.099349</td>\n",
       "      <td>0.155210</td>\n",
       "      <td>0</td>\n",
       "    </tr>\n",
       "    <tr>\n",
       "      <th>30</th>\n",
       "      <td>0.035306</td>\n",
       "      <td>0.171972</td>\n",
       "      <td>8</td>\n",
       "    </tr>\n",
       "    <tr>\n",
       "      <th>31</th>\n",
       "      <td>0.204524</td>\n",
       "      <td>0.113657</td>\n",
       "      <td>0</td>\n",
       "    </tr>\n",
       "    <tr>\n",
       "      <th>32</th>\n",
       "      <td>-0.014632</td>\n",
       "      <td>-0.060568</td>\n",
       "      <td>5</td>\n",
       "    </tr>\n",
       "    <tr>\n",
       "      <th>33</th>\n",
       "      <td>-0.110872</td>\n",
       "      <td>0.222793</td>\n",
       "      <td>7</td>\n",
       "    </tr>\n",
       "    <tr>\n",
       "      <th>34</th>\n",
       "      <td>-0.110949</td>\n",
       "      <td>-0.073003</td>\n",
       "      <td>5</td>\n",
       "    </tr>\n",
       "    <tr>\n",
       "      <th>35</th>\n",
       "      <td>-0.244029</td>\n",
       "      <td>0.089601</td>\n",
       "      <td>3</td>\n",
       "    </tr>\n",
       "    <tr>\n",
       "      <th>36</th>\n",
       "      <td>0.018241</td>\n",
       "      <td>0.147992</td>\n",
       "      <td>8</td>\n",
       "    </tr>\n",
       "    <tr>\n",
       "      <th>37</th>\n",
       "      <td>0.112567</td>\n",
       "      <td>-0.259039</td>\n",
       "      <td>6</td>\n",
       "    </tr>\n",
       "    <tr>\n",
       "      <th>38</th>\n",
       "      <td>0.497652</td>\n",
       "      <td>0.033400</td>\n",
       "      <td>2</td>\n",
       "    </tr>\n",
       "    <tr>\n",
       "      <th>39</th>\n",
       "      <td>0.268865</td>\n",
       "      <td>-0.146599</td>\n",
       "      <td>6</td>\n",
       "    </tr>\n",
       "    <tr>\n",
       "      <th>40</th>\n",
       "      <td>0.497427</td>\n",
       "      <td>-0.033820</td>\n",
       "      <td>2</td>\n",
       "    </tr>\n",
       "    <tr>\n",
       "      <th>41</th>\n",
       "      <td>0.393861</td>\n",
       "      <td>-0.002828</td>\n",
       "      <td>2</td>\n",
       "    </tr>\n",
       "    <tr>\n",
       "      <th>42</th>\n",
       "      <td>-0.059682</td>\n",
       "      <td>-0.327385</td>\n",
       "      <td>1</td>\n",
       "    </tr>\n",
       "    <tr>\n",
       "      <th>43</th>\n",
       "      <td>-0.082548</td>\n",
       "      <td>-0.095425</td>\n",
       "      <td>5</td>\n",
       "    </tr>\n",
       "    <tr>\n",
       "      <th>44</th>\n",
       "      <td>-0.216402</td>\n",
       "      <td>-0.147940</td>\n",
       "      <td>9</td>\n",
       "    </tr>\n",
       "    <tr>\n",
       "      <th>45</th>\n",
       "      <td>-0.197797</td>\n",
       "      <td>-0.068111</td>\n",
       "      <td>9</td>\n",
       "    </tr>\n",
       "    <tr>\n",
       "      <th>46</th>\n",
       "      <td>0.070753</td>\n",
       "      <td>-0.252331</td>\n",
       "      <td>6</td>\n",
       "    </tr>\n",
       "    <tr>\n",
       "      <th>47</th>\n",
       "      <td>-0.117243</td>\n",
       "      <td>0.195333</td>\n",
       "      <td>7</td>\n",
       "    </tr>\n",
       "    <tr>\n",
       "      <th>48</th>\n",
       "      <td>-0.100473</td>\n",
       "      <td>-0.050481</td>\n",
       "      <td>5</td>\n",
       "    </tr>\n",
       "    <tr>\n",
       "      <th>49</th>\n",
       "      <td>-0.086869</td>\n",
       "      <td>-0.315158</td>\n",
       "      <td>1</td>\n",
       "    </tr>\n",
       "    <tr>\n",
       "      <th>50</th>\n",
       "      <td>-0.113013</td>\n",
       "      <td>0.234162</td>\n",
       "      <td>7</td>\n",
       "    </tr>\n",
       "    <tr>\n",
       "      <th>51</th>\n",
       "      <td>-0.202726</td>\n",
       "      <td>0.215047</td>\n",
       "      <td>7</td>\n",
       "    </tr>\n",
       "    <tr>\n",
       "      <th>52</th>\n",
       "      <td>0.087625</td>\n",
       "      <td>-0.253292</td>\n",
       "      <td>6</td>\n",
       "    </tr>\n",
       "    <tr>\n",
       "      <th>53</th>\n",
       "      <td>-0.141863</td>\n",
       "      <td>-0.031905</td>\n",
       "      <td>5</td>\n",
       "    </tr>\n",
       "    <tr>\n",
       "      <th>54</th>\n",
       "      <td>0.220218</td>\n",
       "      <td>0.153010</td>\n",
       "      <td>0</td>\n",
       "    </tr>\n",
       "    <tr>\n",
       "      <th>55</th>\n",
       "      <td>-0.200831</td>\n",
       "      <td>-0.120953</td>\n",
       "      <td>9</td>\n",
       "    </tr>\n",
       "    <tr>\n",
       "      <th>56</th>\n",
       "      <td>0.417130</td>\n",
       "      <td>0.074272</td>\n",
       "      <td>2</td>\n",
       "    </tr>\n",
       "    <tr>\n",
       "      <th>57</th>\n",
       "      <td>0.017790</td>\n",
       "      <td>-0.274869</td>\n",
       "      <td>1</td>\n",
       "    </tr>\n",
       "    <tr>\n",
       "      <th>58</th>\n",
       "      <td>-0.168609</td>\n",
       "      <td>0.075767</td>\n",
       "      <td>3</td>\n",
       "    </tr>\n",
       "    <tr>\n",
       "      <th>59</th>\n",
       "      <td>-0.026278</td>\n",
       "      <td>0.327142</td>\n",
       "      <td>4</td>\n",
       "    </tr>\n",
       "  </tbody>\n",
       "</table>\n",
       "</div>"
      ],
      "text/plain": [
       "        pca1      pca2  cluster\n",
       "0  -0.118294  0.352692        4\n",
       "1  -0.159202  0.107876        3\n",
       "2  -0.038666  0.315593        4\n",
       "3  -0.068900  0.008315        5\n",
       "4  -0.004448  0.091281        8\n",
       "5  -0.275607 -0.116228        9\n",
       "6   0.155289 -0.241182        6\n",
       "7  -0.140469 -0.112395        5\n",
       "8  -0.231574 -0.081838        9\n",
       "9   0.532185  0.086397        2\n",
       "10 -0.122716 -0.250328        1\n",
       "11 -0.172124  0.172654        7\n",
       "12 -0.044939 -0.294270        1\n",
       "13 -0.149685 -0.107612        5\n",
       "14 -0.122454  0.206536        7\n",
       "15 -0.216922  0.049736        3\n",
       "16 -0.093111 -0.133172        5\n",
       "17 -0.057619  0.286058        4\n",
       "18 -0.244972 -0.093818        9\n",
       "19  0.102435 -0.203102        6\n",
       "20  0.131729  0.130541        0\n",
       "21 -0.167084 -0.097000        5\n",
       "22 -0.193223  0.142603        3\n",
       "23 -0.020420  0.095820        8\n",
       "24 -0.124514  0.192212        7\n",
       "25  0.376244 -0.062140        2\n",
       "26 -0.239638 -0.180775        9\n",
       "27  0.562004  0.055748        2\n",
       "28  0.400201 -0.015852        2\n",
       "29  0.099349  0.155210        0\n",
       "30  0.035306  0.171972        8\n",
       "31  0.204524  0.113657        0\n",
       "32 -0.014632 -0.060568        5\n",
       "33 -0.110872  0.222793        7\n",
       "34 -0.110949 -0.073003        5\n",
       "35 -0.244029  0.089601        3\n",
       "36  0.018241  0.147992        8\n",
       "37  0.112567 -0.259039        6\n",
       "38  0.497652  0.033400        2\n",
       "39  0.268865 -0.146599        6\n",
       "40  0.497427 -0.033820        2\n",
       "41  0.393861 -0.002828        2\n",
       "42 -0.059682 -0.327385        1\n",
       "43 -0.082548 -0.095425        5\n",
       "44 -0.216402 -0.147940        9\n",
       "45 -0.197797 -0.068111        9\n",
       "46  0.070753 -0.252331        6\n",
       "47 -0.117243  0.195333        7\n",
       "48 -0.100473 -0.050481        5\n",
       "49 -0.086869 -0.315158        1\n",
       "50 -0.113013  0.234162        7\n",
       "51 -0.202726  0.215047        7\n",
       "52  0.087625 -0.253292        6\n",
       "53 -0.141863 -0.031905        5\n",
       "54  0.220218  0.153010        0\n",
       "55 -0.200831 -0.120953        9\n",
       "56  0.417130  0.074272        2\n",
       "57  0.017790 -0.274869        1\n",
       "58 -0.168609  0.075767        3\n",
       "59 -0.026278  0.327142        4"
      ]
     },
     "execution_count": 270,
     "metadata": {},
     "output_type": "execute_result"
    }
   ],
   "source": [
    "df_plot= pd.DataFrame()\n",
    "df_plot['pca1']=np.transpose(PCA1)\n",
    "df_plot['pca2']=np.transpose(PCA2)\n",
    "df_plot['cluster']=y_predicted\n",
    "df_plot"
   ]
  },
  {
   "cell_type": "code",
   "execution_count": 271,
   "id": "335be497",
   "metadata": {},
   "outputs": [],
   "source": [
    "df_plot1 = df_plot[df_plot.cluster==0]\n",
    "df_plot2 = df_plot[df_plot.cluster==1]\n",
    "df_plot3 = df_plot[df_plot.cluster==2]\n",
    "df_plot4 = df_plot[df_plot.cluster==3]\n",
    "df_plot5 = df_plot[df_plot.cluster==4]\n",
    "df_plot6 = df_plot[df_plot.cluster==5]\n",
    "df_plot7 = df_plot[df_plot.cluster==6]\n",
    "df_plot8 = df_plot[df_plot.cluster==7]\n",
    "df_plot9 = df_plot[df_plot.cluster==8]\n",
    "df_plot10 = df_plot[df_plot.cluster==9]"
   ]
  },
  {
   "cell_type": "code",
   "execution_count": 274,
   "id": "82ae4f03",
   "metadata": {},
   "outputs": [
    {
     "data": {
      "text/plain": [
       "<matplotlib.collections.PathCollection at 0x1e5cb8c18b0>"
      ]
     },
     "execution_count": 274,
     "metadata": {},
     "output_type": "execute_result"
    },
    {
     "data": {
      "image/png": "[encoded data removed]",
      "text/plain": [
       "<Figure size 432x288 with 1 Axes>"
      ]
     },
     "metadata": {
      "needs_background": "light"
     },
     "output_type": "display_data"
    }
   ],
   "source": [
    "plt.scatter(df_plot1['pca1'],df_plot1['pca2'],color='green',label='cluster 1')\n",
    "plt.scatter(df_plot2['pca1'],df_plot2['pca2'],color='red',label='cluster 2')\n",
    "plt.scatter(df_plot3['pca1'],df_plot3['pca2'],color='yellow',label='cluster 3')\n",
    "plt.scatter(df_plot4['pca1'],df_plot4['pca2'],color='orange',label='cluster 4')\n",
    "plt.scatter(df_plot5['pca1'],df_plot5['pca2'],color='yellow',label='cluster 5')\n",
    "plt.scatter(df_plot6['pca1'],df_plot6['pca2'],color='pink',label='cluster 6')\n",
    "plt.scatter(df_plot7['pca1'],df_plot7['pca2'],color='green',label='cluster 7')\n",
    "plt.scatter(df_plot8['pca1'],df_plot8['pca2'],color='red',label='cluster 8')\n",
    "plt.scatter(df_plot9['pca1'],df_plot9['pca2'],color='purple',label='cluster 9')\n",
    "plt.scatter(df_plot10['pca1'],df_plot10['pca2'],color='blue',label='cluster 10')\n",
    "\n",
    "plt.scatter(km.cluster_centers_[:,0],km.cluster_centers_[:,1],color='black',marker='*',label='centroid')\n",
    "# plt.legend()"
   ]
  },
  {
   "cell_type": "code",
   "execution_count": 273,
   "id": "88f409ff",
   "metadata": {},
   "outputs": [
    {
     "data": {
      "text/plain": [
       "\"C:\\\\Users\\\\God's Fav\""
      ]
     },
     "execution_count": 273,
     "metadata": {},
     "output_type": "execute_result"
    }
   ],
   "source": [
    "pwd"
   ]
  },
  {
   "cell_type": "code",
   "execution_count": null,
   "id": "00c62789",
   "metadata": {},
   "outputs": [],
   "source": []
  }
 ],
 "metadata": {
  "kernelspec": {
   "display_name": "Python 3 (ipykernel)",
   "language": "python",
   "name": "python3"
  },
  "language_info": {
   "codemirror_mode": {
    "name": "ipython",
    "version": 3
   },
   "file_extension": ".py",
   "mimetype": "text/x-python",
   "name": "python",
   "nbconvert_exporter": "python",
   "pygments_lexer": "ipython3",
   "version": "3.8.12"
  }
 },
 "nbformat": 4,
 "nbformat_minor": 5
}
