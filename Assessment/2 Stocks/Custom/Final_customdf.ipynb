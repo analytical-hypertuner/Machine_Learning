{
 "cells": [
  {
   "cell_type": "code",
   "execution_count": 275,
   "id": "87472599",
   "metadata": {},
   "outputs": [],
   "source": [
    "import warnings\n",
    "warnings.filterwarnings('ignore')\n",
    "import numpy as np\n",
    "import matplotlib.pyplot as plt\n",
    "import pandas as pd\n",
    "import sklearn"
   ]
  },
  {
   "cell_type": "code",
   "execution_count": 276,
   "id": "2be7f8e0",
   "metadata": {},
   "outputs": [],
   "source": [
    "master_stocks=pd.read_csv(r\"D:\\PG-DAI\\MachineLearning\\Assessment\\2 Stocks\\Stocks.csv\",index_col=0, parse_dates=True)\n"
   ]
  },
  {
   "cell_type": "code",
   "execution_count": 277,
   "id": "c8d0a85f",
   "metadata": {},
   "outputs": [],
   "source": [
    "from sklearn.preprocessing import Normalizer\n",
    "normalizer = Normalizer()\n",
    "normalized = normalizer.fit_transform(master_stocks)\n",
    "normalized = pd.DataFrame(normalized)"
   ]
  },
  {
   "cell_type": "code",
   "execution_count": 278,
   "id": "acae87b8",
   "metadata": {},
   "outputs": [],
   "source": [
    "index = master_stocks.T.index\n",
    "normalized.index = master_stocks.index\n",
    "normalized = normalized.T\n",
    "normalized.index = master_stocks.T.index\n",
    "normalized = normalized.T"
   ]
  },
  {
   "cell_type": "code",
   "execution_count": 279,
   "id": "5accb7a9",
   "metadata": {},
   "outputs": [],
   "source": [
    "\n",
    "week_num = [x for x in range(0,963,7)]\n",
    "custom_df = pd.DataFrame()\n",
    "list = []\n",
    "for i in week_num:\n",
    "    if(i==7):\n",
    "        Data15 = normalized.T.loc[index[0]:index[7]].mean()\n",
    "        custom_df[i] = Data15\n",
    "    else:\n",
    "        Data15 = normalized.T.loc[index[i-7]:index[i]].mean()\n",
    "#         list.append(Data15)\n",
    "        custom_df[i] = Data15"
   ]
  },
  {
   "cell_type": "code",
   "execution_count": 280,
   "id": "af8247ff",
   "metadata": {},
   "outputs": [],
   "source": [
    "del custom_df[0]"
   ]
  },
  {
   "cell_type": "code",
   "execution_count": 281,
   "id": "de485468",
   "metadata": {},
   "outputs": [],
   "source": [
    "dataset = custom_df"
   ]
  },
  {
   "cell_type": "code",
   "execution_count": null,
   "id": "76066b12",
   "metadata": {},
   "outputs": [],
   "source": []
  },
  {
   "cell_type": "code",
   "execution_count": 282,
   "id": "c8063c2c",
   "metadata": {},
   "outputs": [],
   "source": [
    "from sklearn.cluster import KMeans\n",
    "from sklearn.decomposition import PCA\n",
    "from sklearn.preprocessing import StandardScaler"
   ]
  },
  {
   "cell_type": "code",
   "execution_count": 283,
   "id": "0241618d",
   "metadata": {},
   "outputs": [],
   "source": [
    "pca=PCA()"
   ]
  },
  {
   "cell_type": "code",
   "execution_count": 284,
   "id": "ec5e174f",
   "metadata": {},
   "outputs": [
    {
     "data": {
      "text/plain": [
       "array([1.15185212e-01, 6.15639081e-02, 5.12857905e-02, 4.43884346e-02,\n",
       "       4.30770972e-02, 3.87488686e-02, 3.42430288e-02, 3.36650169e-02,\n",
       "       3.10300125e-02, 3.00252142e-02, 2.87179370e-02, 2.75829783e-02,\n",
       "       2.47622471e-02, 2.33290120e-02, 2.21797676e-02, 2.14671271e-02,\n",
       "       2.02166109e-02, 1.89381302e-02, 1.85677379e-02, 1.66693075e-02,\n",
       "       1.55767530e-02, 1.54985450e-02, 1.49893165e-02, 1.47343943e-02,\n",
       "       1.42167716e-02, 1.34904715e-02, 1.32006438e-02, 1.27980827e-02,\n",
       "       1.19458882e-02, 1.12023852e-02, 1.10072857e-02, 1.06766159e-02,\n",
       "       9.90735792e-03, 9.52003737e-03, 8.70162829e-03, 8.38759561e-03,\n",
       "       7.64010473e-03, 7.50346872e-03, 7.08524827e-03, 6.36005399e-03,\n",
       "       6.31054299e-03, 5.81817477e-03, 5.34920129e-03, 5.17916731e-03,\n",
       "       5.07158041e-03, 4.73206830e-03, 4.59280172e-03, 4.30993672e-03,\n",
       "       3.94484416e-03, 3.63569908e-03, 3.28619858e-03, 3.23031620e-03,\n",
       "       2.66063975e-03, 2.46751949e-03, 2.31287811e-03, 2.20595761e-03,\n",
       "       1.72116746e-03, 1.55753722e-03, 1.52768231e-03, 2.27162776e-32])"
      ]
     },
     "execution_count": 284,
     "metadata": {},
     "output_type": "execute_result"
    }
   ],
   "source": [
    "pca.fit(dataset)\n",
    "pca.explained_variance_ratio_"
   ]
  },
  {
   "cell_type": "code",
   "execution_count": 285,
   "id": "3c5649fe",
   "metadata": {},
   "outputs": [
    {
     "data": {
      "text/plain": [
       "array([0.11518521, 0.17674912, 0.22803491, 0.27242334, 0.31550044,\n",
       "       0.35424931, 0.38849234, 0.42215736, 0.45318737, 0.48321258,\n",
       "       0.51193052, 0.5395135 , 0.56427575, 0.58760476, 0.60978452,\n",
       "       0.63125165, 0.65146826, 0.67040639, 0.68897413, 0.70564344,\n",
       "       0.72122019, 0.73671874, 0.75170805, 0.76644245, 0.78065922,\n",
       "       0.79414969, 0.80735033, 0.82014842, 0.8320943 , 0.84329669,\n",
       "       0.85430398, 0.86498059, 0.87488795, 0.88440799, 0.89310962,\n",
       "       0.90149721, 0.90913732, 0.91664078, 0.92372603, 0.93008609,\n",
       "       0.93639663, 0.9422148 , 0.94756401, 0.95274317, 0.95781475,\n",
       "       0.96254682, 0.96713962, 0.97144956, 0.9753944 , 0.9790301 ,\n",
       "       0.9823163 , 0.98554662, 0.98820726, 0.99067478, 0.99298766,\n",
       "       0.99519361, 0.99691478, 0.99847232, 1.        , 1.        ])"
      ]
     },
     "execution_count": 285,
     "metadata": {},
     "output_type": "execute_result"
    }
   ],
   "source": [
    "pca.explained_variance_ratio_.cumsum()"
   ]
  },
  {
   "cell_type": "code",
   "execution_count": 286,
   "id": "83218c66",
   "metadata": {},
   "outputs": [
    {
     "data": {
      "text/plain": [
       "Text(0, 0.5, 'Cumulative Explained Variance')"
      ]
     },
     "execution_count": 286,
     "metadata": {},
     "output_type": "execute_result"
    },
    {
     "data": {
      "image/png": "[encoded data removed]",
      "text/plain": [
       "<Figure size 720x360 with 1 Axes>"
      ]
     },
     "metadata": {
      "needs_background": "light"
     },
     "output_type": "display_data"
    }
   ],
   "source": [
    "# Plot the cumulative variance explained by total number of components.\n",
    "\n",
    "# On this graph we choose the subset of components we want to keep. \n",
    "# Generally, we want to keep around 80 % - 90% of the explained variance.\n",
    "plt.figure(figsize=(10,5))\n",
    "\n",
    "plt.plot (range (1,61), pca.explained_variance_ratio_.cumsum (), marker = 'o', linestyle = '--')\n",
    "\n",
    "plt.title('Explained Variance by Components')\n",
    "\n",
    "plt.xlabel('Number of Components')\n",
    "\n",
    "plt.ylabel('Cumulative Explained Variance')"
   ]
  },
  {
   "cell_type": "code",
   "execution_count": null,
   "id": "729af959",
   "metadata": {},
   "outputs": [],
   "source": []
  },
  {
   "cell_type": "code",
   "execution_count": 287,
   "id": "b022d33c",
   "metadata": {},
   "outputs": [
    {
     "data": {
      "text/plain": [
       "array([0.11518521, 0.06156391])"
      ]
     },
     "execution_count": 287,
     "metadata": {},
     "output_type": "execute_result"
    }
   ],
   "source": [
    "pca=PCA(n_components= 2)\n",
    "pca.fit(dataset)\n",
    "pca.explained_variance_ratio_\n"
   ]
  },
  {
   "cell_type": "code",
   "execution_count": 288,
   "id": "c767f3ce",
   "metadata": {},
   "outputs": [
    {
     "name": "stdout",
     "output_type": "stream",
     "text": [
      "[[-0.0125523  -0.00680774]\n",
      " [-0.02154652 -0.0433906 ]\n",
      " [ 0.00975332  0.0124307 ]\n",
      " [-0.00740795 -0.00741061]\n",
      " [-0.00622924  0.00484245]\n",
      " [-0.05628879 -0.05996524]\n",
      " [ 0.03942691  0.048471  ]\n",
      " [-0.02088516  0.024726  ]\n",
      " [-0.06998658  0.0328736 ]\n",
      " [ 0.08210763 -0.00577556]\n",
      " [-0.01875792  0.04340521]\n",
      " [-0.0253272  -0.02467512]\n",
      " [-0.01932779  0.04288842]\n",
      " [-0.02748194  0.02518409]\n",
      " [-0.00930608 -0.00684038]\n",
      " [-0.04996844 -0.03394563]\n",
      " [-0.01757079 -0.00580819]\n",
      " [-0.00024993 -0.03041926]\n",
      " [-0.04453373 -0.04606934]\n",
      " [ 0.01808078  0.0234393 ]\n",
      " [ 0.02562705 -0.00734018]\n",
      " [-0.04506024  0.04461851]\n",
      " [-0.01940754 -0.02068468]\n",
      " [-0.00940203  0.0228709 ]\n",
      " [ 0.004076   -0.01671532]\n",
      " [ 0.05361492 -0.0297001 ]\n",
      " [-0.04536073 -0.03883196]\n",
      " [ 0.10228692 -0.0106367 ]\n",
      " [ 0.06570608 -0.00875662]\n",
      " [ 0.01392765  0.00993309]\n",
      " [ 0.02489042 -0.01671934]\n",
      " [ 0.05148864 -0.0165494 ]\n",
      " [-0.00140248  0.0112839 ]\n",
      " [-0.02783406 -0.01272733]\n",
      " [-0.01984208 -0.01830885]\n",
      " [-0.0428112  -0.01430388]\n",
      " [-0.00216387  0.01273555]\n",
      " [ 0.01415932  0.02835036]\n",
      " [ 0.05907904 -0.02482812]\n",
      " [ 0.0545347   0.00077411]\n",
      " [ 0.06230811 -0.00021638]\n",
      " [ 0.05230005  0.00802347]\n",
      " [ 0.00272911  0.0628577 ]\n",
      " [-0.01299354  0.01980972]\n",
      " [-0.03835463  0.02364271]\n",
      " [-0.0415396   0.00066646]\n",
      " [ 0.01104303  0.03603868]\n",
      " [-0.00623491 -0.02544158]\n",
      " [-0.03427658 -0.00019472]\n",
      " [-0.01594899  0.0326655 ]\n",
      " [ 0.00197084 -0.04404144]\n",
      " [-0.01685837  0.00212297]\n",
      " [ 0.01434412  0.03749812]\n",
      " [-0.02659175  0.00192675]\n",
      " [ 0.03311507 -0.02059726]\n",
      " [-0.03357289 -0.00604073]\n",
      " [ 0.05825496 -0.00991354]\n",
      " [ 0.00144767  0.03734966]\n",
      " [-0.02126539 -0.00934587]\n",
      " [ 0.01206886 -0.02842724]]\n"
     ]
    }
   ],
   "source": [
    "df= pca.transform(dataset)\n",
    "print(df)\n",
    "df1=np.transpose(df)\n",
    "PCA1=df1[0]\n",
    "PCA2=df1[1]"
   ]
  },
  {
   "cell_type": "code",
   "execution_count": 289,
   "id": "5e5d3f1f",
   "metadata": {},
   "outputs": [],
   "source": [
    "from sklearn.cluster import KMeans"
   ]
  },
  {
   "cell_type": "code",
   "execution_count": 290,
   "id": "1ae2cda7",
   "metadata": {},
   "outputs": [
    {
     "name": "stdout",
     "output_type": "stream",
     "text": [
      "[0.12268329268657943, 0.06737709569813136, 0.0384813208558734, 0.030777531641940203, 0.02452014371600446, 0.01818335111576915, 0.015948131658061224, 0.01344863846251134, 0.011488033595044989]\n"
     ]
    }
   ],
   "source": [
    "sse = []\n",
    "kmeans = range(1,10)\n",
    "for k in kmeans:\n",
    "    km = KMeans(n_clusters=k)\n",
    "    km.fit(df)\n",
    "    sse.append(km.inertia_)\n",
    "    \n",
    "print(sse)"
   ]
  },
  {
   "cell_type": "code",
   "execution_count": 291,
   "id": "6b0c4541",
   "metadata": {},
   "outputs": [
    {
     "data": {
      "text/plain": [
       "[<matplotlib.lines.Line2D at 0x1e5cb910190>]"
      ]
     },
     "execution_count": 291,
     "metadata": {},
     "output_type": "execute_result"
    },
    {
     "data": {
      "image/png": "[encoded data removed]",
      "text/plain": [
       "<Figure size 432x288 with 1 Axes>"
      ]
     },
     "metadata": {
      "needs_background": "light"
     },
     "output_type": "display_data"
    }
   ],
   "source": [
    "plt.xlabel('K')\n",
    "plt.ylabel('Sum of squared error')\n",
    "plt.plot(kmeans,sse)"
   ]
  },
  {
   "cell_type": "code",
   "execution_count": 292,
   "id": "388a9826",
   "metadata": {},
   "outputs": [
    {
     "data": {
      "text/plain": [
       "array([0, 6, 8, 0, 8, 6, 2, 4, 7, 1, 4, 0, 4, 4, 0, 6, 0, 9, 6, 2, 5, 7,\n",
       "       0, 4, 9, 1, 6, 1, 1, 8, 5, 1, 8, 3, 0, 3, 8, 2, 1, 1, 1, 1, 2, 4,\n",
       "       4, 3, 2, 9, 3, 4, 9, 0, 2, 3, 5, 3, 1, 2, 0, 9])"
      ]
     },
     "execution_count": 292,
     "metadata": {},
     "output_type": "execute_result"
    }
   ],
   "source": [
    "km = KMeans(n_clusters=10)\n",
    "y_predicted = km.fit_predict(df)\n",
    "y_predicted"
   ]
  },
  {
   "cell_type": "code",
   "execution_count": 293,
   "id": "f010513a",
   "metadata": {},
   "outputs": [
    {
     "data": {
      "text/plain": [
       "array([[-0.0166153 , -0.01086205],\n",
       "       [ 0.06416811, -0.00975789],\n",
       "       [ 0.01446156,  0.03914355],\n",
       "       [-0.03443768, -0.00511224],\n",
       "       [-0.020394  ,  0.02939907],\n",
       "       [ 0.02787751, -0.01488559],\n",
       "       [-0.04353964, -0.04444056],\n",
       "       [-0.05752341,  0.03874606],\n",
       "       [ 0.00277707,  0.01024514],\n",
       "       [ 0.00232617, -0.02900897]])"
      ]
     },
     "execution_count": 293,
     "metadata": {},
     "output_type": "execute_result"
    }
   ],
   "source": [
    "km.cluster_centers_"
   ]
  },
  {
   "cell_type": "code",
   "execution_count": 294,
   "id": "ae36e05e",
   "metadata": {},
   "outputs": [
    {
     "data": {
      "text/html": [
       "<div>\n",
       "<style scoped>\n",
       "    .dataframe tbody tr th:only-of-type {\n",
       "        vertical-align: middle;\n",
       "    }\n",
       "\n",
       "    .dataframe tbody tr th {\n",
       "        vertical-align: top;\n",
       "    }\n",
       "\n",
       "    .dataframe thead th {\n",
       "        text-align: right;\n",
       "    }\n",
       "</style>\n",
       "<table border=\"1\" class=\"dataframe\">\n",
       "  <thead>\n",
       "    <tr style=\"text-align: right;\">\n",
       "      <th></th>\n",
       "      <th>pca1</th>\n",
       "      <th>pca2</th>\n",
       "      <th>cluster</th>\n",
       "    </tr>\n",
       "  </thead>\n",
       "  <tbody>\n",
       "    <tr>\n",
       "      <th>0</th>\n",
       "      <td>-0.012552</td>\n",
       "      <td>-0.006808</td>\n",
       "      <td>0</td>\n",
       "    </tr>\n",
       "    <tr>\n",
       "      <th>1</th>\n",
       "      <td>-0.021547</td>\n",
       "      <td>-0.043391</td>\n",
       "      <td>6</td>\n",
       "    </tr>\n",
       "    <tr>\n",
       "      <th>2</th>\n",
       "      <td>0.009753</td>\n",
       "      <td>0.012431</td>\n",
       "      <td>8</td>\n",
       "    </tr>\n",
       "    <tr>\n",
       "      <th>3</th>\n",
       "      <td>-0.007408</td>\n",
       "      <td>-0.007411</td>\n",
       "      <td>0</td>\n",
       "    </tr>\n",
       "    <tr>\n",
       "      <th>4</th>\n",
       "      <td>-0.006229</td>\n",
       "      <td>0.004842</td>\n",
       "      <td>8</td>\n",
       "    </tr>\n",
       "    <tr>\n",
       "      <th>5</th>\n",
       "      <td>-0.056289</td>\n",
       "      <td>-0.059965</td>\n",
       "      <td>6</td>\n",
       "    </tr>\n",
       "    <tr>\n",
       "      <th>6</th>\n",
       "      <td>0.039427</td>\n",
       "      <td>0.048471</td>\n",
       "      <td>2</td>\n",
       "    </tr>\n",
       "    <tr>\n",
       "      <th>7</th>\n",
       "      <td>-0.020885</td>\n",
       "      <td>0.024726</td>\n",
       "      <td>4</td>\n",
       "    </tr>\n",
       "    <tr>\n",
       "      <th>8</th>\n",
       "      <td>-0.069987</td>\n",
       "      <td>0.032874</td>\n",
       "      <td>7</td>\n",
       "    </tr>\n",
       "    <tr>\n",
       "      <th>9</th>\n",
       "      <td>0.082108</td>\n",
       "      <td>-0.005776</td>\n",
       "      <td>1</td>\n",
       "    </tr>\n",
       "    <tr>\n",
       "      <th>10</th>\n",
       "      <td>-0.018758</td>\n",
       "      <td>0.043405</td>\n",
       "      <td>4</td>\n",
       "    </tr>\n",
       "    <tr>\n",
       "      <th>11</th>\n",
       "      <td>-0.025327</td>\n",
       "      <td>-0.024675</td>\n",
       "      <td>0</td>\n",
       "    </tr>\n",
       "    <tr>\n",
       "      <th>12</th>\n",
       "      <td>-0.019328</td>\n",
       "      <td>0.042888</td>\n",
       "      <td>4</td>\n",
       "    </tr>\n",
       "    <tr>\n",
       "      <th>13</th>\n",
       "      <td>-0.027482</td>\n",
       "      <td>0.025184</td>\n",
       "      <td>4</td>\n",
       "    </tr>\n",
       "    <tr>\n",
       "      <th>14</th>\n",
       "      <td>-0.009306</td>\n",
       "      <td>-0.006840</td>\n",
       "      <td>0</td>\n",
       "    </tr>\n",
       "    <tr>\n",
       "      <th>15</th>\n",
       "      <td>-0.049968</td>\n",
       "      <td>-0.033946</td>\n",
       "      <td>6</td>\n",
       "    </tr>\n",
       "    <tr>\n",
       "      <th>16</th>\n",
       "      <td>-0.017571</td>\n",
       "      <td>-0.005808</td>\n",
       "      <td>0</td>\n",
       "    </tr>\n",
       "    <tr>\n",
       "      <th>17</th>\n",
       "      <td>-0.000250</td>\n",
       "      <td>-0.030419</td>\n",
       "      <td>9</td>\n",
       "    </tr>\n",
       "    <tr>\n",
       "      <th>18</th>\n",
       "      <td>-0.044534</td>\n",
       "      <td>-0.046069</td>\n",
       "      <td>6</td>\n",
       "    </tr>\n",
       "    <tr>\n",
       "      <th>19</th>\n",
       "      <td>0.018081</td>\n",
       "      <td>0.023439</td>\n",
       "      <td>2</td>\n",
       "    </tr>\n",
       "    <tr>\n",
       "      <th>20</th>\n",
       "      <td>0.025627</td>\n",
       "      <td>-0.007340</td>\n",
       "      <td>5</td>\n",
       "    </tr>\n",
       "    <tr>\n",
       "      <th>21</th>\n",
       "      <td>-0.045060</td>\n",
       "      <td>0.044619</td>\n",
       "      <td>7</td>\n",
       "    </tr>\n",
       "    <tr>\n",
       "      <th>22</th>\n",
       "      <td>-0.019408</td>\n",
       "      <td>-0.020685</td>\n",
       "      <td>0</td>\n",
       "    </tr>\n",
       "    <tr>\n",
       "      <th>23</th>\n",
       "      <td>-0.009402</td>\n",
       "      <td>0.022871</td>\n",
       "      <td>4</td>\n",
       "    </tr>\n",
       "    <tr>\n",
       "      <th>24</th>\n",
       "      <td>0.004076</td>\n",
       "      <td>-0.016715</td>\n",
       "      <td>9</td>\n",
       "    </tr>\n",
       "    <tr>\n",
       "      <th>25</th>\n",
       "      <td>0.053615</td>\n",
       "      <td>-0.029700</td>\n",
       "      <td>1</td>\n",
       "    </tr>\n",
       "    <tr>\n",
       "      <th>26</th>\n",
       "      <td>-0.045361</td>\n",
       "      <td>-0.038832</td>\n",
       "      <td>6</td>\n",
       "    </tr>\n",
       "    <tr>\n",
       "      <th>27</th>\n",
       "      <td>0.102287</td>\n",
       "      <td>-0.010637</td>\n",
       "      <td>1</td>\n",
       "    </tr>\n",
       "    <tr>\n",
       "      <th>28</th>\n",
       "      <td>0.065706</td>\n",
       "      <td>-0.008757</td>\n",
       "      <td>1</td>\n",
       "    </tr>\n",
       "    <tr>\n",
       "      <th>29</th>\n",
       "      <td>0.013928</td>\n",
       "      <td>0.009933</td>\n",
       "      <td>8</td>\n",
       "    </tr>\n",
       "    <tr>\n",
       "      <th>30</th>\n",
       "      <td>0.024890</td>\n",
       "      <td>-0.016719</td>\n",
       "      <td>5</td>\n",
       "    </tr>\n",
       "    <tr>\n",
       "      <th>31</th>\n",
       "      <td>0.051489</td>\n",
       "      <td>-0.016549</td>\n",
       "      <td>1</td>\n",
       "    </tr>\n",
       "    <tr>\n",
       "      <th>32</th>\n",
       "      <td>-0.001402</td>\n",
       "      <td>0.011284</td>\n",
       "      <td>8</td>\n",
       "    </tr>\n",
       "    <tr>\n",
       "      <th>33</th>\n",
       "      <td>-0.027834</td>\n",
       "      <td>-0.012727</td>\n",
       "      <td>3</td>\n",
       "    </tr>\n",
       "    <tr>\n",
       "      <th>34</th>\n",
       "      <td>-0.019842</td>\n",
       "      <td>-0.018309</td>\n",
       "      <td>0</td>\n",
       "    </tr>\n",
       "    <tr>\n",
       "      <th>35</th>\n",
       "      <td>-0.042811</td>\n",
       "      <td>-0.014304</td>\n",
       "      <td>3</td>\n",
       "    </tr>\n",
       "    <tr>\n",
       "      <th>36</th>\n",
       "      <td>-0.002164</td>\n",
       "      <td>0.012736</td>\n",
       "      <td>8</td>\n",
       "    </tr>\n",
       "    <tr>\n",
       "      <th>37</th>\n",
       "      <td>0.014159</td>\n",
       "      <td>0.028350</td>\n",
       "      <td>2</td>\n",
       "    </tr>\n",
       "    <tr>\n",
       "      <th>38</th>\n",
       "      <td>0.059079</td>\n",
       "      <td>-0.024828</td>\n",
       "      <td>1</td>\n",
       "    </tr>\n",
       "    <tr>\n",
       "      <th>39</th>\n",
       "      <td>0.054535</td>\n",
       "      <td>0.000774</td>\n",
       "      <td>1</td>\n",
       "    </tr>\n",
       "    <tr>\n",
       "      <th>40</th>\n",
       "      <td>0.062308</td>\n",
       "      <td>-0.000216</td>\n",
       "      <td>1</td>\n",
       "    </tr>\n",
       "    <tr>\n",
       "      <th>41</th>\n",
       "      <td>0.052300</td>\n",
       "      <td>0.008023</td>\n",
       "      <td>1</td>\n",
       "    </tr>\n",
       "    <tr>\n",
       "      <th>42</th>\n",
       "      <td>0.002729</td>\n",
       "      <td>0.062858</td>\n",
       "      <td>2</td>\n",
       "    </tr>\n",
       "    <tr>\n",
       "      <th>43</th>\n",
       "      <td>-0.012994</td>\n",
       "      <td>0.019810</td>\n",
       "      <td>4</td>\n",
       "    </tr>\n",
       "    <tr>\n",
       "      <th>44</th>\n",
       "      <td>-0.038355</td>\n",
       "      <td>0.023643</td>\n",
       "      <td>4</td>\n",
       "    </tr>\n",
       "    <tr>\n",
       "      <th>45</th>\n",
       "      <td>-0.041540</td>\n",
       "      <td>0.000666</td>\n",
       "      <td>3</td>\n",
       "    </tr>\n",
       "    <tr>\n",
       "      <th>46</th>\n",
       "      <td>0.011043</td>\n",
       "      <td>0.036039</td>\n",
       "      <td>2</td>\n",
       "    </tr>\n",
       "    <tr>\n",
       "      <th>47</th>\n",
       "      <td>-0.006235</td>\n",
       "      <td>-0.025442</td>\n",
       "      <td>9</td>\n",
       "    </tr>\n",
       "    <tr>\n",
       "      <th>48</th>\n",
       "      <td>-0.034277</td>\n",
       "      <td>-0.000195</td>\n",
       "      <td>3</td>\n",
       "    </tr>\n",
       "    <tr>\n",
       "      <th>49</th>\n",
       "      <td>-0.015949</td>\n",
       "      <td>0.032666</td>\n",
       "      <td>4</td>\n",
       "    </tr>\n",
       "    <tr>\n",
       "      <th>50</th>\n",
       "      <td>0.001971</td>\n",
       "      <td>-0.044041</td>\n",
       "      <td>9</td>\n",
       "    </tr>\n",
       "    <tr>\n",
       "      <th>51</th>\n",
       "      <td>-0.016858</td>\n",
       "      <td>0.002123</td>\n",
       "      <td>0</td>\n",
       "    </tr>\n",
       "    <tr>\n",
       "      <th>52</th>\n",
       "      <td>0.014344</td>\n",
       "      <td>0.037498</td>\n",
       "      <td>2</td>\n",
       "    </tr>\n",
       "    <tr>\n",
       "      <th>53</th>\n",
       "      <td>-0.026592</td>\n",
       "      <td>0.001927</td>\n",
       "      <td>3</td>\n",
       "    </tr>\n",
       "    <tr>\n",
       "      <th>54</th>\n",
       "      <td>0.033115</td>\n",
       "      <td>-0.020597</td>\n",
       "      <td>5</td>\n",
       "    </tr>\n",
       "    <tr>\n",
       "      <th>55</th>\n",
       "      <td>-0.033573</td>\n",
       "      <td>-0.006041</td>\n",
       "      <td>3</td>\n",
       "    </tr>\n",
       "    <tr>\n",
       "      <th>56</th>\n",
       "      <td>0.058255</td>\n",
       "      <td>-0.009914</td>\n",
       "      <td>1</td>\n",
       "    </tr>\n",
       "    <tr>\n",
       "      <th>57</th>\n",
       "      <td>0.001448</td>\n",
       "      <td>0.037350</td>\n",
       "      <td>2</td>\n",
       "    </tr>\n",
       "    <tr>\n",
       "      <th>58</th>\n",
       "      <td>-0.021265</td>\n",
       "      <td>-0.009346</td>\n",
       "      <td>0</td>\n",
       "    </tr>\n",
       "    <tr>\n",
       "      <th>59</th>\n",
       "      <td>0.012069</td>\n",
       "      <td>-0.028427</td>\n",
       "      <td>9</td>\n",
       "    </tr>\n",
       "  </tbody>\n",
       "</table>\n",
       "</div>"
      ],
      "text/plain": [
       "        pca1      pca2  cluster\n",
       "0  -0.012552 -0.006808        0\n",
       "1  -0.021547 -0.043391        6\n",
       "2   0.009753  0.012431        8\n",
       "3  -0.007408 -0.007411        0\n",
       "4  -0.006229  0.004842        8\n",
       "5  -0.056289 -0.059965        6\n",
       "6   0.039427  0.048471        2\n",
       "7  -0.020885  0.024726        4\n",
       "8  -0.069987  0.032874        7\n",
       "9   0.082108 -0.005776        1\n",
       "10 -0.018758  0.043405        4\n",
       "11 -0.025327 -0.024675        0\n",
       "12 -0.019328  0.042888        4\n",
       "13 -0.027482  0.025184        4\n",
       "14 -0.009306 -0.006840        0\n",
       "15 -0.049968 -0.033946        6\n",
       "16 -0.017571 -0.005808        0\n",
       "17 -0.000250 -0.030419        9\n",
       "18 -0.044534 -0.046069        6\n",
       "19  0.018081  0.023439        2\n",
       "20  0.025627 -0.007340        5\n",
       "21 -0.045060  0.044619        7\n",
       "22 -0.019408 -0.020685        0\n",
       "23 -0.009402  0.022871        4\n",
       "24  0.004076 -0.016715        9\n",
       "25  0.053615 -0.029700        1\n",
       "26 -0.045361 -0.038832        6\n",
       "27  0.102287 -0.010637        1\n",
       "28  0.065706 -0.008757        1\n",
       "29  0.013928  0.009933        8\n",
       "30  0.024890 -0.016719        5\n",
       "31  0.051489 -0.016549        1\n",
       "32 -0.001402  0.011284        8\n",
       "33 -0.027834 -0.012727        3\n",
       "34 -0.019842 -0.018309        0\n",
       "35 -0.042811 -0.014304        3\n",
       "36 -0.002164  0.012736        8\n",
       "37  0.014159  0.028350        2\n",
       "38  0.059079 -0.024828        1\n",
       "39  0.054535  0.000774        1\n",
       "40  0.062308 -0.000216        1\n",
       "41  0.052300  0.008023        1\n",
       "42  0.002729  0.062858        2\n",
       "43 -0.012994  0.019810        4\n",
       "44 -0.038355  0.023643        4\n",
       "45 -0.041540  0.000666        3\n",
       "46  0.011043  0.036039        2\n",
       "47 -0.006235 -0.025442        9\n",
       "48 -0.034277 -0.000195        3\n",
       "49 -0.015949  0.032666        4\n",
       "50  0.001971 -0.044041        9\n",
       "51 -0.016858  0.002123        0\n",
       "52  0.014344  0.037498        2\n",
       "53 -0.026592  0.001927        3\n",
       "54  0.033115 -0.020597        5\n",
       "55 -0.033573 -0.006041        3\n",
       "56  0.058255 -0.009914        1\n",
       "57  0.001448  0.037350        2\n",
       "58 -0.021265 -0.009346        0\n",
       "59  0.012069 -0.028427        9"
      ]
     },
     "execution_count": 294,
     "metadata": {},
     "output_type": "execute_result"
    }
   ],
   "source": [
    "df_plot= pd.DataFrame()\n",
    "df_plot['pca1']=np.transpose(PCA1)\n",
    "df_plot['pca2']=np.transpose(PCA2)\n",
    "df_plot['cluster']=y_predicted\n",
    "df_plot"
   ]
  },
  {
   "cell_type": "code",
   "execution_count": 295,
   "id": "335be497",
   "metadata": {},
   "outputs": [],
   "source": [
    "df_plot1 = df_plot[df_plot.cluster==0]\n",
    "df_plot2 = df_plot[df_plot.cluster==1]\n",
    "df_plot3 = df_plot[df_plot.cluster==2]\n",
    "df_plot4 = df_plot[df_plot.cluster==3]\n",
    "df_plot5 = df_plot[df_plot.cluster==4]\n",
    "df_plot6 = df_plot[df_plot.cluster==5]\n",
    "df_plot7 = df_plot[df_plot.cluster==6]\n",
    "df_plot8 = df_plot[df_plot.cluster==7]\n",
    "df_plot9 = df_plot[df_plot.cluster==8]\n",
    "df_plot10 = df_plot[df_plot.cluster==9]"
   ]
  },
  {
   "cell_type": "code",
   "execution_count": 299,
   "id": "82ae4f03",
   "metadata": {},
   "outputs": [
    {
     "data": {
      "text/plain": [
       "<matplotlib.collections.PathCollection at 0x1e5cbb2e8b0>"
      ]
     },
     "execution_count": 299,
     "metadata": {},
     "output_type": "execute_result"
    },
    {
     "data": {
      "image/png": "[encoded data removed]",
      "text/plain": [
       "<Figure size 432x288 with 1 Axes>"
      ]
     },
     "metadata": {
      "needs_background": "light"
     },
     "output_type": "display_data"
    }
   ],
   "source": [
    "plt.scatter(df_plot1['pca1'],df_plot1['pca2'],color='green',label='cluster 1')\n",
    "plt.scatter(df_plot2['pca1'],df_plot2['pca2'],color='red',label='cluster 2')\n",
    "plt.scatter(df_plot3['pca1'],df_plot3['pca2'],color='yellow',label='cluster 3')\n",
    "plt.scatter(df_plot4['pca1'],df_plot4['pca2'],color='orange',label='cluster 4')\n",
    "plt.scatter(df_plot5['pca1'],df_plot5['pca2'],color='blue',label='cluster 5')\n",
    "plt.scatter(df_plot6['pca1'],df_plot6['pca2'],color='pink',label='cluster 6')\n",
    "plt.scatter(df_plot7['pca1'],df_plot7['pca2'],color='red',label='cluster 7')\n",
    "plt.scatter(df_plot8['pca1'],df_plot8['pca2'],color='red',label='cluster 8')\n",
    "plt.scatter(df_plot9['pca1'],df_plot9['pca2'],color='purple',label='cluster 9')\n",
    "plt.scatter(df_plot10['pca1'],df_plot10['pca2'],color='blue',label='cluster 10')\n",
    "\n",
    "plt.scatter(km.cluster_centers_[:,0],km.cluster_centers_[:,1],color='black',marker='*',label='centroid')\n",
    "# plt.legend()"
   ]
  },
  {
   "cell_type": "code",
   "execution_count": 297,
   "id": "88f409ff",
   "metadata": {},
   "outputs": [
    {
     "data": {
      "text/plain": [
       "\"C:\\\\Users\\\\God's Fav\""
      ]
     },
     "execution_count": 297,
     "metadata": {},
     "output_type": "execute_result"
    }
   ],
   "source": []
  },
  {
   "cell_type": "code",
   "execution_count": null,
   "id": "00c62789",
   "metadata": {},
   "outputs": [],
   "source": []
  }
 ],
 "metadata": {
  "kernelspec": {
   "display_name": "Python 3 (ipykernel)",
   "language": "python",
   "name": "python3"
  },
  "language_info": {
   "codemirror_mode": {
    "name": "ipython",
    "version": 3
   },
   "file_extension": ".py",
   "mimetype": "text/x-python",
   "name": "python",
   "nbconvert_exporter": "python",
   "pygments_lexer": "ipython3",
   "version": "3.8.12"
  }
 },
 "nbformat": 4,
 "nbformat_minor": 5
}
