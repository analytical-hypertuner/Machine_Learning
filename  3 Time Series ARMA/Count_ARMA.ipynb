{
  "cells": [
    {
      "cell_type": "raw",
      "id": "90e39b9e",
      "metadata": {
        "id": "90e39b9e"
      },
      "source": [
        ""
      ]
    },
    {
      "cell_type": "code",
      "source": [
        "import numpy as np\n",
        "import pandas as pd\n",
        "\n",
        "import matplotlib.pyplot as plt"
      ],
      "metadata": {
        "id": "Ac9c-orq567j"
      },
      "id": "Ac9c-orq567j",
      "execution_count": 378,
      "outputs": []
    },
    {
      "cell_type": "code",
      "execution_count": 379,
      "id": "06a7d928",
      "metadata": {
        "colab": {
          "base_uri": "https://localhost:8080/",
          "height": 206
        },
        "id": "06a7d928",
        "outputId": "705e8ec9-1916-4e09-fd0d-23268bce3078"
      },
      "outputs": [
        {
          "output_type": "execute_result",
          "data": {
            "text/html": [
              "\n",
              "  <div id=\"df-845a80cf-1c63-4c77-a481-295be1def87a\">\n",
              "    <div class=\"colab-df-container\">\n",
              "      <div>\n",
              "<style scoped>\n",
              "    .dataframe tbody tr th:only-of-type {\n",
              "        vertical-align: middle;\n",
              "    }\n",
              "\n",
              "    .dataframe tbody tr th {\n",
              "        vertical-align: top;\n",
              "    }\n",
              "\n",
              "    .dataframe thead th {\n",
              "        text-align: right;\n",
              "    }\n",
              "</style>\n",
              "<table border=\"1\" class=\"dataframe\">\n",
              "  <thead>\n",
              "    <tr style=\"text-align: right;\">\n",
              "      <th></th>\n",
              "      <th>ID</th>\n",
              "      <th>Datetime</th>\n",
              "      <th>Count</th>\n",
              "    </tr>\n",
              "  </thead>\n",
              "  <tbody>\n",
              "    <tr>\n",
              "      <th>0</th>\n",
              "      <td>0</td>\n",
              "      <td>25-08-2012 00:00</td>\n",
              "      <td>8</td>\n",
              "    </tr>\n",
              "    <tr>\n",
              "      <th>1</th>\n",
              "      <td>1</td>\n",
              "      <td>25-08-2012 01:00</td>\n",
              "      <td>2</td>\n",
              "    </tr>\n",
              "    <tr>\n",
              "      <th>2</th>\n",
              "      <td>2</td>\n",
              "      <td>25-08-2012 02:00</td>\n",
              "      <td>6</td>\n",
              "    </tr>\n",
              "    <tr>\n",
              "      <th>3</th>\n",
              "      <td>3</td>\n",
              "      <td>25-08-2012 03:00</td>\n",
              "      <td>2</td>\n",
              "    </tr>\n",
              "    <tr>\n",
              "      <th>4</th>\n",
              "      <td>4</td>\n",
              "      <td>25-08-2012 04:00</td>\n",
              "      <td>2</td>\n",
              "    </tr>\n",
              "  </tbody>\n",
              "</table>\n",
              "</div>\n",
              "      <button class=\"colab-df-convert\" onclick=\"convertToInteractive('df-845a80cf-1c63-4c77-a481-295be1def87a')\"\n",
              "              title=\"Convert this dataframe to an interactive table.\"\n",
              "              style=\"display:none;\">\n",
              "        \n",
              "  <svg xmlns=\"http://www.w3.org/2000/svg\" height=\"24px\"viewBox=\"0 0 24 24\"\n",
              "       width=\"24px\">\n",
              "    <path d=\"M0 0h24v24H0V0z\" fill=\"none\"/>\n",
              "    <path d=\"M18.56 5.44l.94 2.06.94-2.06 2.06-.94-2.06-.94-.94-2.06-.94 2.06-2.06.94zm-11 1L8.5 8.5l.94-2.06 2.06-.94-2.06-.94L8.5 2.5l-.94 2.06-2.06.94zm10 10l.94 2.06.94-2.06 2.06-.94-2.06-.94-.94-2.06-.94 2.06-2.06.94z\"/><path d=\"M17.41 7.96l-1.37-1.37c-.4-.4-.92-.59-1.43-.59-.52 0-1.04.2-1.43.59L10.3 9.45l-7.72 7.72c-.78.78-.78 2.05 0 2.83L4 21.41c.39.39.9.59 1.41.59.51 0 1.02-.2 1.41-.59l7.78-7.78 2.81-2.81c.8-.78.8-2.07 0-2.86zM5.41 20L4 18.59l7.72-7.72 1.47 1.35L5.41 20z\"/>\n",
              "  </svg>\n",
              "      </button>\n",
              "      \n",
              "  <style>\n",
              "    .colab-df-container {\n",
              "      display:flex;\n",
              "      flex-wrap:wrap;\n",
              "      gap: 12px;\n",
              "    }\n",
              "\n",
              "    .colab-df-convert {\n",
              "      background-color: #E8F0FE;\n",
              "      border: none;\n",
              "      border-radius: 50%;\n",
              "      cursor: pointer;\n",
              "      display: none;\n",
              "      fill: #1967D2;\n",
              "      height: 32px;\n",
              "      padding: 0 0 0 0;\n",
              "      width: 32px;\n",
              "    }\n",
              "\n",
              "    .colab-df-convert:hover {\n",
              "      background-color: #E2EBFA;\n",
              "      box-shadow: 0px 1px 2px rgba(60, 64, 67, 0.3), 0px 1px 3px 1px rgba(60, 64, 67, 0.15);\n",
              "      fill: #174EA6;\n",
              "    }\n",
              "\n",
              "    [theme=dark] .colab-df-convert {\n",
              "      background-color: #3B4455;\n",
              "      fill: #D2E3FC;\n",
              "    }\n",
              "\n",
              "    [theme=dark] .colab-df-convert:hover {\n",
              "      background-color: #434B5C;\n",
              "      box-shadow: 0px 1px 3px 1px rgba(0, 0, 0, 0.15);\n",
              "      filter: drop-shadow(0px 1px 2px rgba(0, 0, 0, 0.3));\n",
              "      fill: #FFFFFF;\n",
              "    }\n",
              "  </style>\n",
              "\n",
              "      <script>\n",
              "        const buttonEl =\n",
              "          document.querySelector('#df-845a80cf-1c63-4c77-a481-295be1def87a button.colab-df-convert');\n",
              "        buttonEl.style.display =\n",
              "          google.colab.kernel.accessAllowed ? 'block' : 'none';\n",
              "\n",
              "        async function convertToInteractive(key) {\n",
              "          const element = document.querySelector('#df-845a80cf-1c63-4c77-a481-295be1def87a');\n",
              "          const dataTable =\n",
              "            await google.colab.kernel.invokeFunction('convertToInteractive',\n",
              "                                                     [key], {});\n",
              "          if (!dataTable) return;\n",
              "\n",
              "          const docLinkHtml = 'Like what you see? Visit the ' +\n",
              "            '<a target=\"_blank\" href=https://colab.research.google.com/notebooks/data_table.ipynb>data table notebook</a>'\n",
              "            + ' to learn more about interactive tables.';\n",
              "          element.innerHTML = '';\n",
              "          dataTable['output_type'] = 'display_data';\n",
              "          await google.colab.output.renderOutput(dataTable, element);\n",
              "          const docLink = document.createElement('div');\n",
              "          docLink.innerHTML = docLinkHtml;\n",
              "          element.appendChild(docLink);\n",
              "        }\n",
              "      </script>\n",
              "    </div>\n",
              "  </div>\n",
              "  "
            ],
            "text/plain": [
              "   ID          Datetime  Count\n",
              "0   0  25-08-2012 00:00      8\n",
              "1   1  25-08-2012 01:00      2\n",
              "2   2  25-08-2012 02:00      6\n",
              "3   3  25-08-2012 03:00      2\n",
              "4   4  25-08-2012 04:00      2"
            ]
          },
          "metadata": {},
          "execution_count": 379
        }
      ],
      "source": [
        "df = pd.read_csv(\"/content/Train.csv\")\n",
        "df.head()"
      ]
    },
    {
      "cell_type": "code",
      "execution_count": 380,
      "id": "d1bd2024",
      "metadata": {
        "colab": {
          "base_uri": "https://localhost:8080/",
          "height": 206
        },
        "id": "d1bd2024",
        "outputId": "3c1c59b4-83c9-40c3-dd23-c50273d2d1c9"
      },
      "outputs": [
        {
          "output_type": "execute_result",
          "data": {
            "text/html": [
              "\n",
              "  <div id=\"df-1521a658-5816-4718-8a7e-b4fea4bc8651\">\n",
              "    <div class=\"colab-df-container\">\n",
              "      <div>\n",
              "<style scoped>\n",
              "    .dataframe tbody tr th:only-of-type {\n",
              "        vertical-align: middle;\n",
              "    }\n",
              "\n",
              "    .dataframe tbody tr th {\n",
              "        vertical-align: top;\n",
              "    }\n",
              "\n",
              "    .dataframe thead th {\n",
              "        text-align: right;\n",
              "    }\n",
              "</style>\n",
              "<table border=\"1\" class=\"dataframe\">\n",
              "  <thead>\n",
              "    <tr style=\"text-align: right;\">\n",
              "      <th></th>\n",
              "      <th>DateTime</th>\n",
              "      <th>Count</th>\n",
              "    </tr>\n",
              "  </thead>\n",
              "  <tbody>\n",
              "    <tr>\n",
              "      <th>0</th>\n",
              "      <td>25-08-2012 00:00</td>\n",
              "      <td>8</td>\n",
              "    </tr>\n",
              "    <tr>\n",
              "      <th>1</th>\n",
              "      <td>25-08-2012 01:00</td>\n",
              "      <td>2</td>\n",
              "    </tr>\n",
              "    <tr>\n",
              "      <th>2</th>\n",
              "      <td>25-08-2012 02:00</td>\n",
              "      <td>6</td>\n",
              "    </tr>\n",
              "    <tr>\n",
              "      <th>3</th>\n",
              "      <td>25-08-2012 03:00</td>\n",
              "      <td>2</td>\n",
              "    </tr>\n",
              "    <tr>\n",
              "      <th>4</th>\n",
              "      <td>25-08-2012 04:00</td>\n",
              "      <td>2</td>\n",
              "    </tr>\n",
              "  </tbody>\n",
              "</table>\n",
              "</div>\n",
              "      <button class=\"colab-df-convert\" onclick=\"convertToInteractive('df-1521a658-5816-4718-8a7e-b4fea4bc8651')\"\n",
              "              title=\"Convert this dataframe to an interactive table.\"\n",
              "              style=\"display:none;\">\n",
              "        \n",
              "  <svg xmlns=\"http://www.w3.org/2000/svg\" height=\"24px\"viewBox=\"0 0 24 24\"\n",
              "       width=\"24px\">\n",
              "    <path d=\"M0 0h24v24H0V0z\" fill=\"none\"/>\n",
              "    <path d=\"M18.56 5.44l.94 2.06.94-2.06 2.06-.94-2.06-.94-.94-2.06-.94 2.06-2.06.94zm-11 1L8.5 8.5l.94-2.06 2.06-.94-2.06-.94L8.5 2.5l-.94 2.06-2.06.94zm10 10l.94 2.06.94-2.06 2.06-.94-2.06-.94-.94-2.06-.94 2.06-2.06.94z\"/><path d=\"M17.41 7.96l-1.37-1.37c-.4-.4-.92-.59-1.43-.59-.52 0-1.04.2-1.43.59L10.3 9.45l-7.72 7.72c-.78.78-.78 2.05 0 2.83L4 21.41c.39.39.9.59 1.41.59.51 0 1.02-.2 1.41-.59l7.78-7.78 2.81-2.81c.8-.78.8-2.07 0-2.86zM5.41 20L4 18.59l7.72-7.72 1.47 1.35L5.41 20z\"/>\n",
              "  </svg>\n",
              "      </button>\n",
              "      \n",
              "  <style>\n",
              "    .colab-df-container {\n",
              "      display:flex;\n",
              "      flex-wrap:wrap;\n",
              "      gap: 12px;\n",
              "    }\n",
              "\n",
              "    .colab-df-convert {\n",
              "      background-color: #E8F0FE;\n",
              "      border: none;\n",
              "      border-radius: 50%;\n",
              "      cursor: pointer;\n",
              "      display: none;\n",
              "      fill: #1967D2;\n",
              "      height: 32px;\n",
              "      padding: 0 0 0 0;\n",
              "      width: 32px;\n",
              "    }\n",
              "\n",
              "    .colab-df-convert:hover {\n",
              "      background-color: #E2EBFA;\n",
              "      box-shadow: 0px 1px 2px rgba(60, 64, 67, 0.3), 0px 1px 3px 1px rgba(60, 64, 67, 0.15);\n",
              "      fill: #174EA6;\n",
              "    }\n",
              "\n",
              "    [theme=dark] .colab-df-convert {\n",
              "      background-color: #3B4455;\n",
              "      fill: #D2E3FC;\n",
              "    }\n",
              "\n",
              "    [theme=dark] .colab-df-convert:hover {\n",
              "      background-color: #434B5C;\n",
              "      box-shadow: 0px 1px 3px 1px rgba(0, 0, 0, 0.15);\n",
              "      filter: drop-shadow(0px 1px 2px rgba(0, 0, 0, 0.3));\n",
              "      fill: #FFFFFF;\n",
              "    }\n",
              "  </style>\n",
              "\n",
              "      <script>\n",
              "        const buttonEl =\n",
              "          document.querySelector('#df-1521a658-5816-4718-8a7e-b4fea4bc8651 button.colab-df-convert');\n",
              "        buttonEl.style.display =\n",
              "          google.colab.kernel.accessAllowed ? 'block' : 'none';\n",
              "\n",
              "        async function convertToInteractive(key) {\n",
              "          const element = document.querySelector('#df-1521a658-5816-4718-8a7e-b4fea4bc8651');\n",
              "          const dataTable =\n",
              "            await google.colab.kernel.invokeFunction('convertToInteractive',\n",
              "                                                     [key], {});\n",
              "          if (!dataTable) return;\n",
              "\n",
              "          const docLinkHtml = 'Like what you see? Visit the ' +\n",
              "            '<a target=\"_blank\" href=https://colab.research.google.com/notebooks/data_table.ipynb>data table notebook</a>'\n",
              "            + ' to learn more about interactive tables.';\n",
              "          element.innerHTML = '';\n",
              "          dataTable['output_type'] = 'display_data';\n",
              "          await google.colab.output.renderOutput(dataTable, element);\n",
              "          const docLink = document.createElement('div');\n",
              "          docLink.innerHTML = docLinkHtml;\n",
              "          element.appendChild(docLink);\n",
              "        }\n",
              "      </script>\n",
              "    </div>\n",
              "  </div>\n",
              "  "
            ],
            "text/plain": [
              "           DateTime  Count\n",
              "0  25-08-2012 00:00      8\n",
              "1  25-08-2012 01:00      2\n",
              "2  25-08-2012 02:00      6\n",
              "3  25-08-2012 03:00      2\n",
              "4  25-08-2012 04:00      2"
            ]
          },
          "metadata": {},
          "execution_count": 380
        }
      ],
      "source": [
        "## Cleaning up the data\n",
        "df.columns=[\"ID\",\"DateTime\",\"Count\"]\n",
        "del df[\"ID\"]\n",
        "df.head()"
      ]
    },
    {
      "cell_type": "code",
      "execution_count": 381,
      "id": "c7e9ad07",
      "metadata": {
        "id": "c7e9ad07"
      },
      "outputs": [],
      "source": [
        "df.DateTime = pd.to_datetime(df.DateTime,format='%d-%m-%Y %H:%M')\n",
        "df.index = df.DateTime\n",
        "df = df.resample('D').mean() "
      ]
    },
    {
      "cell_type": "code",
      "execution_count": 382,
      "id": "fc474856",
      "metadata": {
        "id": "fc474856"
      },
      "outputs": [],
      "source": [
        "# ## Drop last 2 rows\n",
        "# df.drop(106,axis=0,inplace=True)\n",
        "# df.drop(105,axis=0,inplace=True)"
      ]
    },
    {
      "cell_type": "code",
      "execution_count": 383,
      "id": "2bd46f04",
      "metadata": {
        "id": "2bd46f04",
        "outputId": "441fa1d2-4cc0-4db6-a87c-45be00b1cc0e",
        "colab": {
          "base_uri": "https://localhost:8080/"
        }
      },
      "outputs": [
        {
          "output_type": "stream",
          "name": "stdout",
          "text": [
            "<class 'pandas.core.frame.DataFrame'>\n",
            "DatetimeIndex: 762 entries, 2012-08-25 to 2014-09-25\n",
            "Freq: D\n",
            "Data columns (total 1 columns):\n",
            " #   Column  Non-Null Count  Dtype  \n",
            "---  ------  --------------  -----  \n",
            " 0   Count   762 non-null    float64\n",
            "dtypes: float64(1)\n",
            "memory usage: 11.9 KB\n"
          ]
        }
      ],
      "source": [
        "df.info()"
      ]
    },
    {
      "cell_type": "code",
      "execution_count": 383,
      "id": "e2415bdb",
      "metadata": {
        "id": "e2415bdb"
      },
      "outputs": [],
      "source": [
        ""
      ]
    },
    {
      "cell_type": "code",
      "execution_count": 384,
      "id": "54a93dfa",
      "metadata": {
        "id": "54a93dfa"
      },
      "outputs": [],
      "source": [
        "# # Convert DateTime into Datetime\n",
        "# df['DateTime']=pd.to_datetime(df['DateTime'])\n",
        "# df.info()"
      ]
    },
    {
      "cell_type": "code",
      "execution_count": 385,
      "id": "3c2b2328",
      "metadata": {
        "id": "3c2b2328"
      },
      "outputs": [],
      "source": [
        "# df.set_index('DateTime',inplace=True)\n",
        "# df.head()"
      ]
    },
    {
      "cell_type": "code",
      "execution_count": 386,
      "id": "4835fe1c",
      "metadata": {
        "id": "4835fe1c",
        "outputId": "ef91ca3b-121b-480b-fe3d-699f5373d1ae",
        "colab": {
          "base_uri": "https://localhost:8080/",
          "height": 300
        }
      },
      "outputs": [
        {
          "output_type": "execute_result",
          "data": {
            "text/html": [
              "\n",
              "  <div id=\"df-be4f43ce-474d-4774-8837-b803f76f4a62\">\n",
              "    <div class=\"colab-df-container\">\n",
              "      <div>\n",
              "<style scoped>\n",
              "    .dataframe tbody tr th:only-of-type {\n",
              "        vertical-align: middle;\n",
              "    }\n",
              "\n",
              "    .dataframe tbody tr th {\n",
              "        vertical-align: top;\n",
              "    }\n",
              "\n",
              "    .dataframe thead th {\n",
              "        text-align: right;\n",
              "    }\n",
              "</style>\n",
              "<table border=\"1\" class=\"dataframe\">\n",
              "  <thead>\n",
              "    <tr style=\"text-align: right;\">\n",
              "      <th></th>\n",
              "      <th>Count</th>\n",
              "    </tr>\n",
              "  </thead>\n",
              "  <tbody>\n",
              "    <tr>\n",
              "      <th>count</th>\n",
              "      <td>762.000000</td>\n",
              "    </tr>\n",
              "    <tr>\n",
              "      <th>mean</th>\n",
              "      <td>138.958115</td>\n",
              "    </tr>\n",
              "    <tr>\n",
              "      <th>std</th>\n",
              "      <td>135.911437</td>\n",
              "    </tr>\n",
              "    <tr>\n",
              "      <th>min</th>\n",
              "      <td>2.416667</td>\n",
              "    </tr>\n",
              "    <tr>\n",
              "      <th>25%</th>\n",
              "      <td>24.250000</td>\n",
              "    </tr>\n",
              "    <tr>\n",
              "      <th>50%</th>\n",
              "      <td>99.125000</td>\n",
              "    </tr>\n",
              "    <tr>\n",
              "      <th>75%</th>\n",
              "      <td>215.958333</td>\n",
              "    </tr>\n",
              "    <tr>\n",
              "      <th>max</th>\n",
              "      <td>702.333333</td>\n",
              "    </tr>\n",
              "  </tbody>\n",
              "</table>\n",
              "</div>\n",
              "      <button class=\"colab-df-convert\" onclick=\"convertToInteractive('df-be4f43ce-474d-4774-8837-b803f76f4a62')\"\n",
              "              title=\"Convert this dataframe to an interactive table.\"\n",
              "              style=\"display:none;\">\n",
              "        \n",
              "  <svg xmlns=\"http://www.w3.org/2000/svg\" height=\"24px\"viewBox=\"0 0 24 24\"\n",
              "       width=\"24px\">\n",
              "    <path d=\"M0 0h24v24H0V0z\" fill=\"none\"/>\n",
              "    <path d=\"M18.56 5.44l.94 2.06.94-2.06 2.06-.94-2.06-.94-.94-2.06-.94 2.06-2.06.94zm-11 1L8.5 8.5l.94-2.06 2.06-.94-2.06-.94L8.5 2.5l-.94 2.06-2.06.94zm10 10l.94 2.06.94-2.06 2.06-.94-2.06-.94-.94-2.06-.94 2.06-2.06.94z\"/><path d=\"M17.41 7.96l-1.37-1.37c-.4-.4-.92-.59-1.43-.59-.52 0-1.04.2-1.43.59L10.3 9.45l-7.72 7.72c-.78.78-.78 2.05 0 2.83L4 21.41c.39.39.9.59 1.41.59.51 0 1.02-.2 1.41-.59l7.78-7.78 2.81-2.81c.8-.78.8-2.07 0-2.86zM5.41 20L4 18.59l7.72-7.72 1.47 1.35L5.41 20z\"/>\n",
              "  </svg>\n",
              "      </button>\n",
              "      \n",
              "  <style>\n",
              "    .colab-df-container {\n",
              "      display:flex;\n",
              "      flex-wrap:wrap;\n",
              "      gap: 12px;\n",
              "    }\n",
              "\n",
              "    .colab-df-convert {\n",
              "      background-color: #E8F0FE;\n",
              "      border: none;\n",
              "      border-radius: 50%;\n",
              "      cursor: pointer;\n",
              "      display: none;\n",
              "      fill: #1967D2;\n",
              "      height: 32px;\n",
              "      padding: 0 0 0 0;\n",
              "      width: 32px;\n",
              "    }\n",
              "\n",
              "    .colab-df-convert:hover {\n",
              "      background-color: #E2EBFA;\n",
              "      box-shadow: 0px 1px 2px rgba(60, 64, 67, 0.3), 0px 1px 3px 1px rgba(60, 64, 67, 0.15);\n",
              "      fill: #174EA6;\n",
              "    }\n",
              "\n",
              "    [theme=dark] .colab-df-convert {\n",
              "      background-color: #3B4455;\n",
              "      fill: #D2E3FC;\n",
              "    }\n",
              "\n",
              "    [theme=dark] .colab-df-convert:hover {\n",
              "      background-color: #434B5C;\n",
              "      box-shadow: 0px 1px 3px 1px rgba(0, 0, 0, 0.15);\n",
              "      filter: drop-shadow(0px 1px 2px rgba(0, 0, 0, 0.3));\n",
              "      fill: #FFFFFF;\n",
              "    }\n",
              "  </style>\n",
              "\n",
              "      <script>\n",
              "        const buttonEl =\n",
              "          document.querySelector('#df-be4f43ce-474d-4774-8837-b803f76f4a62 button.colab-df-convert');\n",
              "        buttonEl.style.display =\n",
              "          google.colab.kernel.accessAllowed ? 'block' : 'none';\n",
              "\n",
              "        async function convertToInteractive(key) {\n",
              "          const element = document.querySelector('#df-be4f43ce-474d-4774-8837-b803f76f4a62');\n",
              "          const dataTable =\n",
              "            await google.colab.kernel.invokeFunction('convertToInteractive',\n",
              "                                                     [key], {});\n",
              "          if (!dataTable) return;\n",
              "\n",
              "          const docLinkHtml = 'Like what you see? Visit the ' +\n",
              "            '<a target=\"_blank\" href=https://colab.research.google.com/notebooks/data_table.ipynb>data table notebook</a>'\n",
              "            + ' to learn more about interactive tables.';\n",
              "          element.innerHTML = '';\n",
              "          dataTable['output_type'] = 'display_data';\n",
              "          await google.colab.output.renderOutput(dataTable, element);\n",
              "          const docLink = document.createElement('div');\n",
              "          docLink.innerHTML = docLinkHtml;\n",
              "          element.appendChild(docLink);\n",
              "        }\n",
              "      </script>\n",
              "    </div>\n",
              "  </div>\n",
              "  "
            ],
            "text/plain": [
              "            Count\n",
              "count  762.000000\n",
              "mean   138.958115\n",
              "std    135.911437\n",
              "min      2.416667\n",
              "25%     24.250000\n",
              "50%     99.125000\n",
              "75%    215.958333\n",
              "max    702.333333"
            ]
          },
          "metadata": {},
          "execution_count": 386
        }
      ],
      "source": [
        "df.describe()"
      ]
    },
    {
      "cell_type": "code",
      "execution_count": 387,
      "id": "384d6eba",
      "metadata": {
        "id": "384d6eba",
        "outputId": "2179d1b7-8806-47c2-ce04-d603b8dfdb5c",
        "colab": {
          "base_uri": "https://localhost:8080/",
          "height": 309
        }
      },
      "outputs": [
        {
          "output_type": "execute_result",
          "data": {
            "text/plain": [
              "<matplotlib.axes._subplots.AxesSubplot at 0x7f78feb583d0>"
            ]
          },
          "metadata": {},
          "execution_count": 387
        },
        {
          "output_type": "display_data",
          "data": {
            "image/png": "[encoded data removed]",
            "text/plain": [
              "<Figure size 432x288 with 1 Axes>"
            ]
          },
          "metadata": {
            "needs_background": "light"
          }
        }
      ],
      "source": [
        "df.plot()"
      ]
    },
    {
      "cell_type": "markdown",
      "id": "5ede14dd",
      "metadata": {
        "id": "5ede14dd"
      },
      "source": [
        "## Moving Average\n",
        "\n",
        "#### This method removes the underlying trend in the time series also known as Detrending"
      ]
    },
    {
      "cell_type": "code",
      "execution_count": 388,
      "id": "559b07b4",
      "metadata": {
        "id": "559b07b4",
        "outputId": "56469ea7-8d6a-4812-d5fc-bd78c8b6e4c0",
        "colab": {
          "base_uri": "https://localhost:8080/",
          "height": 708
        }
      },
      "outputs": [
        {
          "output_type": "execute_result",
          "data": {
            "text/html": [
              "\n",
              "  <div id=\"df-27af8b2a-baf0-43e5-ae9f-20c110a1c10b\">\n",
              "    <div class=\"colab-df-container\">\n",
              "      <div>\n",
              "<style scoped>\n",
              "    .dataframe tbody tr th:only-of-type {\n",
              "        vertical-align: middle;\n",
              "    }\n",
              "\n",
              "    .dataframe tbody tr th {\n",
              "        vertical-align: top;\n",
              "    }\n",
              "\n",
              "    .dataframe thead th {\n",
              "        text-align: right;\n",
              "    }\n",
              "</style>\n",
              "<table border=\"1\" class=\"dataframe\">\n",
              "  <thead>\n",
              "    <tr style=\"text-align: right;\">\n",
              "      <th></th>\n",
              "      <th>Count</th>\n",
              "      <th>SMA_2</th>\n",
              "      <th>SMA_12</th>\n",
              "    </tr>\n",
              "    <tr>\n",
              "      <th>DateTime</th>\n",
              "      <th></th>\n",
              "      <th></th>\n",
              "      <th></th>\n",
              "    </tr>\n",
              "  </thead>\n",
              "  <tbody>\n",
              "    <tr>\n",
              "      <th>2012-08-25</th>\n",
              "      <td>3.166667</td>\n",
              "      <td>3.166667</td>\n",
              "      <td>3.166667</td>\n",
              "    </tr>\n",
              "    <tr>\n",
              "      <th>2012-08-26</th>\n",
              "      <td>3.666667</td>\n",
              "      <td>3.416667</td>\n",
              "      <td>3.416667</td>\n",
              "    </tr>\n",
              "    <tr>\n",
              "      <th>2012-08-27</th>\n",
              "      <td>2.583333</td>\n",
              "      <td>3.125000</td>\n",
              "      <td>3.138889</td>\n",
              "    </tr>\n",
              "    <tr>\n",
              "      <th>2012-08-28</th>\n",
              "      <td>2.416667</td>\n",
              "      <td>2.500000</td>\n",
              "      <td>2.958333</td>\n",
              "    </tr>\n",
              "    <tr>\n",
              "      <th>2012-08-29</th>\n",
              "      <td>2.500000</td>\n",
              "      <td>2.458333</td>\n",
              "      <td>2.866667</td>\n",
              "    </tr>\n",
              "    <tr>\n",
              "      <th>2012-08-30</th>\n",
              "      <td>3.083333</td>\n",
              "      <td>2.791667</td>\n",
              "      <td>2.902778</td>\n",
              "    </tr>\n",
              "    <tr>\n",
              "      <th>2012-08-31</th>\n",
              "      <td>3.250000</td>\n",
              "      <td>3.166667</td>\n",
              "      <td>2.952381</td>\n",
              "    </tr>\n",
              "    <tr>\n",
              "      <th>2012-09-01</th>\n",
              "      <td>4.666667</td>\n",
              "      <td>3.958333</td>\n",
              "      <td>3.166667</td>\n",
              "    </tr>\n",
              "    <tr>\n",
              "      <th>2012-09-02</th>\n",
              "      <td>4.916667</td>\n",
              "      <td>4.791667</td>\n",
              "      <td>3.361111</td>\n",
              "    </tr>\n",
              "    <tr>\n",
              "      <th>2012-09-03</th>\n",
              "      <td>4.500000</td>\n",
              "      <td>4.708333</td>\n",
              "      <td>3.475000</td>\n",
              "    </tr>\n",
              "    <tr>\n",
              "      <th>2012-09-04</th>\n",
              "      <td>2.750000</td>\n",
              "      <td>3.625000</td>\n",
              "      <td>3.409091</td>\n",
              "    </tr>\n",
              "    <tr>\n",
              "      <th>2012-09-05</th>\n",
              "      <td>4.333333</td>\n",
              "      <td>3.541667</td>\n",
              "      <td>3.486111</td>\n",
              "    </tr>\n",
              "    <tr>\n",
              "      <th>2012-09-06</th>\n",
              "      <td>4.166667</td>\n",
              "      <td>4.250000</td>\n",
              "      <td>3.569444</td>\n",
              "    </tr>\n",
              "    <tr>\n",
              "      <th>2012-09-07</th>\n",
              "      <td>2.833333</td>\n",
              "      <td>3.500000</td>\n",
              "      <td>3.500000</td>\n",
              "    </tr>\n",
              "    <tr>\n",
              "      <th>2012-09-08</th>\n",
              "      <td>4.166667</td>\n",
              "      <td>3.500000</td>\n",
              "      <td>3.631944</td>\n",
              "    </tr>\n",
              "    <tr>\n",
              "      <th>2012-09-09</th>\n",
              "      <td>2.833333</td>\n",
              "      <td>3.500000</td>\n",
              "      <td>3.666667</td>\n",
              "    </tr>\n",
              "    <tr>\n",
              "      <th>2012-09-10</th>\n",
              "      <td>2.666667</td>\n",
              "      <td>2.750000</td>\n",
              "      <td>3.680556</td>\n",
              "    </tr>\n",
              "    <tr>\n",
              "      <th>2012-09-11</th>\n",
              "      <td>2.416667</td>\n",
              "      <td>2.541667</td>\n",
              "      <td>3.625000</td>\n",
              "    </tr>\n",
              "    <tr>\n",
              "      <th>2012-09-12</th>\n",
              "      <td>3.500000</td>\n",
              "      <td>2.958333</td>\n",
              "      <td>3.645833</td>\n",
              "    </tr>\n",
              "    <tr>\n",
              "      <th>2012-09-13</th>\n",
              "      <td>3.000000</td>\n",
              "      <td>3.250000</td>\n",
              "      <td>3.506944</td>\n",
              "    </tr>\n",
              "  </tbody>\n",
              "</table>\n",
              "</div>\n",
              "      <button class=\"colab-df-convert\" onclick=\"convertToInteractive('df-27af8b2a-baf0-43e5-ae9f-20c110a1c10b')\"\n",
              "              title=\"Convert this dataframe to an interactive table.\"\n",
              "              style=\"display:none;\">\n",
              "        \n",
              "  <svg xmlns=\"http://www.w3.org/2000/svg\" height=\"24px\"viewBox=\"0 0 24 24\"\n",
              "       width=\"24px\">\n",
              "    <path d=\"M0 0h24v24H0V0z\" fill=\"none\"/>\n",
              "    <path d=\"M18.56 5.44l.94 2.06.94-2.06 2.06-.94-2.06-.94-.94-2.06-.94 2.06-2.06.94zm-11 1L8.5 8.5l.94-2.06 2.06-.94-2.06-.94L8.5 2.5l-.94 2.06-2.06.94zm10 10l.94 2.06.94-2.06 2.06-.94-2.06-.94-.94-2.06-.94 2.06-2.06.94z\"/><path d=\"M17.41 7.96l-1.37-1.37c-.4-.4-.92-.59-1.43-.59-.52 0-1.04.2-1.43.59L10.3 9.45l-7.72 7.72c-.78.78-.78 2.05 0 2.83L4 21.41c.39.39.9.59 1.41.59.51 0 1.02-.2 1.41-.59l7.78-7.78 2.81-2.81c.8-.78.8-2.07 0-2.86zM5.41 20L4 18.59l7.72-7.72 1.47 1.35L5.41 20z\"/>\n",
              "  </svg>\n",
              "      </button>\n",
              "      \n",
              "  <style>\n",
              "    .colab-df-container {\n",
              "      display:flex;\n",
              "      flex-wrap:wrap;\n",
              "      gap: 12px;\n",
              "    }\n",
              "\n",
              "    .colab-df-convert {\n",
              "      background-color: #E8F0FE;\n",
              "      border: none;\n",
              "      border-radius: 50%;\n",
              "      cursor: pointer;\n",
              "      display: none;\n",
              "      fill: #1967D2;\n",
              "      height: 32px;\n",
              "      padding: 0 0 0 0;\n",
              "      width: 32px;\n",
              "    }\n",
              "\n",
              "    .colab-df-convert:hover {\n",
              "      background-color: #E2EBFA;\n",
              "      box-shadow: 0px 1px 2px rgba(60, 64, 67, 0.3), 0px 1px 3px 1px rgba(60, 64, 67, 0.15);\n",
              "      fill: #174EA6;\n",
              "    }\n",
              "\n",
              "    [theme=dark] .colab-df-convert {\n",
              "      background-color: #3B4455;\n",
              "      fill: #D2E3FC;\n",
              "    }\n",
              "\n",
              "    [theme=dark] .colab-df-convert:hover {\n",
              "      background-color: #434B5C;\n",
              "      box-shadow: 0px 1px 3px 1px rgba(0, 0, 0, 0.15);\n",
              "      filter: drop-shadow(0px 1px 2px rgba(0, 0, 0, 0.3));\n",
              "      fill: #FFFFFF;\n",
              "    }\n",
              "  </style>\n",
              "\n",
              "      <script>\n",
              "        const buttonEl =\n",
              "          document.querySelector('#df-27af8b2a-baf0-43e5-ae9f-20c110a1c10b button.colab-df-convert');\n",
              "        buttonEl.style.display =\n",
              "          google.colab.kernel.accessAllowed ? 'block' : 'none';\n",
              "\n",
              "        async function convertToInteractive(key) {\n",
              "          const element = document.querySelector('#df-27af8b2a-baf0-43e5-ae9f-20c110a1c10b');\n",
              "          const dataTable =\n",
              "            await google.colab.kernel.invokeFunction('convertToInteractive',\n",
              "                                                     [key], {});\n",
              "          if (!dataTable) return;\n",
              "\n",
              "          const docLinkHtml = 'Like what you see? Visit the ' +\n",
              "            '<a target=\"_blank\" href=https://colab.research.google.com/notebooks/data_table.ipynb>data table notebook</a>'\n",
              "            + ' to learn more about interactive tables.';\n",
              "          element.innerHTML = '';\n",
              "          dataTable['output_type'] = 'display_data';\n",
              "          await google.colab.output.renderOutput(dataTable, element);\n",
              "          const docLink = document.createElement('div');\n",
              "          docLink.innerHTML = docLinkHtml;\n",
              "          element.appendChild(docLink);\n",
              "        }\n",
              "      </script>\n",
              "    </div>\n",
              "  </div>\n",
              "  "
            ],
            "text/plain": [
              "               Count     SMA_2    SMA_12\n",
              "DateTime                                \n",
              "2012-08-25  3.166667  3.166667  3.166667\n",
              "2012-08-26  3.666667  3.416667  3.416667\n",
              "2012-08-27  2.583333  3.125000  3.138889\n",
              "2012-08-28  2.416667  2.500000  2.958333\n",
              "2012-08-29  2.500000  2.458333  2.866667\n",
              "2012-08-30  3.083333  2.791667  2.902778\n",
              "2012-08-31  3.250000  3.166667  2.952381\n",
              "2012-09-01  4.666667  3.958333  3.166667\n",
              "2012-09-02  4.916667  4.791667  3.361111\n",
              "2012-09-03  4.500000  4.708333  3.475000\n",
              "2012-09-04  2.750000  3.625000  3.409091\n",
              "2012-09-05  4.333333  3.541667  3.486111\n",
              "2012-09-06  4.166667  4.250000  3.569444\n",
              "2012-09-07  2.833333  3.500000  3.500000\n",
              "2012-09-08  4.166667  3.500000  3.631944\n",
              "2012-09-09  2.833333  3.500000  3.666667\n",
              "2012-09-10  2.666667  2.750000  3.680556\n",
              "2012-09-11  2.416667  2.541667  3.625000\n",
              "2012-09-12  3.500000  2.958333  3.645833\n",
              "2012-09-13  3.000000  3.250000  3.506944"
            ]
          },
          "metadata": {},
          "execution_count": 388
        }
      ],
      "source": [
        "# SMA over a period of 2 and 12 DateTime \n",
        "#min_period = min value to start calculation\n",
        "\n",
        "df['SMA_2'] = df.Count.rolling(2, min_periods=1).mean()\n",
        "df['SMA_12'] = df.Count.rolling(12, min_periods=1).mean()\n",
        "df.head(20)"
      ]
    },
    {
      "cell_type": "code",
      "execution_count": 389,
      "id": "fe635384",
      "metadata": {
        "id": "fe635384",
        "outputId": "b0ae8553-34fb-4e72-b12e-0d03b89ce024",
        "colab": {
          "base_uri": "https://localhost:8080/",
          "height": 309
        }
      },
      "outputs": [
        {
          "output_type": "execute_result",
          "data": {
            "text/plain": [
              "<matplotlib.axes._subplots.AxesSubplot at 0x7f78fcab2c50>"
            ]
          },
          "metadata": {},
          "execution_count": 389
        },
        {
          "output_type": "display_data",
          "data": {
            "image/png": "[encoded data removed]",
            "text/plain": [
              "<Figure size 432x288 with 1 Axes>"
            ]
          },
          "metadata": {
            "needs_background": "light"
          }
        }
      ],
      "source": [
        "df.plot()"
      ]
    },
    {
      "cell_type": "code",
      "execution_count": 390,
      "id": "1e8669ae",
      "metadata": {
        "id": "1e8669ae",
        "outputId": "7c4f2980-4b97-4bc8-db8e-6a3b778fa41b",
        "colab": {
          "base_uri": "https://localhost:8080/",
          "height": 551
        }
      },
      "outputs": [
        {
          "output_type": "execute_result",
          "data": {
            "text/html": [
              "\n",
              "  <div id=\"df-05eac44e-babb-431e-a947-d90bb9e20414\">\n",
              "    <div class=\"colab-df-container\">\n",
              "      <div>\n",
              "<style scoped>\n",
              "    .dataframe tbody tr th:only-of-type {\n",
              "        vertical-align: middle;\n",
              "    }\n",
              "\n",
              "    .dataframe tbody tr th {\n",
              "        vertical-align: top;\n",
              "    }\n",
              "\n",
              "    .dataframe thead th {\n",
              "        text-align: right;\n",
              "    }\n",
              "</style>\n",
              "<table border=\"1\" class=\"dataframe\">\n",
              "  <thead>\n",
              "    <tr style=\"text-align: right;\">\n",
              "      <th></th>\n",
              "      <th>Count</th>\n",
              "      <th>SMA_2</th>\n",
              "      <th>SMA_12</th>\n",
              "      <th>CMA</th>\n",
              "    </tr>\n",
              "    <tr>\n",
              "      <th>DateTime</th>\n",
              "      <th></th>\n",
              "      <th></th>\n",
              "      <th></th>\n",
              "      <th></th>\n",
              "    </tr>\n",
              "  </thead>\n",
              "  <tbody>\n",
              "    <tr>\n",
              "      <th>2012-08-25</th>\n",
              "      <td>3.166667</td>\n",
              "      <td>3.166667</td>\n",
              "      <td>3.166667</td>\n",
              "      <td>3.166667</td>\n",
              "    </tr>\n",
              "    <tr>\n",
              "      <th>2012-08-26</th>\n",
              "      <td>3.666667</td>\n",
              "      <td>3.416667</td>\n",
              "      <td>3.416667</td>\n",
              "      <td>3.416667</td>\n",
              "    </tr>\n",
              "    <tr>\n",
              "      <th>2012-08-27</th>\n",
              "      <td>2.583333</td>\n",
              "      <td>3.125000</td>\n",
              "      <td>3.138889</td>\n",
              "      <td>3.138889</td>\n",
              "    </tr>\n",
              "    <tr>\n",
              "      <th>2012-08-28</th>\n",
              "      <td>2.416667</td>\n",
              "      <td>2.500000</td>\n",
              "      <td>2.958333</td>\n",
              "      <td>2.958333</td>\n",
              "    </tr>\n",
              "    <tr>\n",
              "      <th>2012-08-29</th>\n",
              "      <td>2.500000</td>\n",
              "      <td>2.458333</td>\n",
              "      <td>2.866667</td>\n",
              "      <td>2.866667</td>\n",
              "    </tr>\n",
              "    <tr>\n",
              "      <th>2012-08-30</th>\n",
              "      <td>3.083333</td>\n",
              "      <td>2.791667</td>\n",
              "      <td>2.902778</td>\n",
              "      <td>2.902778</td>\n",
              "    </tr>\n",
              "    <tr>\n",
              "      <th>2012-08-31</th>\n",
              "      <td>3.250000</td>\n",
              "      <td>3.166667</td>\n",
              "      <td>2.952381</td>\n",
              "      <td>2.952381</td>\n",
              "    </tr>\n",
              "    <tr>\n",
              "      <th>2012-09-01</th>\n",
              "      <td>4.666667</td>\n",
              "      <td>3.958333</td>\n",
              "      <td>3.166667</td>\n",
              "      <td>3.166667</td>\n",
              "    </tr>\n",
              "    <tr>\n",
              "      <th>2012-09-02</th>\n",
              "      <td>4.916667</td>\n",
              "      <td>4.791667</td>\n",
              "      <td>3.361111</td>\n",
              "      <td>3.361111</td>\n",
              "    </tr>\n",
              "    <tr>\n",
              "      <th>2012-09-03</th>\n",
              "      <td>4.500000</td>\n",
              "      <td>4.708333</td>\n",
              "      <td>3.475000</td>\n",
              "      <td>3.475000</td>\n",
              "    </tr>\n",
              "    <tr>\n",
              "      <th>2012-09-04</th>\n",
              "      <td>2.750000</td>\n",
              "      <td>3.625000</td>\n",
              "      <td>3.409091</td>\n",
              "      <td>3.409091</td>\n",
              "    </tr>\n",
              "    <tr>\n",
              "      <th>2012-09-05</th>\n",
              "      <td>4.333333</td>\n",
              "      <td>3.541667</td>\n",
              "      <td>3.486111</td>\n",
              "      <td>3.486111</td>\n",
              "    </tr>\n",
              "    <tr>\n",
              "      <th>2012-09-06</th>\n",
              "      <td>4.166667</td>\n",
              "      <td>4.250000</td>\n",
              "      <td>3.569444</td>\n",
              "      <td>3.538462</td>\n",
              "    </tr>\n",
              "    <tr>\n",
              "      <th>2012-09-07</th>\n",
              "      <td>2.833333</td>\n",
              "      <td>3.500000</td>\n",
              "      <td>3.500000</td>\n",
              "      <td>3.488095</td>\n",
              "    </tr>\n",
              "    <tr>\n",
              "      <th>2012-09-08</th>\n",
              "      <td>4.166667</td>\n",
              "      <td>3.500000</td>\n",
              "      <td>3.631944</td>\n",
              "      <td>3.533333</td>\n",
              "    </tr>\n",
              "  </tbody>\n",
              "</table>\n",
              "</div>\n",
              "      <button class=\"colab-df-convert\" onclick=\"convertToInteractive('df-05eac44e-babb-431e-a947-d90bb9e20414')\"\n",
              "              title=\"Convert this dataframe to an interactive table.\"\n",
              "              style=\"display:none;\">\n",
              "        \n",
              "  <svg xmlns=\"http://www.w3.org/2000/svg\" height=\"24px\"viewBox=\"0 0 24 24\"\n",
              "       width=\"24px\">\n",
              "    <path d=\"M0 0h24v24H0V0z\" fill=\"none\"/>\n",
              "    <path d=\"M18.56 5.44l.94 2.06.94-2.06 2.06-.94-2.06-.94-.94-2.06-.94 2.06-2.06.94zm-11 1L8.5 8.5l.94-2.06 2.06-.94-2.06-.94L8.5 2.5l-.94 2.06-2.06.94zm10 10l.94 2.06.94-2.06 2.06-.94-2.06-.94-.94-2.06-.94 2.06-2.06.94z\"/><path d=\"M17.41 7.96l-1.37-1.37c-.4-.4-.92-.59-1.43-.59-.52 0-1.04.2-1.43.59L10.3 9.45l-7.72 7.72c-.78.78-.78 2.05 0 2.83L4 21.41c.39.39.9.59 1.41.59.51 0 1.02-.2 1.41-.59l7.78-7.78 2.81-2.81c.8-.78.8-2.07 0-2.86zM5.41 20L4 18.59l7.72-7.72 1.47 1.35L5.41 20z\"/>\n",
              "  </svg>\n",
              "      </button>\n",
              "      \n",
              "  <style>\n",
              "    .colab-df-container {\n",
              "      display:flex;\n",
              "      flex-wrap:wrap;\n",
              "      gap: 12px;\n",
              "    }\n",
              "\n",
              "    .colab-df-convert {\n",
              "      background-color: #E8F0FE;\n",
              "      border: none;\n",
              "      border-radius: 50%;\n",
              "      cursor: pointer;\n",
              "      display: none;\n",
              "      fill: #1967D2;\n",
              "      height: 32px;\n",
              "      padding: 0 0 0 0;\n",
              "      width: 32px;\n",
              "    }\n",
              "\n",
              "    .colab-df-convert:hover {\n",
              "      background-color: #E2EBFA;\n",
              "      box-shadow: 0px 1px 2px rgba(60, 64, 67, 0.3), 0px 1px 3px 1px rgba(60, 64, 67, 0.15);\n",
              "      fill: #174EA6;\n",
              "    }\n",
              "\n",
              "    [theme=dark] .colab-df-convert {\n",
              "      background-color: #3B4455;\n",
              "      fill: #D2E3FC;\n",
              "    }\n",
              "\n",
              "    [theme=dark] .colab-df-convert:hover {\n",
              "      background-color: #434B5C;\n",
              "      box-shadow: 0px 1px 3px 1px rgba(0, 0, 0, 0.15);\n",
              "      filter: drop-shadow(0px 1px 2px rgba(0, 0, 0, 0.3));\n",
              "      fill: #FFFFFF;\n",
              "    }\n",
              "  </style>\n",
              "\n",
              "      <script>\n",
              "        const buttonEl =\n",
              "          document.querySelector('#df-05eac44e-babb-431e-a947-d90bb9e20414 button.colab-df-convert');\n",
              "        buttonEl.style.display =\n",
              "          google.colab.kernel.accessAllowed ? 'block' : 'none';\n",
              "\n",
              "        async function convertToInteractive(key) {\n",
              "          const element = document.querySelector('#df-05eac44e-babb-431e-a947-d90bb9e20414');\n",
              "          const dataTable =\n",
              "            await google.colab.kernel.invokeFunction('convertToInteractive',\n",
              "                                                     [key], {});\n",
              "          if (!dataTable) return;\n",
              "\n",
              "          const docLinkHtml = 'Like what you see? Visit the ' +\n",
              "            '<a target=\"_blank\" href=https://colab.research.google.com/notebooks/data_table.ipynb>data table notebook</a>'\n",
              "            + ' to learn more about interactive tables.';\n",
              "          element.innerHTML = '';\n",
              "          dataTable['output_type'] = 'display_data';\n",
              "          await google.colab.output.renderOutput(dataTable, element);\n",
              "          const docLink = document.createElement('div');\n",
              "          docLink.innerHTML = docLinkHtml;\n",
              "          element.appendChild(docLink);\n",
              "        }\n",
              "      </script>\n",
              "    </div>\n",
              "  </div>\n",
              "  "
            ],
            "text/plain": [
              "               Count     SMA_2    SMA_12       CMA\n",
              "DateTime                                          \n",
              "2012-08-25  3.166667  3.166667  3.166667  3.166667\n",
              "2012-08-26  3.666667  3.416667  3.416667  3.416667\n",
              "2012-08-27  2.583333  3.125000  3.138889  3.138889\n",
              "2012-08-28  2.416667  2.500000  2.958333  2.958333\n",
              "2012-08-29  2.500000  2.458333  2.866667  2.866667\n",
              "2012-08-30  3.083333  2.791667  2.902778  2.902778\n",
              "2012-08-31  3.250000  3.166667  2.952381  2.952381\n",
              "2012-09-01  4.666667  3.958333  3.166667  3.166667\n",
              "2012-09-02  4.916667  4.791667  3.361111  3.361111\n",
              "2012-09-03  4.500000  4.708333  3.475000  3.475000\n",
              "2012-09-04  2.750000  3.625000  3.409091  3.409091\n",
              "2012-09-05  4.333333  3.541667  3.486111  3.486111\n",
              "2012-09-06  4.166667  4.250000  3.569444  3.538462\n",
              "2012-09-07  2.833333  3.500000  3.500000  3.488095\n",
              "2012-09-08  4.166667  3.500000  3.631944  3.533333"
            ]
          },
          "metadata": {},
          "execution_count": 390
        }
      ],
      "source": [
        "df['CMA']= df.Count.expanding(min_periods=1).mean()  # cummulative moving average the cumulative moving average considers all of the preceding values when calculating the average.\n",
        "df.head(15)"
      ]
    },
    {
      "cell_type": "code",
      "execution_count": 391,
      "id": "4916e3a4",
      "metadata": {
        "id": "4916e3a4",
        "outputId": "7483607f-6c72-4682-a9c0-a528c589b8c3",
        "colab": {
          "base_uri": "https://localhost:8080/",
          "height": 309
        }
      },
      "outputs": [
        {
          "output_type": "execute_result",
          "data": {
            "text/plain": [
              "<matplotlib.axes._subplots.AxesSubplot at 0x7f78fc96a810>"
            ]
          },
          "metadata": {},
          "execution_count": 391
        },
        {
          "output_type": "display_data",
          "data": {
            "image/png": "[encoded data removed]",
            "text/plain": [
              "<Figure size 432x288 with 1 Axes>"
            ]
          },
          "metadata": {
            "needs_background": "light"
          }
        }
      ],
      "source": [
        "df.plot()"
      ]
    },
    {
      "cell_type": "markdown",
      "id": "d18a2053",
      "metadata": {
        "id": "d18a2053"
      },
      "source": [
        "## Exponential Moving Average"
      ]
    },
    {
      "cell_type": "raw",
      "id": "b2ac68ae",
      "metadata": {
        "id": "b2ac68ae"
      },
      "source": [
        "##### Simple Exponential Smoothing (SES) for data without trend or seasonality"
      ]
    },
    {
      "cell_type": "code",
      "execution_count": 392,
      "id": "d5905abc",
      "metadata": {
        "id": "d5905abc"
      },
      "outputs": [],
      "source": [
        "# EMA Count\n",
        "#Exponential Moving Average (EMA) does a superb job in capturing the pattern of the data (0,1)\n",
        "# Let's smoothing factor - 0.1\n",
        "df['EMA_0.1'] = df.Count.ewm(alpha=0.1, adjust=False).mean()\n",
        "# Let's smoothing factor  - 0.3\n",
        "df['EMA_0.3'] = df.Count.ewm(alpha=0.3, adjust=False).mean()"
      ]
    },
    {
      "cell_type": "code",
      "execution_count": 393,
      "id": "a49c32f4",
      "metadata": {
        "id": "a49c32f4",
        "outputId": "78448bc2-1205-4f75-c179-1a444dc49e3c",
        "colab": {
          "base_uri": "https://localhost:8080/",
          "height": 0
        }
      },
      "outputs": [
        {
          "output_type": "execute_result",
          "data": {
            "text/plain": [
              "<matplotlib.axes._subplots.AxesSubplot at 0x7f78fc84c110>"
            ]
          },
          "metadata": {},
          "execution_count": 393
        },
        {
          "output_type": "display_data",
          "data": {
            "image/png": "[encoded data removed]",
            "text/plain": [
              "<Figure size 432x288 with 1 Axes>"
            ]
          },
          "metadata": {
            "needs_background": "light"
          }
        }
      ],
      "source": [
        "df.plot()"
      ]
    },
    {
      "cell_type": "markdown",
      "id": "a7e593b1",
      "metadata": {
        "id": "a7e593b1"
      },
      "source": [
        "# Check for Stationarity\n",
        "#### Two common methods to check for stationarity are Visualization and the Augmented Dickey-Fuller (ADF) Test. Python makes both approaches easy:"
      ]
    },
    {
      "cell_type": "code",
      "execution_count": 394,
      "id": "841c5be2",
      "metadata": {
        "id": "841c5be2"
      },
      "outputs": [],
      "source": [
        "# Rolling Statistics or Visualization\n",
        "\n",
        "rolmean = df.Count.rolling(window=12).mean()\n",
        "rolstd = df.Count.rolling(window=12).std()"
      ]
    },
    {
      "cell_type": "code",
      "execution_count": 395,
      "id": "589aac08",
      "metadata": {
        "colab": {
          "base_uri": "https://localhost:8080/",
          "height": 281
        },
        "id": "589aac08",
        "outputId": "1412c466-5c97-4cd3-dc28-aff73d0135e6"
      },
      "outputs": [
        {
          "output_type": "display_data",
          "data": {
            "image/png": "[encoded data removed]",
            "text/plain": [
              "<Figure size 432x288 with 1 Axes>"
            ]
          },
          "metadata": {
            "needs_background": "light"
          }
        }
      ],
      "source": [
        "orig = plt.plot(df.Count,color='blue',label='original')\n",
        "mean = plt.plot(rolmean,color='red',label='Rolling Mean')\n",
        "std = plt.plot(rolstd,color='black',label='Rolling std')\n",
        "plt.legend()\n",
        "plt.title('Rolling mean and Std deviation')\n",
        "plt.show()"
      ]
    },
    {
      "cell_type": "code",
      "execution_count": 396,
      "id": "3ac34a85",
      "metadata": {
        "id": "3ac34a85"
      },
      "outputs": [],
      "source": [
        "### Testing For Stationarity using Dickey-fuller test\n",
        "\n",
        "from statsmodels.tsa.stattools import adfuller"
      ]
    },
    {
      "cell_type": "code",
      "execution_count": 397,
      "id": "dc9cb7c2",
      "metadata": {
        "colab": {
          "base_uri": "https://localhost:8080/"
        },
        "id": "dc9cb7c2",
        "outputId": "15ad1776-c800-4694-89a5-fe8735097daf"
      },
      "outputs": [
        {
          "output_type": "execute_result",
          "data": {
            "text/plain": [
              "(2.9863509590138064,\n",
              " 1.0,\n",
              " 20,\n",
              " 741,\n",
              " {'1%': -3.4392057325732104,\n",
              "  '10%': -2.5688512291811225,\n",
              "  '5%': -2.8654483492874236},\n",
              " 7212.068059584323)"
            ]
          },
          "metadata": {},
          "execution_count": 397
        }
      ],
      "source": [
        "test_result=adfuller(df['Count'])\n",
        "test_result  # 'ADF Test Statistic','p-value','#Lags Used','Number of Observations Used'"
      ]
    },
    {
      "cell_type": "code",
      "execution_count": 398,
      "id": "53466287",
      "metadata": {
        "id": "53466287"
      },
      "outputs": [],
      "source": [
        "#Ho: It is not stationary\n",
        "#H1: It is stationary\n",
        "\n",
        "def adfuller_test(sales):\n",
        "    result=adfuller(sales)\n",
        "    #print(result)\n",
        "    labels = ['ADF Test Statistic','p-value','Lags Used','Number of Observations Used']\n",
        "    for value,label in zip(result,labels):\n",
        "        print(label+' : '+str(value) )\n",
        "    if result[1] <= 0.05:\n",
        "        print(\"strong evidence against the null hypothesis(Ho), reject the null hypothesis. Data is stationary\")\n",
        "    else:\n",
        "        print(\"weak evidence against null hypothesis, indicating it is non-stationary \")"
      ]
    },
    {
      "cell_type": "code",
      "execution_count": 446,
      "id": "476201aa",
      "metadata": {
        "colab": {
          "base_uri": "https://localhost:8080/"
        },
        "id": "476201aa",
        "outputId": "8c27b43e-03a5-43ea-abd4-9b31cd7d26c4"
      },
      "outputs": [
        {
          "output_type": "stream",
          "name": "stdout",
          "text": [
            "ADF Test Statistic : 2.9863509590138064\n",
            "p-value : 1.0\n",
            "Lags Used : 20\n",
            "Number of Observations Used : 741\n",
            "weak evidence against null hypothesis, indicating it is non-stationary \n"
          ]
        }
      ],
      "source": [
        "adfuller_test(df['Count'])"
      ]
    },
    {
      "cell_type": "markdown",
      "id": "5ad8ae9a",
      "metadata": {
        "id": "5ad8ae9a"
      },
      "source": [
        "# Converting Non- stationary into stationary"
      ]
    },
    {
      "cell_type": "markdown",
      "id": "d096aa55",
      "metadata": {
        "id": "d096aa55"
      },
      "source": [
        "### Detrending\n",
        "This method removes the underlying trend in the time series:"
      ]
    },
    {
      "cell_type": "code",
      "execution_count": 400,
      "id": "8e06de6b",
      "metadata": {
        "id": "8e06de6b"
      },
      "outputs": [],
      "source": [
        "# Detrending\n",
        "df_detrend =  (df['Count'] - df['Count'].rolling(window=21).mean())/df['Count'].rolling(window=21).std()"
      ]
    },
    {
      "cell_type": "code",
      "execution_count": 401,
      "id": "ee5a9024",
      "metadata": {
        "colab": {
          "base_uri": "https://localhost:8080/",
          "height": 281
        },
        "id": "ee5a9024",
        "outputId": "a2ea91c0-2891-4de9-8444-dac2b3567150"
      },
      "outputs": [
        {
          "output_type": "display_data",
          "data": {
            "image/png": "[encoded data removed]",
            "text/plain": [
              "<Figure size 432x288 with 1 Axes>"
            ]
          },
          "metadata": {
            "needs_background": "light"
          }
        }
      ],
      "source": [
        "# Rolling Statistics or Visualization\n",
        "\n",
        "rolmean = df_detrend.rolling(window=21).mean()\n",
        "rolstd = df_detrend.rolling(window=21).std()\n",
        "\n",
        "orig = plt.plot(df_detrend,color='blue',label='df_detrend')\n",
        "mean = plt.plot(rolmean,color='red',label='Rolling Mean')\n",
        "std = plt.plot(rolstd,color='black',label='Rolling std')\n",
        "plt.legend()\n",
        "plt.title('Rolling mean and Std deviation')\n",
        "plt.show()"
      ]
    },
    {
      "cell_type": "code",
      "execution_count": 402,
      "id": "86ba0147",
      "metadata": {
        "id": "86ba0147"
      },
      "outputs": [],
      "source": [
        "df_detrend = df_detrend.dropna()"
      ]
    },
    {
      "cell_type": "code",
      "execution_count": 448,
      "id": "80e5081e",
      "metadata": {
        "colab": {
          "base_uri": "https://localhost:8080/"
        },
        "id": "80e5081e",
        "outputId": "fd5048f4-c289-4960-cac9-e59421d36d79"
      },
      "outputs": [
        {
          "output_type": "stream",
          "name": "stdout",
          "text": [
            "ADF Test Statistic : -6.858601721956719\n",
            "p-value : 1.6241878203855412e-09\n",
            "Lags Used : 20\n",
            "Number of Observations Used : 721\n",
            "strong evidence against the null hypothesis(Ho), reject the null hypothesis. Data is stationary\n"
          ]
        }
      ],
      "source": [
        "#ad fuller test\n",
        "adfuller_test(df_detrend.dropna())\n"
      ]
    },
    {
      "cell_type": "code",
      "execution_count": 405,
      "id": "d42fe729",
      "metadata": {
        "colab": {
          "base_uri": "https://localhost:8080/",
          "height": 299
        },
        "id": "d42fe729",
        "outputId": "5d4a3d07-507a-442a-8f74-65a8acf25385"
      },
      "outputs": [
        {
          "output_type": "display_data",
          "data": {
            "image/png": "[encoded data removed]",
            "text/plain": [
              "<Figure size 432x288 with 4 Axes>"
            ]
          },
          "metadata": {
            "needs_background": "light"
          }
        }
      ],
      "source": [
        "from statsmodels.tsa.seasonal import seasonal_decompose\n",
        "decompose_result = seasonal_decompose(df_detrend,model='additive',freq=1)\n",
        "decompose_result.plot()\n",
        "plt.show()"
      ]
    },
    {
      "cell_type": "code",
      "execution_count": 413,
      "id": "b1838d59",
      "metadata": {
        "id": "b1838d59"
      },
      "outputs": [],
      "source": [
        "n_df = df_detrend"
      ]
    },
    {
      "cell_type": "code",
      "source": [
        "converted = pd.DataFrame()"
      ],
      "metadata": {
        "id": "aFZywFHVZ6Jc"
      },
      "execution_count": 425,
      "outputs": [],
      "id": "aFZywFHVZ6Jc"
    },
    {
      "cell_type": "code",
      "execution_count": 426,
      "metadata": {
        "id": "5a4ed350"
      },
      "outputs": [],
      "source": [
        "converted['converted_count'] = df_detrend"
      ],
      "id": "5a4ed350"
    },
    {
      "cell_type": "code",
      "source": [
        "# from statsmodels.tsa.ar_model import AutoReg"
      ],
      "metadata": {
        "id": "zRdkldLn6nFg"
      },
      "id": "zRdkldLn6nFg",
      "execution_count": 427,
      "outputs": []
    },
    {
      "cell_type": "code",
      "execution_count": 428,
      "metadata": {
        "id": "nbyrmXDn8zFo",
        "colab": {
          "base_uri": "https://localhost:8080/"
        },
        "outputId": "b9e331a8-c10f-44ab-dd2e-563e4097d204"
      },
      "outputs": [
        {
          "output_type": "execute_result",
          "data": {
            "text/plain": [
              "(-7.869743724780802,\n",
              " 5.022165724692337e-12,\n",
              " 20,\n",
              " 721,\n",
              " {'1%': -3.4394522667904153,\n",
              "  '10%': -2.568909106765338,\n",
              "  '5%': -2.8655569894909805},\n",
              " 7036.700334387224)"
            ]
          },
          "metadata": {},
          "execution_count": 428
        }
      ],
      "source": [
        "converted['converted_count']=df['Count']-df['Count'].shift(1)\n",
        "## Again test dickey fuller test\n",
        "test_result=adfuller(converted['converted_count'].dropna())\n",
        "test_result"
      ],
      "id": "nbyrmXDn8zFo"
    },
    {
      "cell_type": "code",
      "execution_count": 429,
      "metadata": {
        "id": "mBKd9qHc8zFo",
        "colab": {
          "base_uri": "https://localhost:8080/"
        },
        "outputId": "9e7718c3-ce34-43ac-e8fa-81acafd579ce"
      },
      "outputs": [
        {
          "output_type": "execute_result",
          "data": {
            "text/plain": [
              "(-9.481491805173777,\n",
              " 3.8620327288466455e-16,\n",
              " 20,\n",
              " 720,\n",
              " {'1%': -3.439464954327953,\n",
              "  '10%': -2.5689120852623457,\n",
              "  '5%': -2.8655625802683473},\n",
              " 7169.7144851612675)"
            ]
          },
          "metadata": {},
          "execution_count": 429
        }
      ],
      "source": [
        "converted['converted_count']=df['Count']-df['Count'].shift(21)\n",
        "## Again test dickey fuller test\n",
        "test_result=adfuller(converted['converted_count'].dropna())\n",
        "test_result"
      ],
      "id": "mBKd9qHc8zFo"
    },
    {
      "cell_type": "code",
      "execution_count": 430,
      "metadata": {
        "id": "jJR3wL4H8zFp",
        "colab": {
          "base_uri": "https://localhost:8080/"
        },
        "outputId": "a7f0fb9a-ac38-411f-8906-bea116e95e4e"
      },
      "outputs": [
        {
          "output_type": "execute_result",
          "data": {
            "text/plain": [
              "DateTime\n",
              "2012-08-25      3.166667\n",
              "2012-08-26      3.666667\n",
              "2012-08-27      2.583333\n",
              "2012-08-28      2.416667\n",
              "2012-08-29      2.500000\n",
              "                 ...    \n",
              "2014-09-21    379.250000\n",
              "2014-09-22    588.166667\n",
              "2014-09-23    554.333333\n",
              "2014-09-24    702.333333\n",
              "2014-09-25    589.666667\n",
              "Freq: D, Name: Count, Length: 762, dtype: float64"
            ]
          },
          "metadata": {},
          "execution_count": 430
        }
      ],
      "source": [
        ""
      ],
      "id": "jJR3wL4H8zFp"
    },
    {
      "cell_type": "code",
      "execution_count": 432,
      "metadata": {
        "id": "dgFD7ncH8zFp"
      },
      "outputs": [],
      "source": [
        "import statsmodels.api as sm\n"
      ],
      "id": "dgFD7ncH8zFp"
    },
    {
      "cell_type": "code",
      "execution_count": 450,
      "metadata": {
        "id": "7EBWMlOZ8zFp",
        "colab": {
          "base_uri": "https://localhost:8080/",
          "height": 499
        },
        "outputId": "23c79647-3dcd-4aff-e5fe-ec180d145fc8"
      },
      "outputs": [
        {
          "output_type": "display_data",
          "data": {
            "image/png": "[encoded data removed]",
            "text/plain": [
              "<Figure size 864x576 with 2 Axes>"
            ]
          },
          "metadata": {
            "needs_background": "light"
          }
        }
      ],
      "source": [
        "%matplotlib inline\n",
        "fig = plt.figure(figsize=(12,8))\n",
        "ax1 = fig.add_subplot(211)\n",
        "fig = sm.graphics.tsa.plot_acf(df['Count'], lags=55, ax=ax1)\n",
        "ax2 = fig.add_subplot(212)\n",
        "fig = sm.graphics.tsa.plot_pacf(df['Count'], lags=55, ax=ax2)"
      ],
      "id": "7EBWMlOZ8zFp"
    },
    {
      "cell_type": "code",
      "execution_count": 434,
      "metadata": {
        "id": "p9dCxn3-8zFp",
        "colab": {
          "base_uri": "https://localhost:8080/",
          "height": 499
        },
        "outputId": "308649d5-f7e6-47f2-ac2d-24390aac0882"
      },
      "outputs": [
        {
          "output_type": "display_data",
          "data": {
            "image/png": "[encoded data removed]",
            "text/plain": [
              "<Figure size 864x576 with 2 Axes>"
            ]
          },
          "metadata": {
            "needs_background": "light"
          }
        }
      ],
      "source": [
        "%matplotlib inline\n",
        "fig = plt.figure(figsize=(12,8))\n",
        "ax1 = fig.add_subplot(211)\n",
        "fig = sm.graphics.tsa.plot_acf(converted['converted_count'].dropna(), lags=21, ax=ax1)\n",
        "ax2 = fig.add_subplot(212)\n",
        "fig = sm.graphics.tsa.plot_pacf(converted['converted_count'].dropna(), lags=21, ax=ax2)"
      ],
      "id": "p9dCxn3-8zFp"
    },
    {
      "cell_type": "code",
      "execution_count": 435,
      "metadata": {
        "id": "Ojs1mjtC8zFq"
      },
      "outputs": [],
      "source": [
        "from statsmodels.tsa.arima_model import ARMA\n",
        "# fit model\n",
        "ARMAmodel = ARMA(df['Count'], order=(1, 1))\n",
        "ARmodel_fit = ARMAmodel.fit(disp=False)"
      ],
      "id": "Ojs1mjtC8zFq"
    },
    {
      "cell_type": "code",
      "source": [
        "df['Count'].count()"
      ],
      "metadata": {
        "colab": {
          "base_uri": "https://localhost:8080/"
        },
        "id": "b0RM1v36W6yT",
        "outputId": "f7859c0d-a478-4a3f-e9aa-2fe734724dcf"
      },
      "id": "b0RM1v36W6yT",
      "execution_count": 436,
      "outputs": [
        {
          "output_type": "execute_result",
          "data": {
            "text/plain": [
              "762"
            ]
          },
          "metadata": {},
          "execution_count": 436
        }
      ]
    },
    {
      "cell_type": "code",
      "execution_count": 437,
      "metadata": {
        "id": "T_hyt5UY8zFr",
        "colab": {
          "base_uri": "https://localhost:8080/"
        },
        "outputId": "1913f63c-4bed-4ded-a9d0-b1d611844dd1"
      },
      "outputs": [
        {
          "output_type": "execute_result",
          "data": {
            "text/plain": [
              "DateTime\n",
              "2014-09-13    253.333333\n",
              "2014-09-14    238.166667\n",
              "2014-09-15    445.333333\n",
              "2014-09-16    670.000000\n",
              "2014-09-17    569.833333\n",
              "2014-09-18    458.333333\n",
              "2014-09-19    543.083333\n",
              "2014-09-20    341.083333\n",
              "2014-09-21    379.250000\n",
              "2014-09-22    588.166667\n",
              "2014-09-23    554.333333\n",
              "2014-09-24    702.333333\n",
              "2014-09-25    589.666667\n",
              "Freq: D, Name: Count, dtype: float64"
            ]
          },
          "metadata": {},
          "execution_count": 437
        }
      ],
      "source": [
        "actuals = df['Count'][749:763]\n",
        "actuals"
      ],
      "id": "T_hyt5UY8zFr"
    },
    {
      "cell_type": "code",
      "execution_count": 438,
      "metadata": {
        "id": "GLspBnRp8zFr",
        "colab": {
          "base_uri": "https://localhost:8080/"
        },
        "outputId": "ca8fcf11-fd14-4bc8-bbed-073c260323a9"
      },
      "outputs": [
        {
          "output_type": "stream",
          "name": "stdout",
          "text": [
            "2014-09-14    239.031502\n",
            "2014-09-15    230.901013\n",
            "2014-09-16    434.640107\n",
            "2014-09-17    643.347121\n",
            "2014-09-18    533.043302\n",
            "2014-09-19    429.993243\n",
            "2014-09-20    519.084823\n",
            "2014-09-21    315.752144\n",
            "2014-09-22    364.912357\n",
            "2014-09-23    567.068787\n",
            "2014-09-24    522.228165\n",
            "2014-09-25    670.027630\n",
            "2014-09-26    550.966952\n",
            "Freq: D, dtype: float64\n"
          ]
        }
      ],
      "source": [
        "ypredicted = ARmodel_fit.predict(750,762)  # end point included\n",
        "print(ypredicted)"
      ],
      "id": "GLspBnRp8zFr"
    },
    {
      "cell_type": "code",
      "execution_count": 439,
      "metadata": {
        "id": "Kes-kbVq8zFs",
        "colab": {
          "base_uri": "https://localhost:8080/"
        },
        "outputId": "eca90250-f27f-492c-ead4-07df7c3ff341"
      },
      "outputs": [
        {
          "output_type": "stream",
          "name": "stdout",
          "text": [
            "MAE: 23.993809\n"
          ]
        }
      ],
      "source": [
        "from sklearn.metrics import mean_absolute_error\n",
        "mae = mean_absolute_error(actuals, ypredicted)\n",
        "print('MAE: %f' % mae)\n",
        "#print(ARmodel_fit.aic)"
      ],
      "id": "Kes-kbVq8zFs"
    },
    {
      "cell_type": "code",
      "execution_count": 440,
      "metadata": {
        "id": "Qgqfl3WR8zFt",
        "colab": {
          "base_uri": "https://localhost:8080/"
        },
        "outputId": "124a929c-430d-4f7a-93b6-a0e110ccd304"
      },
      "outputs": [
        {
          "output_type": "stream",
          "name": "stdout",
          "text": [
            "ARMA(0, 0) - MAE:348.1893212867622\n",
            "ARMA(0, 1) - MAE:185.19680811759886\n",
            "ARMA(1, 0) - MAE:23.241765447862583\n",
            "ARMA(1, 1) - MAE:23.993809429479125\n"
          ]
        },
        {
          "output_type": "stream",
          "name": "stderr",
          "text": [
            "/usr/local/lib/python3.7/dist-packages/statsmodels/base/model.py:492: HessianInversionWarning: Inverting hessian failed, no bse or cov_params available\n",
            "  'available', HessianInversionWarning)\n"
          ]
        },
        {
          "output_type": "stream",
          "name": "stdout",
          "text": [
            "ARMA(1, 2) - MAE:73.41028372281995\n",
            "ARMA(1, 3) - MAE:70.42411559356346\n"
          ]
        },
        {
          "output_type": "stream",
          "name": "stderr",
          "text": [
            "/usr/local/lib/python3.7/dist-packages/statsmodels/base/model.py:492: HessianInversionWarning: Inverting hessian failed, no bse or cov_params available\n",
            "  'available', HessianInversionWarning)\n"
          ]
        },
        {
          "output_type": "stream",
          "name": "stdout",
          "text": [
            "ARMA(1, 4) - MAE:85.94018480793235\n"
          ]
        },
        {
          "output_type": "stream",
          "name": "stderr",
          "text": [
            "/usr/local/lib/python3.7/dist-packages/statsmodels/tsa/kalmanf/kalmanfilter.py:221: RuntimeWarning: overflow encountered in square\n",
            "  Z_mat, R_mat, T_mat)\n",
            "/usr/local/lib/python3.7/dist-packages/statsmodels/tsa/tsatools.py:668: RuntimeWarning: overflow encountered in exp\n",
            "  newparams = ((1-np.exp(-params))/(1+np.exp(-params))).copy()\n",
            "/usr/local/lib/python3.7/dist-packages/statsmodels/tsa/tsatools.py:668: RuntimeWarning: invalid value encountered in true_divide\n",
            "  newparams = ((1-np.exp(-params))/(1+np.exp(-params))).copy()\n",
            "/usr/local/lib/python3.7/dist-packages/statsmodels/tsa/tsatools.py:669: RuntimeWarning: overflow encountered in exp\n",
            "  tmp = ((1-np.exp(-params))/(1+np.exp(-params))).copy()\n",
            "/usr/local/lib/python3.7/dist-packages/statsmodels/tsa/tsatools.py:669: RuntimeWarning: invalid value encountered in true_divide\n",
            "  tmp = ((1-np.exp(-params))/(1+np.exp(-params))).copy()\n"
          ]
        },
        {
          "output_type": "stream",
          "name": "stdout",
          "text": [
            "ARMA(1, 5) - MAE:90.0948267021097\n",
            "ARMA(1, 6) - MAE:84.28812911156312\n",
            "ARMA(2, 0) - MAE:23.512621313096666\n",
            "ARMA(2, 1) - MAE:64.91906974103894\n",
            "ARMA(2, 2) - MAE:71.18613272452762\n"
          ]
        },
        {
          "output_type": "stream",
          "name": "stderr",
          "text": [
            "/usr/local/lib/python3.7/dist-packages/statsmodels/tsa/tsatools.py:651: RuntimeWarning: divide by zero encountered in arctanh\n",
            "  invarcoefs = 2*np.arctanh(params)\n",
            "/usr/local/lib/python3.7/dist-packages/statsmodels/base/model.py:492: HessianInversionWarning: Inverting hessian failed, no bse or cov_params available\n",
            "  'available', HessianInversionWarning)\n",
            "/usr/local/lib/python3.7/dist-packages/statsmodels/base/model.py:512: ConvergenceWarning: Maximum Likelihood optimization failed to converge. Check mle_retvals\n",
            "  \"Check mle_retvals\", ConvergenceWarning)\n"
          ]
        },
        {
          "output_type": "stream",
          "name": "stdout",
          "text": [
            "ARMA(2, 4) - MAE:85.64056957820587\n",
            "ARMA(2, 5) - MAE:89.5869433129625\n",
            "ARMA(2, 6) - MAE:76.90897615286934\n",
            "ARMA(3, 0) - MAE:41.25107417522671\n",
            "ARMA(3, 1) - MAE:79.14527114934191\n",
            "ARMA(3, 2) - MAE:83.3511688311627\n",
            "ARMA(4, 0) - MAE:41.67867406755878\n"
          ]
        },
        {
          "output_type": "stream",
          "name": "stderr",
          "text": [
            "/usr/local/lib/python3.7/dist-packages/statsmodels/base/model.py:512: ConvergenceWarning: Maximum Likelihood optimization failed to converge. Check mle_retvals\n",
            "  \"Check mle_retvals\", ConvergenceWarning)\n"
          ]
        },
        {
          "output_type": "stream",
          "name": "stdout",
          "text": [
            "ARMA(4, 1) - MAE:81.15622076486316\n"
          ]
        },
        {
          "output_type": "stream",
          "name": "stderr",
          "text": [
            "/usr/local/lib/python3.7/dist-packages/statsmodels/base/model.py:492: HessianInversionWarning: Inverting hessian failed, no bse or cov_params available\n",
            "  'available', HessianInversionWarning)\n"
          ]
        },
        {
          "output_type": "stream",
          "name": "stdout",
          "text": [
            "ARMA(4, 2) - MAE:82.43789364373518\n",
            "ARMA(4, 3) - MAE:87.59775837360436\n"
          ]
        },
        {
          "output_type": "stream",
          "name": "stderr",
          "text": [
            "/usr/local/lib/python3.7/dist-packages/statsmodels/tsa/tsatools.py:649: RuntimeWarning: invalid value encountered in double_scalars\n",
            "  (1-a**2)\n",
            "/usr/local/lib/python3.7/dist-packages/statsmodels/tsa/tsatools.py:651: RuntimeWarning: divide by zero encountered in arctanh\n",
            "  invarcoefs = 2*np.arctanh(params)\n"
          ]
        },
        {
          "output_type": "stream",
          "name": "stdout",
          "text": [
            "ARMA(5, 0) - MAE:64.31037666309341\n",
            "ARMA(5, 1) - MAE:92.68158471295337\n",
            "ARMA(6, 0) - MAE:83.385117119368\n"
          ]
        }
      ],
      "source": [
        "import itertools\n",
        "i = j = range(0, 7)\n",
        "ij = itertools.product(i,j)\n",
        "for parameters in ij:\n",
        "    try:\n",
        "        mod = ARMA(df['Count'],order=parameters)\n",
        "        results = mod.fit()\n",
        "        ypredicted = results.predict(750,762)  # end point included\n",
        "        mae = mean_absolute_error(actuals, ypredicted)\n",
        "        print('ARMA{} - MAE:{}'.format(parameters, mae))\n",
        "        #print('ARMA{} - AIC:{}'.format(parameters, results.aic))\n",
        "    except:\n",
        "        continue"
      ],
      "id": "Qgqfl3WR8zFt"
    },
    {
      "cell_type": "code",
      "source": [
        ""
      ],
      "metadata": {
        "id": "EdfhLPLMYQat"
      },
      "id": "EdfhLPLMYQat",
      "execution_count": 440,
      "outputs": []
    },
    {
      "cell_type": "code",
      "execution_count": 441,
      "metadata": {
        "id": "YNNjbCu_8zFt",
        "colab": {
          "base_uri": "https://localhost:8080/"
        },
        "outputId": "7444f5c0-c3ad-4e27-85e2-6fd736de0f9d"
      },
      "outputs": [
        {
          "output_type": "stream",
          "name": "stdout",
          "text": [
            "2014-09-14    245.949290\n",
            "2014-09-15    231.811256\n",
            "2014-09-16    424.927481\n",
            "2014-09-17    634.356822\n",
            "2014-09-18    540.983651\n",
            "2014-09-19    437.045796\n",
            "2014-09-20    516.047888\n",
            "2014-09-21    327.747916\n",
            "2014-09-22    363.326046\n",
            "2014-09-23    558.073583\n",
            "2014-09-24    526.534891\n",
            "2014-09-25    664.497246\n",
            "2014-09-26    559.471850\n",
            "Freq: D, dtype: float64\n",
            "MAE: 23.241765\n",
            "8169.4641126953575\n"
          ]
        }
      ],
      "source": [
        "ARMAmodel = ARMA(df['Count'], order=(1, 0))\n",
        "ARmodel_fit = ARMAmodel.fit()\n",
        "ypredicted = ARmodel_fit.predict(750,762)  # end point included\n",
        "print(ypredicted)\n",
        "mae = mean_absolute_error(actuals, ypredicted)\n",
        "print('MAE: %f' % mae)\n",
        "print(ARmodel_fit.aic)"
      ],
      "id": "YNNjbCu_8zFt"
    },
    {
      "cell_type": "markdown",
      "metadata": {
        "id": "lneltwvX8zFu"
      },
      "source": [
        "We now calculate the Akaike Information Criterion (AIC), Schwarz Bayesian Information Criterion (BIC), and Hannan-Quinn Information Criterion (HQIC). Our goalis to choose a model that minimizes (AIC, BIC, HQIC)."
      ],
      "id": "lneltwvX8zFu"
    },
    {
      "cell_type": "code",
      "execution_count": 442,
      "metadata": {
        "id": "DDkIKF2H8zFu",
        "colab": {
          "base_uri": "https://localhost:8080/"
        },
        "outputId": "a05dd2b5-b89f-4c9e-a7ab-b24ab0249a31"
      },
      "outputs": [
        {
          "output_type": "stream",
          "name": "stdout",
          "text": [
            "DateTime\n",
            "2014-09-06    506.182336\n",
            "2014-09-07    326.582694\n",
            "2014-09-08    276.866530\n",
            "2014-09-09    406.905371\n",
            "2014-09-10    518.766740\n",
            "2014-09-11    460.039522\n",
            "2014-09-12    405.196378\n",
            "2014-09-13    359.752697\n",
            "2014-09-14    245.949290\n",
            "2014-09-15    231.811256\n",
            "2014-09-16    424.927481\n",
            "2014-09-17    634.356822\n",
            "2014-09-18    540.983651\n",
            "Freq: D, dtype: float64\n"
          ]
        }
      ],
      "source": [
        "# make prediction\n",
        "ypredicted = ARmodel_fit.predict(len(converted), len(converted)+12)\n",
        "print(ypredicted)"
      ],
      "id": "DDkIKF2H8zFu"
    },
    {
      "cell_type": "code",
      "execution_count": 442,
      "metadata": {
        "id": "hYNUAbvi8zFu"
      },
      "outputs": [],
      "source": [
        ""
      ],
      "id": "hYNUAbvi8zFu"
    },
    {
      "cell_type": "code",
      "execution_count": 442,
      "metadata": {
        "id": "XiIq3nad8zFv"
      },
      "outputs": [],
      "source": [
        ""
      ],
      "id": "XiIq3nad8zFv"
    },
    {
      "cell_type": "code",
      "execution_count": 445,
      "metadata": {
        "id": "-zh3MpfC8zFv",
        "colab": {
          "base_uri": "https://localhost:8080/"
        },
        "outputId": "9b1a05c2-5f73-418d-9ab6-0726111c5776"
      },
      "outputs": [
        {
          "output_type": "stream",
          "name": "stdout",
          "text": [
            "ARMA(0, 0) - MAE:474.09019343229863\n",
            "ARMA(0, 1) - MAE:469.367519207958\n",
            "ARMA(0, 2) - MAE:469.5376979687883\n",
            "ARMA(0, 3) - MAE:470.8456245541837\n",
            "ARMA(1, 0) - MAE:472.63150834484287\n",
            "ARMA(1, 1) - MAE:471.35679764015134\n",
            "ARMA(1, 2) - MAE:472.365435921546\n",
            "ARMA(1, 3) - MAE:473.12717413222487\n",
            "ARMA(1, 4) - MAE:472.4681838168641\n",
            "ARMA(1, 6) - MAE:472.1271544013567\n",
            "ARMA(1, 7) - MAE:472.04966419590954\n"
          ]
        },
        {
          "output_type": "stream",
          "name": "stderr",
          "text": [
            "/usr/local/lib/python3.7/dist-packages/statsmodels/tsa/tsatools.py:695: RuntimeWarning: divide by zero encountered in true_divide\n",
            "  invmacoefs = -np.log((1-macoefs)/(1+macoefs))\n",
            "/usr/local/lib/python3.7/dist-packages/statsmodels/tsa/tsatools.py:668: RuntimeWarning: invalid value encountered in true_divide\n",
            "  newparams = ((1-np.exp(-params))/(1+np.exp(-params))).copy()\n",
            "/usr/local/lib/python3.7/dist-packages/statsmodels/tsa/tsatools.py:669: RuntimeWarning: invalid value encountered in true_divide\n",
            "  tmp = ((1-np.exp(-params))/(1+np.exp(-params))).copy()\n"
          ]
        },
        {
          "output_type": "stream",
          "name": "stdout",
          "text": [
            "ARMA(2, 0) - MAE:472.11497174523385\n",
            "ARMA(2, 1) - MAE:470.994289145691\n",
            "ARMA(2, 2) - MAE:473.1966528290733\n",
            "ARMA(3, 0) - MAE:473.809831738247\n",
            "ARMA(3, 1) - MAE:472.9176832921521\n",
            "ARMA(3, 2) - MAE:472.2689339795716\n",
            "ARMA(4, 0) - MAE:472.645051040095\n",
            "ARMA(4, 1) - MAE:472.5801084768437\n",
            "ARMA(4, 2) - MAE:472.6579581956397\n",
            "ARMA(4, 3) - MAE:472.2582895170129\n",
            "ARMA(4, 6) - MAE:474.42838056354947\n",
            "ARMA(5, 0) - MAE:472.71407427373947\n",
            "ARMA(5, 1) - MAE:472.47274761817204\n",
            "ARMA(5, 2) - MAE:472.6334963904468\n",
            "ARMA(5, 3) - MAE:472.514483885574\n",
            "ARMA(5, 4) - MAE:474.6571105101939\n"
          ]
        },
        {
          "output_type": "stream",
          "name": "stderr",
          "text": [
            "/usr/local/lib/python3.7/dist-packages/statsmodels/base/model.py:492: HessianInversionWarning: Inverting hessian failed, no bse or cov_params available\n",
            "  'available', HessianInversionWarning)\n"
          ]
        },
        {
          "output_type": "stream",
          "name": "stdout",
          "text": [
            "ARMA(5, 5) - MAE:474.8393953309845\n"
          ]
        },
        {
          "output_type": "stream",
          "name": "stderr",
          "text": [
            "/usr/local/lib/python3.7/dist-packages/statsmodels/base/model.py:492: HessianInversionWarning: Inverting hessian failed, no bse or cov_params available\n",
            "  'available', HessianInversionWarning)\n"
          ]
        },
        {
          "output_type": "stream",
          "name": "stdout",
          "text": [
            "ARMA(5, 6) - MAE:477.42185767467487\n",
            "ARMA(6, 0) - MAE:472.49753354006504\n",
            "ARMA(6, 1) - MAE:472.5649295957974\n",
            "ARMA(6, 2) - MAE:472.5096685032482\n",
            "ARMA(6, 3) - MAE:472.077904402211\n"
          ]
        },
        {
          "output_type": "stream",
          "name": "stderr",
          "text": [
            "/usr/local/lib/python3.7/dist-packages/statsmodels/base/model.py:492: HessianInversionWarning: Inverting hessian failed, no bse or cov_params available\n",
            "  'available', HessianInversionWarning)\n"
          ]
        },
        {
          "output_type": "stream",
          "name": "stdout",
          "text": [
            "ARMA(6, 4) - MAE:470.64717098295364\n",
            "ARMA(6, 5) - MAE:472.3172710678909\n"
          ]
        },
        {
          "output_type": "stream",
          "name": "stderr",
          "text": [
            "/usr/local/lib/python3.7/dist-packages/statsmodels/tsa/tsatools.py:693: RuntimeWarning: invalid value encountered in double_scalars\n",
            "  tmp[kiter] = (macoefs[kiter]-b *macoefs[j-kiter-1])/(1-b**2)\n",
            "/usr/local/lib/python3.7/dist-packages/statsmodels/tsa/tsatools.py:695: RuntimeWarning: divide by zero encountered in true_divide\n",
            "  invmacoefs = -np.log((1-macoefs)/(1+macoefs))\n",
            "/usr/local/lib/python3.7/dist-packages/statsmodels/tsa/tsatools.py:668: RuntimeWarning: invalid value encountered in true_divide\n",
            "  newparams = ((1-np.exp(-params))/(1+np.exp(-params))).copy()\n",
            "/usr/local/lib/python3.7/dist-packages/statsmodels/tsa/tsatools.py:669: RuntimeWarning: invalid value encountered in true_divide\n",
            "  tmp = ((1-np.exp(-params))/(1+np.exp(-params))).copy()\n"
          ]
        },
        {
          "output_type": "stream",
          "name": "stdout",
          "text": [
            "ARMA(7, 0) - MAE:472.6422915802113\n",
            "ARMA(7, 1) - MAE:472.524452998291\n",
            "ARMA(7, 2) - MAE:472.2177724053481\n"
          ]
        },
        {
          "output_type": "stream",
          "name": "stderr",
          "text": [
            "/usr/local/lib/python3.7/dist-packages/statsmodels/base/model.py:492: HessianInversionWarning: Inverting hessian failed, no bse or cov_params available\n",
            "  'available', HessianInversionWarning)\n"
          ]
        },
        {
          "output_type": "stream",
          "name": "stdout",
          "text": [
            "ARMA(7, 3) - MAE:470.87677006302096\n"
          ]
        },
        {
          "output_type": "stream",
          "name": "stderr",
          "text": [
            "/usr/local/lib/python3.7/dist-packages/statsmodels/tsa/tsatools.py:668: RuntimeWarning: overflow encountered in exp\n",
            "  newparams = ((1-np.exp(-params))/(1+np.exp(-params))).copy()\n",
            "/usr/local/lib/python3.7/dist-packages/statsmodels/tsa/tsatools.py:668: RuntimeWarning: invalid value encountered in true_divide\n",
            "  newparams = ((1-np.exp(-params))/(1+np.exp(-params))).copy()\n",
            "/usr/local/lib/python3.7/dist-packages/statsmodels/tsa/tsatools.py:669: RuntimeWarning: overflow encountered in exp\n",
            "  tmp = ((1-np.exp(-params))/(1+np.exp(-params))).copy()\n",
            "/usr/local/lib/python3.7/dist-packages/statsmodels/tsa/tsatools.py:669: RuntimeWarning: invalid value encountered in true_divide\n",
            "  tmp = ((1-np.exp(-params))/(1+np.exp(-params))).copy()\n"
          ]
        },
        {
          "output_type": "stream",
          "name": "stdout",
          "text": [
            "ARMA(7, 4) - MAE:473.0221880579472\n"
          ]
        },
        {
          "output_type": "stream",
          "name": "stderr",
          "text": [
            "/usr/local/lib/python3.7/dist-packages/statsmodels/tsa/tsatools.py:668: RuntimeWarning: overflow encountered in exp\n",
            "  newparams = ((1-np.exp(-params))/(1+np.exp(-params))).copy()\n",
            "/usr/local/lib/python3.7/dist-packages/statsmodels/tsa/tsatools.py:668: RuntimeWarning: invalid value encountered in true_divide\n",
            "  newparams = ((1-np.exp(-params))/(1+np.exp(-params))).copy()\n",
            "/usr/local/lib/python3.7/dist-packages/statsmodels/tsa/tsatools.py:669: RuntimeWarning: overflow encountered in exp\n",
            "  tmp = ((1-np.exp(-params))/(1+np.exp(-params))).copy()\n",
            "/usr/local/lib/python3.7/dist-packages/statsmodels/tsa/tsatools.py:669: RuntimeWarning: invalid value encountered in true_divide\n",
            "  tmp = ((1-np.exp(-params))/(1+np.exp(-params))).copy()\n",
            "/usr/local/lib/python3.7/dist-packages/statsmodels/base/model.py:492: HessianInversionWarning: Inverting hessian failed, no bse or cov_params available\n",
            "  'available', HessianInversionWarning)\n",
            "/usr/local/lib/python3.7/dist-packages/statsmodels/base/model.py:512: ConvergenceWarning: Maximum Likelihood optimization failed to converge. Check mle_retvals\n",
            "  \"Check mle_retvals\", ConvergenceWarning)\n"
          ]
        },
        {
          "output_type": "stream",
          "name": "stdout",
          "text": [
            "ARMA(7, 5) - MAE:473.36824741774575\n"
          ]
        },
        {
          "output_type": "stream",
          "name": "stderr",
          "text": [
            "/usr/local/lib/python3.7/dist-packages/statsmodels/tsa/tsatools.py:695: RuntimeWarning: invalid value encountered in log\n",
            "  invmacoefs = -np.log((1-macoefs)/(1+macoefs))\n",
            "/usr/local/lib/python3.7/dist-packages/statsmodels/base/model.py:492: HessianInversionWarning: Inverting hessian failed, no bse or cov_params available\n",
            "  'available', HessianInversionWarning)\n",
            "/usr/local/lib/python3.7/dist-packages/statsmodels/base/model.py:512: ConvergenceWarning: Maximum Likelihood optimization failed to converge. Check mle_retvals\n",
            "  \"Check mle_retvals\", ConvergenceWarning)\n"
          ]
        },
        {
          "output_type": "stream",
          "name": "stdout",
          "text": [
            "ARMA(7, 7) - MAE:472.5283162890333\n"
          ]
        },
        {
          "output_type": "stream",
          "name": "stderr",
          "text": [
            "/usr/local/lib/python3.7/dist-packages/statsmodels/base/model.py:492: HessianInversionWarning: Inverting hessian failed, no bse or cov_params available\n",
            "  'available', HessianInversionWarning)\n"
          ]
        },
        {
          "output_type": "stream",
          "name": "stdout",
          "text": [
            "ARMA(7, 8) - MAE:476.04251701419605\n",
            "ARMA(8, 0) - MAE:472.6281138018138\n",
            "ARMA(8, 1) - MAE:472.43148186434814\n",
            "ARMA(8, 2) - MAE:472.1964006274497\n"
          ]
        },
        {
          "output_type": "stream",
          "name": "stderr",
          "text": [
            "/usr/local/lib/python3.7/dist-packages/statsmodels/base/model.py:492: HessianInversionWarning: Inverting hessian failed, no bse or cov_params available\n",
            "  'available', HessianInversionWarning)\n"
          ]
        },
        {
          "output_type": "stream",
          "name": "stdout",
          "text": [
            "ARMA(8, 3) - MAE:472.6627483735989\n"
          ]
        },
        {
          "output_type": "stream",
          "name": "stderr",
          "text": [
            "/usr/local/lib/python3.7/dist-packages/statsmodels/base/model.py:492: HessianInversionWarning: Inverting hessian failed, no bse or cov_params available\n",
            "  'available', HessianInversionWarning)\n"
          ]
        },
        {
          "output_type": "stream",
          "name": "stdout",
          "text": [
            "ARMA(8, 4) - MAE:471.50641854789126\n"
          ]
        },
        {
          "output_type": "stream",
          "name": "stderr",
          "text": [
            "/usr/local/lib/python3.7/dist-packages/statsmodels/tsa/tsatools.py:695: RuntimeWarning: invalid value encountered in log\n",
            "  invmacoefs = -np.log((1-macoefs)/(1+macoefs))\n"
          ]
        },
        {
          "output_type": "stream",
          "name": "stdout",
          "text": [
            "ARMA(8, 6) - MAE:474.8265328152412\n"
          ]
        },
        {
          "output_type": "stream",
          "name": "stderr",
          "text": [
            "/usr/local/lib/python3.7/dist-packages/statsmodels/base/model.py:492: HessianInversionWarning: Inverting hessian failed, no bse or cov_params available\n",
            "  'available', HessianInversionWarning)\n"
          ]
        },
        {
          "output_type": "stream",
          "name": "stdout",
          "text": [
            "ARMA(8, 8) - MAE:471.3401632748894\n",
            "ARMA(9, 0) - MAE:472.66365586709696\n",
            "ARMA(9, 1) - MAE:472.7077452956398\n",
            "ARMA(9, 2) - MAE:473.19489496630587\n"
          ]
        },
        {
          "output_type": "stream",
          "name": "stderr",
          "text": [
            "/usr/local/lib/python3.7/dist-packages/statsmodels/tsa/tsatools.py:693: RuntimeWarning: invalid value encountered in double_scalars\n",
            "  tmp[kiter] = (macoefs[kiter]-b *macoefs[j-kiter-1])/(1-b**2)\n",
            "/usr/local/lib/python3.7/dist-packages/statsmodels/tsa/tsatools.py:695: RuntimeWarning: divide by zero encountered in log\n",
            "  invmacoefs = -np.log((1-macoefs)/(1+macoefs))\n",
            "/usr/local/lib/python3.7/dist-packages/statsmodels/tsa/tsatools.py:668: RuntimeWarning: overflow encountered in exp\n",
            "  newparams = ((1-np.exp(-params))/(1+np.exp(-params))).copy()\n",
            "/usr/local/lib/python3.7/dist-packages/statsmodels/tsa/tsatools.py:668: RuntimeWarning: invalid value encountered in true_divide\n",
            "  newparams = ((1-np.exp(-params))/(1+np.exp(-params))).copy()\n",
            "/usr/local/lib/python3.7/dist-packages/statsmodels/tsa/tsatools.py:669: RuntimeWarning: overflow encountered in exp\n",
            "  tmp = ((1-np.exp(-params))/(1+np.exp(-params))).copy()\n",
            "/usr/local/lib/python3.7/dist-packages/statsmodels/tsa/tsatools.py:669: RuntimeWarning: invalid value encountered in true_divide\n",
            "  tmp = ((1-np.exp(-params))/(1+np.exp(-params))).copy()\n",
            "/usr/local/lib/python3.7/dist-packages/statsmodels/tsa/tsatools.py:651: RuntimeWarning: invalid value encountered in arctanh\n",
            "  invarcoefs = 2*np.arctanh(params)\n",
            "/usr/local/lib/python3.7/dist-packages/statsmodels/tsa/tsatools.py:695: RuntimeWarning: invalid value encountered in log\n",
            "  invmacoefs = -np.log((1-macoefs)/(1+macoefs))\n",
            "/usr/local/lib/python3.7/dist-packages/statsmodels/tsa/tsatools.py:693: RuntimeWarning: divide by zero encountered in double_scalars\n",
            "  tmp[kiter] = (macoefs[kiter]-b *macoefs[j-kiter-1])/(1-b**2)\n",
            "/usr/local/lib/python3.7/dist-packages/statsmodels/tsa/tsatools.py:695: RuntimeWarning: divide by zero encountered in true_divide\n",
            "  invmacoefs = -np.log((1-macoefs)/(1+macoefs))\n",
            "/usr/local/lib/python3.7/dist-packages/statsmodels/tsa/tsatools.py:695: RuntimeWarning: invalid value encountered in true_divide\n",
            "  invmacoefs = -np.log((1-macoefs)/(1+macoefs))\n"
          ]
        },
        {
          "output_type": "stream",
          "name": "stdout",
          "text": [
            "ARMA(9, 6) - MAE:477.0810586235174\n",
            "ARMA(9, 8) - MAE:473.4539059034151\n"
          ]
        },
        {
          "output_type": "stream",
          "name": "stderr",
          "text": [
            "/usr/local/lib/python3.7/dist-packages/statsmodels/base/model.py:492: HessianInversionWarning: Inverting hessian failed, no bse or cov_params available\n",
            "  'available', HessianInversionWarning)\n",
            "/usr/local/lib/python3.7/dist-packages/statsmodels/base/model.py:512: ConvergenceWarning: Maximum Likelihood optimization failed to converge. Check mle_retvals\n",
            "  \"Check mle_retvals\", ConvergenceWarning)\n"
          ]
        }
      ],
      "source": [
        "import itertools\n",
        "i = j = range(0, 10)\n",
        "ij = itertools.product(i,j)\n",
        "for parameters in ij:\n",
        "    try:\n",
        "        mod = ARMA(converted['converted_count'].dropna(),order=parameters)\n",
        "        results = mod.fit()\n",
        "        ypredicted = results.predict(720,732)  # end point included\n",
        "        mae = mean_absolute_error(actuals, ypredicted)\n",
        "        print('ARMA{} - MAE:{}'.format(parameters, mae))\n",
        "        #print('ARMA{} - AIC:{}'.format(parameters, results.aic))\n",
        "    except:\n",
        "        continue"
      ],
      "id": "-zh3MpfC8zFv"
    },
    {
      "cell_type": "code",
      "execution_count": 443,
      "metadata": {
        "id": "GZkCC4hX8zFw"
      },
      "outputs": [],
      "source": [
        ""
      ],
      "id": "GZkCC4hX8zFw"
    }
  ],
  "metadata": {
    "kernelspec": {
      "display_name": "Python 3 (ipykernel)",
      "language": "python",
      "name": "python3"
    },
    "language_info": {
      "codemirror_mode": {
        "name": "ipython",
        "version": 3
      },
      "file_extension": ".py",
      "mimetype": "text/x-python",
      "name": "python",
      "nbconvert_exporter": "python",
      "pygments_lexer": "ipython3",
      "version": "3.8.12"
    },
    "colab": {
      "name": "Count_ARMA.ipynb",
      "provenance": [],
      "collapsed_sections": [
        "d18a2053",
        "c9046bdd",
        "f088d8e5",
        "36de27d5",
        "565ea35e"
      ]
    }
  },
  "nbformat": 4,
  "nbformat_minor": 5
}