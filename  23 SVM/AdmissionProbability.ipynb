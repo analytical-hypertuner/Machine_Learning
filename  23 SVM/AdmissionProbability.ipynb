{
 "cells": [
  {
   "cell_type": "code",
   "execution_count": 376,
   "id": "1f21da1e",
   "metadata": {},
   "outputs": [],
   "source": [
    "import numpy as np\n",
    "import pandas as pd"
   ]
  },
  {
   "cell_type": "code",
   "execution_count": 377,
   "id": "e64d3c77",
   "metadata": {},
   "outputs": [
    {
     "data": {
      "text/plain": [
       "GRE Score  TOEFL Score  University Rating  SOP    LOR    CGPA   Research  Chance of Admit\n",
       "False      False        False              False  False  False  False     False              500\n",
       "dtype: int64"
      ]
     },
     "execution_count": 377,
     "metadata": {},
     "output_type": "execute_result"
    }
   ],
   "source": [
    "x.isna().value_counts()"
   ]
  },
  {
   "cell_type": "code",
   "execution_count": 378,
   "id": "f0c9a5e5",
   "metadata": {},
   "outputs": [],
   "source": [
    "x = pd.read_csv(r\"D:\\PG-DAI\\MachineLearning\\Dec 23 SVM\\Admission_Prediction.csv\")"
   ]
  },
  {
   "cell_type": "code",
   "execution_count": 379,
   "id": "5d8cbf4a",
   "metadata": {},
   "outputs": [],
   "source": [
    "x['GRE Score'].replace(to_replace=np.nan, value=x['GRE Score'].mean(), inplace=True, limit=None, regex=False, method='pad')"
   ]
  },
  {
   "cell_type": "code",
   "execution_count": 380,
   "id": "9c91de94",
   "metadata": {},
   "outputs": [],
   "source": [
    "x['TOEFL Score'].replace(to_replace=np.nan, value=x['TOEFL Score'].mean(), inplace=True, limit=None, regex=False, method='pad')"
   ]
  },
  {
   "cell_type": "code",
   "execution_count": 381,
   "id": "32bd61f8",
   "metadata": {},
   "outputs": [],
   "source": [
    "x['University Rating'].replace(to_replace=np.nan, value=x['University Rating'].mean(), inplace=True, limit=None, regex=False, method='pad')"
   ]
  },
  {
   "cell_type": "code",
   "execution_count": 382,
   "id": "c30005ad",
   "metadata": {},
   "outputs": [
    {
     "data": {
      "text/html": [
       "<div>\n",
       "<style scoped>\n",
       "    .dataframe tbody tr th:only-of-type {\n",
       "        vertical-align: middle;\n",
       "    }\n",
       "\n",
       "    .dataframe tbody tr th {\n",
       "        vertical-align: top;\n",
       "    }\n",
       "\n",
       "    .dataframe thead th {\n",
       "        text-align: right;\n",
       "    }\n",
       "</style>\n",
       "<table border=\"1\" class=\"dataframe\">\n",
       "  <thead>\n",
       "    <tr style=\"text-align: right;\">\n",
       "      <th></th>\n",
       "      <th>Serial No.</th>\n",
       "      <th>GRE Score</th>\n",
       "      <th>TOEFL Score</th>\n",
       "      <th>University Rating</th>\n",
       "      <th>SOP</th>\n",
       "      <th>LOR</th>\n",
       "      <th>CGPA</th>\n",
       "      <th>Research</th>\n",
       "      <th>Chance of Admit</th>\n",
       "    </tr>\n",
       "  </thead>\n",
       "  <tbody>\n",
       "    <tr>\n",
       "      <th>0</th>\n",
       "      <td>1</td>\n",
       "      <td>337.000000</td>\n",
       "      <td>118.0</td>\n",
       "      <td>4.0</td>\n",
       "      <td>4.5</td>\n",
       "      <td>4.5</td>\n",
       "      <td>9.65</td>\n",
       "      <td>1</td>\n",
       "      <td>0.92</td>\n",
       "    </tr>\n",
       "    <tr>\n",
       "      <th>1</th>\n",
       "      <td>2</td>\n",
       "      <td>324.000000</td>\n",
       "      <td>107.0</td>\n",
       "      <td>4.0</td>\n",
       "      <td>4.0</td>\n",
       "      <td>4.5</td>\n",
       "      <td>8.87</td>\n",
       "      <td>1</td>\n",
       "      <td>0.76</td>\n",
       "    </tr>\n",
       "    <tr>\n",
       "      <th>2</th>\n",
       "      <td>3</td>\n",
       "      <td>316.558763</td>\n",
       "      <td>104.0</td>\n",
       "      <td>3.0</td>\n",
       "      <td>3.0</td>\n",
       "      <td>3.5</td>\n",
       "      <td>8.00</td>\n",
       "      <td>1</td>\n",
       "      <td>0.72</td>\n",
       "    </tr>\n",
       "    <tr>\n",
       "      <th>3</th>\n",
       "      <td>4</td>\n",
       "      <td>322.000000</td>\n",
       "      <td>110.0</td>\n",
       "      <td>3.0</td>\n",
       "      <td>3.5</td>\n",
       "      <td>2.5</td>\n",
       "      <td>8.67</td>\n",
       "      <td>1</td>\n",
       "      <td>0.80</td>\n",
       "    </tr>\n",
       "    <tr>\n",
       "      <th>4</th>\n",
       "      <td>5</td>\n",
       "      <td>314.000000</td>\n",
       "      <td>103.0</td>\n",
       "      <td>2.0</td>\n",
       "      <td>2.0</td>\n",
       "      <td>3.0</td>\n",
       "      <td>8.21</td>\n",
       "      <td>0</td>\n",
       "      <td>0.65</td>\n",
       "    </tr>\n",
       "    <tr>\n",
       "      <th>...</th>\n",
       "      <td>...</td>\n",
       "      <td>...</td>\n",
       "      <td>...</td>\n",
       "      <td>...</td>\n",
       "      <td>...</td>\n",
       "      <td>...</td>\n",
       "      <td>...</td>\n",
       "      <td>...</td>\n",
       "      <td>...</td>\n",
       "    </tr>\n",
       "    <tr>\n",
       "      <th>495</th>\n",
       "      <td>496</td>\n",
       "      <td>332.000000</td>\n",
       "      <td>108.0</td>\n",
       "      <td>5.0</td>\n",
       "      <td>4.5</td>\n",
       "      <td>4.0</td>\n",
       "      <td>9.02</td>\n",
       "      <td>1</td>\n",
       "      <td>0.87</td>\n",
       "    </tr>\n",
       "    <tr>\n",
       "      <th>496</th>\n",
       "      <td>497</td>\n",
       "      <td>337.000000</td>\n",
       "      <td>117.0</td>\n",
       "      <td>5.0</td>\n",
       "      <td>5.0</td>\n",
       "      <td>5.0</td>\n",
       "      <td>9.87</td>\n",
       "      <td>1</td>\n",
       "      <td>0.96</td>\n",
       "    </tr>\n",
       "    <tr>\n",
       "      <th>497</th>\n",
       "      <td>498</td>\n",
       "      <td>330.000000</td>\n",
       "      <td>120.0</td>\n",
       "      <td>5.0</td>\n",
       "      <td>4.5</td>\n",
       "      <td>5.0</td>\n",
       "      <td>9.56</td>\n",
       "      <td>1</td>\n",
       "      <td>0.93</td>\n",
       "    </tr>\n",
       "    <tr>\n",
       "      <th>498</th>\n",
       "      <td>499</td>\n",
       "      <td>312.000000</td>\n",
       "      <td>103.0</td>\n",
       "      <td>4.0</td>\n",
       "      <td>4.0</td>\n",
       "      <td>5.0</td>\n",
       "      <td>8.43</td>\n",
       "      <td>0</td>\n",
       "      <td>0.73</td>\n",
       "    </tr>\n",
       "    <tr>\n",
       "      <th>499</th>\n",
       "      <td>500</td>\n",
       "      <td>327.000000</td>\n",
       "      <td>113.0</td>\n",
       "      <td>4.0</td>\n",
       "      <td>4.5</td>\n",
       "      <td>4.5</td>\n",
       "      <td>9.04</td>\n",
       "      <td>0</td>\n",
       "      <td>0.84</td>\n",
       "    </tr>\n",
       "  </tbody>\n",
       "</table>\n",
       "<p>500 rows × 9 columns</p>\n",
       "</div>"
      ],
      "text/plain": [
       "     Serial No.   GRE Score  TOEFL Score  University Rating  SOP  LOR  CGPA  \\\n",
       "0             1  337.000000        118.0                4.0  4.5  4.5  9.65   \n",
       "1             2  324.000000        107.0                4.0  4.0  4.5  8.87   \n",
       "2             3  316.558763        104.0                3.0  3.0  3.5  8.00   \n",
       "3             4  322.000000        110.0                3.0  3.5  2.5  8.67   \n",
       "4             5  314.000000        103.0                2.0  2.0  3.0  8.21   \n",
       "..          ...         ...          ...                ...  ...  ...   ...   \n",
       "495         496  332.000000        108.0                5.0  4.5  4.0  9.02   \n",
       "496         497  337.000000        117.0                5.0  5.0  5.0  9.87   \n",
       "497         498  330.000000        120.0                5.0  4.5  5.0  9.56   \n",
       "498         499  312.000000        103.0                4.0  4.0  5.0  8.43   \n",
       "499         500  327.000000        113.0                4.0  4.5  4.5  9.04   \n",
       "\n",
       "     Research  Chance of Admit  \n",
       "0           1             0.92  \n",
       "1           1             0.76  \n",
       "2           1             0.72  \n",
       "3           1             0.80  \n",
       "4           0             0.65  \n",
       "..        ...              ...  \n",
       "495         1             0.87  \n",
       "496         1             0.96  \n",
       "497         1             0.93  \n",
       "498         0             0.73  \n",
       "499         0             0.84  \n",
       "\n",
       "[500 rows x 9 columns]"
      ]
     },
     "execution_count": 382,
     "metadata": {},
     "output_type": "execute_result"
    }
   ],
   "source": [
    "x"
   ]
  },
  {
   "cell_type": "code",
   "execution_count": 383,
   "id": "2be17a4d",
   "metadata": {},
   "outputs": [],
   "source": [
    "del x['Serial No.']"
   ]
  },
  {
   "cell_type": "code",
   "execution_count": 384,
   "id": "84d60283",
   "metadata": {},
   "outputs": [],
   "source": [
    "from sklearn.model_selection import train_test_split\n",
    "data=x.iloc[:,:-1]\n",
    "target=x['Chance of Admit']\n",
    "x_train,x_test,y_train,y_test=train_test_split(data,target,test_size=0.20)"
   ]
  },
  {
   "cell_type": "code",
   "execution_count": 385,
   "id": "3607b1aa",
   "metadata": {},
   "outputs": [],
   "source": [
    "from sklearn.svm import SVR\n",
    "\n",
    "model = SVR()"
   ]
  },
  {
   "cell_type": "code",
   "execution_count": 386,
   "id": "7cd38a0e",
   "metadata": {},
   "outputs": [],
   "source": [
    "# x_train = x_train.values.reshape(-1,1)\n",
    "# x_test = x_train.reshape(-1,1)\n"
   ]
  },
  {
   "cell_type": "code",
   "execution_count": 387,
   "id": "b0463ee8",
   "metadata": {},
   "outputs": [
    {
     "data": {
      "text/html": [
       "<div>\n",
       "<style scoped>\n",
       "    .dataframe tbody tr th:only-of-type {\n",
       "        vertical-align: middle;\n",
       "    }\n",
       "\n",
       "    .dataframe tbody tr th {\n",
       "        vertical-align: top;\n",
       "    }\n",
       "\n",
       "    .dataframe thead th {\n",
       "        text-align: right;\n",
       "    }\n",
       "</style>\n",
       "<table border=\"1\" class=\"dataframe\">\n",
       "  <thead>\n",
       "    <tr style=\"text-align: right;\">\n",
       "      <th></th>\n",
       "      <th>GRE Score</th>\n",
       "      <th>TOEFL Score</th>\n",
       "      <th>University Rating</th>\n",
       "      <th>SOP</th>\n",
       "      <th>LOR</th>\n",
       "      <th>CGPA</th>\n",
       "      <th>Research</th>\n",
       "    </tr>\n",
       "  </thead>\n",
       "  <tbody>\n",
       "    <tr>\n",
       "      <th>239</th>\n",
       "      <td>299.0</td>\n",
       "      <td>100.0</td>\n",
       "      <td>1.0</td>\n",
       "      <td>1.5</td>\n",
       "      <td>2.0</td>\n",
       "      <td>7.89</td>\n",
       "      <td>0</td>\n",
       "    </tr>\n",
       "    <tr>\n",
       "      <th>173</th>\n",
       "      <td>323.0</td>\n",
       "      <td>113.0</td>\n",
       "      <td>4.0</td>\n",
       "      <td>4.0</td>\n",
       "      <td>4.5</td>\n",
       "      <td>9.23</td>\n",
       "      <td>1</td>\n",
       "    </tr>\n",
       "    <tr>\n",
       "      <th>453</th>\n",
       "      <td>319.0</td>\n",
       "      <td>103.0</td>\n",
       "      <td>3.0</td>\n",
       "      <td>2.5</td>\n",
       "      <td>4.0</td>\n",
       "      <td>8.76</td>\n",
       "      <td>1</td>\n",
       "    </tr>\n",
       "    <tr>\n",
       "      <th>104</th>\n",
       "      <td>326.0</td>\n",
       "      <td>112.0</td>\n",
       "      <td>3.0</td>\n",
       "      <td>3.5</td>\n",
       "      <td>3.0</td>\n",
       "      <td>9.05</td>\n",
       "      <td>1</td>\n",
       "    </tr>\n",
       "    <tr>\n",
       "      <th>21</th>\n",
       "      <td>325.0</td>\n",
       "      <td>114.0</td>\n",
       "      <td>4.0</td>\n",
       "      <td>3.0</td>\n",
       "      <td>2.0</td>\n",
       "      <td>8.40</td>\n",
       "      <td>0</td>\n",
       "    </tr>\n",
       "    <tr>\n",
       "      <th>...</th>\n",
       "      <td>...</td>\n",
       "      <td>...</td>\n",
       "      <td>...</td>\n",
       "      <td>...</td>\n",
       "      <td>...</td>\n",
       "      <td>...</td>\n",
       "      <td>...</td>\n",
       "    </tr>\n",
       "    <tr>\n",
       "      <th>139</th>\n",
       "      <td>318.0</td>\n",
       "      <td>109.0</td>\n",
       "      <td>1.0</td>\n",
       "      <td>3.5</td>\n",
       "      <td>3.5</td>\n",
       "      <td>9.12</td>\n",
       "      <td>0</td>\n",
       "    </tr>\n",
       "    <tr>\n",
       "      <th>347</th>\n",
       "      <td>299.0</td>\n",
       "      <td>94.0</td>\n",
       "      <td>1.0</td>\n",
       "      <td>1.0</td>\n",
       "      <td>1.0</td>\n",
       "      <td>7.34</td>\n",
       "      <td>0</td>\n",
       "    </tr>\n",
       "    <tr>\n",
       "      <th>457</th>\n",
       "      <td>295.0</td>\n",
       "      <td>99.0</td>\n",
       "      <td>1.0</td>\n",
       "      <td>2.0</td>\n",
       "      <td>1.5</td>\n",
       "      <td>7.57</td>\n",
       "      <td>0</td>\n",
       "    </tr>\n",
       "    <tr>\n",
       "      <th>325</th>\n",
       "      <td>326.0</td>\n",
       "      <td>116.0</td>\n",
       "      <td>3.0</td>\n",
       "      <td>3.5</td>\n",
       "      <td>4.0</td>\n",
       "      <td>9.14</td>\n",
       "      <td>1</td>\n",
       "    </tr>\n",
       "    <tr>\n",
       "      <th>25</th>\n",
       "      <td>340.0</td>\n",
       "      <td>120.0</td>\n",
       "      <td>5.0</td>\n",
       "      <td>4.5</td>\n",
       "      <td>4.5</td>\n",
       "      <td>9.60</td>\n",
       "      <td>1</td>\n",
       "    </tr>\n",
       "  </tbody>\n",
       "</table>\n",
       "<p>400 rows × 7 columns</p>\n",
       "</div>"
      ],
      "text/plain": [
       "     GRE Score  TOEFL Score  University Rating  SOP  LOR  CGPA  Research\n",
       "239      299.0        100.0                1.0  1.5  2.0  7.89         0\n",
       "173      323.0        113.0                4.0  4.0  4.5  9.23         1\n",
       "453      319.0        103.0                3.0  2.5  4.0  8.76         1\n",
       "104      326.0        112.0                3.0  3.5  3.0  9.05         1\n",
       "21       325.0        114.0                4.0  3.0  2.0  8.40         0\n",
       "..         ...          ...                ...  ...  ...   ...       ...\n",
       "139      318.0        109.0                1.0  3.5  3.5  9.12         0\n",
       "347      299.0         94.0                1.0  1.0  1.0  7.34         0\n",
       "457      295.0         99.0                1.0  2.0  1.5  7.57         0\n",
       "325      326.0        116.0                3.0  3.5  4.0  9.14         1\n",
       "25       340.0        120.0                5.0  4.5  4.5  9.60         1\n",
       "\n",
       "[400 rows x 7 columns]"
      ]
     },
     "execution_count": 387,
     "metadata": {},
     "output_type": "execute_result"
    }
   ],
   "source": [
    "x_train"
   ]
  },
  {
   "cell_type": "code",
   "execution_count": 388,
   "id": "01fd5e34",
   "metadata": {
    "scrolled": true
   },
   "outputs": [
    {
     "data": {
      "text/plain": [
       "SVR()"
      ]
     },
     "execution_count": 388,
     "metadata": {},
     "output_type": "execute_result"
    }
   ],
   "source": [
    "model.fit(x_train,y_train)"
   ]
  },
  {
   "cell_type": "code",
   "execution_count": 389,
   "id": "fbc2c4f9",
   "metadata": {},
   "outputs": [],
   "source": [
    "predict = model.predict(x_test)"
   ]
  },
  {
   "cell_type": "code",
   "execution_count": 390,
   "id": "1064ae67",
   "metadata": {},
   "outputs": [
    {
     "data": {
      "text/plain": [
       "array([0.79842413, 0.58785628, 0.75693053, 0.68694758, 0.68489116,\n",
       "       0.75563508, 0.73214108, 0.86149761, 0.78459232, 0.67119331,\n",
       "       0.66435528, 0.79417761, 0.70075444, 0.85759148, 0.62911953,\n",
       "       0.53445218, 0.79430984, 0.61530444, 0.69219656, 0.67207249,\n",
       "       0.69748132, 0.58970289, 0.76752116, 0.65780597, 0.56181875,\n",
       "       0.72920365, 0.70372174, 0.90871333, 0.66506713, 0.88791939,\n",
       "       0.65774145, 0.64619949, 0.59560372, 0.5780853 , 0.61990769,\n",
       "       0.78735025, 0.69802988, 0.69777894, 0.81749576, 0.73918516,\n",
       "       0.82216408, 0.77943644, 0.49541252, 0.59510754, 0.80947986,\n",
       "       0.75177606, 0.74531938, 0.891966  , 0.68666727, 0.79361227,\n",
       "       0.66097938, 0.71080809, 0.81733552, 0.68740492, 0.77152761,\n",
       "       0.76125066, 0.57187683, 0.68360568, 0.67463896, 0.7780645 ,\n",
       "       0.70242086, 0.6649329 , 0.66981752, 0.89036453, 0.74824798,\n",
       "       0.57323302, 0.6616027 , 0.82884112, 0.66047946, 0.87770475,\n",
       "       0.52071183, 0.63669407, 0.66188152, 0.67374324, 0.64457602,\n",
       "       0.69714466, 0.69878669, 0.58159421, 0.62456121, 0.83061415,\n",
       "       0.78165276, 0.87979063, 0.92095342, 0.62546014, 0.66732396,\n",
       "       0.77094878, 0.73701187, 0.61819942, 0.90888935, 0.88000087,\n",
       "       0.76475098, 0.66271068, 0.57706631, 0.59505779, 0.69385221,\n",
       "       0.66701755, 0.56332064, 0.65567332, 0.6322232 , 0.72297643])"
      ]
     },
     "execution_count": 390,
     "metadata": {},
     "output_type": "execute_result"
    }
   ],
   "source": [
    "predict"
   ]
  },
  {
   "cell_type": "code",
   "execution_count": 391,
   "id": "5d847f0a",
   "metadata": {},
   "outputs": [
    {
     "data": {
      "text/plain": [
       "0.7152184496819456"
      ]
     },
     "execution_count": 391,
     "metadata": {},
     "output_type": "execute_result"
    }
   ],
   "source": [
    "from sklearn.metrics import r2_score\n",
    "\n",
    "r2_score(y_test, predict)"
   ]
  },
  {
   "cell_type": "code",
   "execution_count": 392,
   "id": "11e6c6e8",
   "metadata": {},
   "outputs": [
    {
     "data": {
      "text/plain": [
       "0.7152184496819456"
      ]
     },
     "execution_count": 392,
     "metadata": {},
     "output_type": "execute_result"
    }
   ],
   "source": [
    "model.score(x_test,y_test)"
   ]
  },
  {
   "cell_type": "code",
   "execution_count": 393,
   "id": "e0c091a5",
   "metadata": {},
   "outputs": [],
   "source": [
    "from sklearn.model_selection import GridSearchCV\n",
    "\n",
    "param_grid={'C':[0.01 , 1], 'kernel':['rbf' , 'poly', 'linear'] }\n",
    "\n",
    "grid= GridSearchCV(model,param_grid,cv =5)"
   ]
  },
  {
   "cell_type": "code",
   "execution_count": 394,
   "id": "2d7ca0af",
   "metadata": {},
   "outputs": [
    {
     "data": {
      "text/plain": [
       "GridSearchCV(cv=5, estimator=SVR(),\n",
       "             param_grid={'C': [0.01, 1], 'kernel': ['rbf', 'poly', 'linear']})"
      ]
     },
     "execution_count": 394,
     "metadata": {},
     "output_type": "execute_result"
    }
   ],
   "source": [
    "grid.fit(x_train,y_train)"
   ]
  },
  {
   "cell_type": "code",
   "execution_count": 395,
   "id": "879087ec",
   "metadata": {},
   "outputs": [
    {
     "data": {
      "text/plain": [
       "0.7765732659953086"
      ]
     },
     "execution_count": 395,
     "metadata": {},
     "output_type": "execute_result"
    }
   ],
   "source": [
    "grid.best_score_"
   ]
  },
  {
   "cell_type": "code",
   "execution_count": 396,
   "id": "b6670522",
   "metadata": {},
   "outputs": [
    {
     "data": {
      "text/plain": [
       "{'C': 1, 'kernel': 'linear'}"
      ]
     },
     "execution_count": 396,
     "metadata": {},
     "output_type": "execute_result"
    }
   ],
   "source": [
    "grid.best_params_"
   ]
  }
 ],
 "metadata": {
  "kernelspec": {
   "display_name": "Python 3 (ipykernel)",
   "language": "python",
   "name": "python3"
  },
  "language_info": {
   "codemirror_mode": {
    "name": "ipython",
    "version": 3
   },
   "file_extension": ".py",
   "mimetype": "text/x-python",
   "name": "python",
   "nbconvert_exporter": "python",
   "pygments_lexer": "ipython3",
   "version": "3.8.12"
  }
 },
 "nbformat": 4,
 "nbformat_minor": 5
}
